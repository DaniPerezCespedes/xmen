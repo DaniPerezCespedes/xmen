{
 "cells": [
  {
   "cell_type": "raw",
   "id": "07afb9f0-3bbf-45c4-a11b-54355b5c5509",
   "metadata": {},
   "source": [
    "1) Transfer valid codes from https://temu.bsc.es/cantemist/wp-content/uploads/2020/07/valid-codes.txt to a tsv file"
   ]
  },
  {
   "cell_type": "code",
   "execution_count": 2,
   "id": "ce93a37f-c959-4c3a-bddc-d71f60ec1fdc",
   "metadata": {},
   "outputs": [
    {
     "ename": "FileNotFoundError",
     "evalue": "[Errno 2] No such file or directory: 'Cantemist/ICD-O valid codes DP.tsv'",
     "output_type": "error",
     "traceback": [
      "\u001b[0;31m---------------------------------------------------------------------------\u001b[0m",
      "\u001b[0;31mFileNotFoundError\u001b[0m                         Traceback (most recent call last)",
      "Cell \u001b[0;32mIn[2], line 8\u001b[0m\n\u001b[1;32m      5\u001b[0m tsv_file_path \u001b[38;5;241m=\u001b[39m \u001b[38;5;124m\"\u001b[39m\u001b[38;5;124mCantemist/ICD-O valid codes DP.tsv\u001b[39m\u001b[38;5;124m\"\u001b[39m\n\u001b[1;32m      7\u001b[0m \u001b[38;5;66;03m# Open the TSV file using the 'r' mode (read mode)\u001b[39;00m\n\u001b[0;32m----> 8\u001b[0m \u001b[38;5;28;01mwith\u001b[39;00m \u001b[38;5;28;43mopen\u001b[39;49m\u001b[43m(\u001b[49m\u001b[43mtsv_file_path\u001b[49m\u001b[43m,\u001b[49m\u001b[43m \u001b[49m\u001b[38;5;124;43m'\u001b[39;49m\u001b[38;5;124;43mr\u001b[39;49m\u001b[38;5;124;43m'\u001b[39;49m\u001b[43m,\u001b[49m\u001b[43m \u001b[49m\u001b[43mnewline\u001b[49m\u001b[38;5;241;43m=\u001b[39;49m\u001b[38;5;124;43m'\u001b[39;49m\u001b[38;5;124;43m'\u001b[39;49m\u001b[43m,\u001b[49m\u001b[43m \u001b[49m\u001b[43mencoding\u001b[49m\u001b[38;5;241;43m=\u001b[39;49m\u001b[38;5;124;43m'\u001b[39;49m\u001b[38;5;124;43mutf-8\u001b[39;49m\u001b[38;5;124;43m'\u001b[39;49m\u001b[43m)\u001b[49m \u001b[38;5;28;01mas\u001b[39;00m tsv_file:\n\u001b[1;32m      9\u001b[0m     \u001b[38;5;66;03m# Create a CSV reader object with tab delimiter\u001b[39;00m\n\u001b[1;32m     10\u001b[0m     tsv_reader \u001b[38;5;241m=\u001b[39m csv\u001b[38;5;241m.\u001b[39mreader(tsv_file, delimiter\u001b[38;5;241m=\u001b[39m\u001b[38;5;124m'\u001b[39m\u001b[38;5;130;01m\\t\u001b[39;00m\u001b[38;5;124m'\u001b[39m)\n",
      "File \u001b[0;32m~/conda3/envs/xmen/lib/python3.10/site-packages/IPython/core/interactiveshell.py:310\u001b[0m, in \u001b[0;36m_modified_open\u001b[0;34m(file, *args, **kwargs)\u001b[0m\n\u001b[1;32m    303\u001b[0m \u001b[38;5;28;01mif\u001b[39;00m file \u001b[38;5;129;01min\u001b[39;00m {\u001b[38;5;241m0\u001b[39m, \u001b[38;5;241m1\u001b[39m, \u001b[38;5;241m2\u001b[39m}:\n\u001b[1;32m    304\u001b[0m     \u001b[38;5;28;01mraise\u001b[39;00m \u001b[38;5;167;01mValueError\u001b[39;00m(\n\u001b[1;32m    305\u001b[0m         \u001b[38;5;124mf\u001b[39m\u001b[38;5;124m\"\u001b[39m\u001b[38;5;124mIPython won\u001b[39m\u001b[38;5;124m'\u001b[39m\u001b[38;5;124mt let you open fd=\u001b[39m\u001b[38;5;132;01m{\u001b[39;00mfile\u001b[38;5;132;01m}\u001b[39;00m\u001b[38;5;124m by default \u001b[39m\u001b[38;5;124m\"\u001b[39m\n\u001b[1;32m    306\u001b[0m         \u001b[38;5;124m\"\u001b[39m\u001b[38;5;124mas it is likely to crash IPython. If you know what you are doing, \u001b[39m\u001b[38;5;124m\"\u001b[39m\n\u001b[1;32m    307\u001b[0m         \u001b[38;5;124m\"\u001b[39m\u001b[38;5;124myou can use builtins\u001b[39m\u001b[38;5;124m'\u001b[39m\u001b[38;5;124m open.\u001b[39m\u001b[38;5;124m\"\u001b[39m\n\u001b[1;32m    308\u001b[0m     )\n\u001b[0;32m--> 310\u001b[0m \u001b[38;5;28;01mreturn\u001b[39;00m \u001b[43mio_open\u001b[49m\u001b[43m(\u001b[49m\u001b[43mfile\u001b[49m\u001b[43m,\u001b[49m\u001b[43m \u001b[49m\u001b[38;5;241;43m*\u001b[39;49m\u001b[43margs\u001b[49m\u001b[43m,\u001b[49m\u001b[43m \u001b[49m\u001b[38;5;241;43m*\u001b[39;49m\u001b[38;5;241;43m*\u001b[39;49m\u001b[43mkwargs\u001b[49m\u001b[43m)\u001b[49m\n",
      "\u001b[0;31mFileNotFoundError\u001b[0m: [Errno 2] No such file or directory: 'Cantemist/ICD-O valid codes DP.tsv'"
     ]
    }
   ],
   "source": [
    "import csv\n",
    "\n",
    "# Path to your TSV file\n",
    "#tsv_file_path = 'C:\\\\Users\\\\Daniela\\\\xmen\\\\Cantemist\\\\ICD-O valid codes DP.tsv'\n",
    "tsv_file_path = \"Cantemist/ICD-O valid codes DP.tsv\"\n",
    "\n",
    "# Open the TSV file using the 'r' mode (read mode)\n",
    "with open(tsv_file_path, 'r', newline='', encoding='utf-8') as tsv_file:\n",
    "    # Create a CSV reader object with tab delimiter\n",
    "    tsv_reader = csv.reader(tsv_file, delimiter='\\t')\n"
   ]
  },
  {
   "cell_type": "raw",
   "id": "d7b17c57-9296-4d82-9442-2fa939ad9b7b",
   "metadata": {},
   "source": [
    "2) Count how many codes are in total in the cantemist data base"
   ]
  },
  {
   "cell_type": "code",
   "execution_count": 142,
   "id": "e17c4e66-ea4c-4afb-81db-40d9db05a4e4",
   "metadata": {},
   "outputs": [
    {
     "name": "stdout",
     "output_type": "stream",
     "text": [
      "58063\n"
     ]
    }
   ],
   "source": [
    "# Contador de líneas con la primera celda llena y la segunda celda vacía\n",
    "count_lines = 0\n",
    "\n",
    "with open('icdo-valid-codes.tsv', 'r', encoding='UTF-8') as tsv_file:\n",
    "    for line in tsv_file:\n",
    "            count_lines += 1\n",
    "\n",
    "print(count_lines)"
   ]
  },
  {
   "cell_type": "raw",
   "id": "b0084418-a49e-4dcd-9912-469193371249",
   "metadata": {},
   "source": [
    "3) Count how many codes have a description --> 2° column is not empty"
   ]
  },
  {
   "cell_type": "code",
   "execution_count": 59,
   "id": "87d5653c-0159-4240-9b85-91b2809023a6",
   "metadata": {},
   "outputs": [
    {
     "name": "stdout",
     "output_type": "stream",
     "text": [
      "ICD-O codes with description in Candemist data base: 4206\n"
     ]
    }
   ],
   "source": [
    "# Count at 0\n",
    "count_descrip = 0\n",
    "\n",
    "with open('icdo-valid-codes.tsv', 'r', encoding='UTF-8') as tsv_file:\n",
    "    for line in tsv_file:\n",
    "        # Divide the row in columns using tabs as divider\n",
    "        columns = line.strip().split('\\t')\n",
    "        # Verify if there are 2 more or equal columns and verifiy\n",
    "        # columns[0].strip verifies if the cell has content after removing the white spaces. If it's empty, will return False\n",
    "        # True = 1, False = 0\n",
    "        # if the cell has something after removing the white spaces, then returns True --> +1\n",
    "        # if both columns have content per row, then it will add a true\n",
    "        if len(columns) >= 2 and columns[0].strip() and columns[1].strip():\n",
    "            # Incrementar el contador de líneas\n",
    "            count_descrip += 1\n",
    "\n",
    "print(\"ICD-O codes with description in Candemist data base:\", count_descrip)"
   ]
  },
  {
   "cell_type": "code",
   "execution_count": 60,
   "id": "e1589944-9235-40f8-a9bf-5531f82c1b28",
   "metadata": {},
   "outputs": [
    {
     "name": "stdout",
     "output_type": "stream",
     "text": [
      "Percentage of codes with description in Candemist data base 7.244105337489881 %\n"
     ]
    }
   ],
   "source": [
    "print(\"Percentage of codes with description in Candemist data base\",(4206/58061)*100,\"%\")\n"
   ]
  },
  {
   "cell_type": "raw",
   "id": "f4f901f0-728f-462c-ae83-82c9752743d4",
   "metadata": {},
   "source": [
    "4) Import files from Cantemist zip"
   ]
  },
  {
   "cell_type": "code",
   "execution_count": 61,
   "id": "32afafb5-1565-40c4-86ae-1e832ecc50cc",
   "metadata": {
    "scrolled": true
   },
   "outputs": [
    {
     "name": "stdout",
     "output_type": "stream",
     "text": [
      "Files in zip folder:\n",
      "dev-set1-to-publish/\n",
      "dev-set1-to-publish/cantemist-norm/\n",
      "dev-set1-to-publish/cantemist-norm/cc_onco861.ann\n",
      "dev-set1-to-publish/cantemist-norm/cc_onco716.ann\n",
      "dev-set1-to-publish/cantemist-norm/cc_onco11.ann\n",
      "dev-set1-to-publish/cantemist-norm/cc_onco106.ann\n",
      "dev-set1-to-publish/cantemist-norm/cc_onco563.ann\n",
      "dev-set1-to-publish/cantemist-norm/cc_onco43.ann\n",
      "dev-set1-to-publish/cantemist-norm/cc_onco224.ann\n",
      "dev-set1-to-publish/cantemist-norm/cc_onco740.ann\n"
     ]
    }
   ],
   "source": [
    "import zipfile\n",
    "\n",
    "#Select rout\n",
    "zip_file_path ='C:\\\\Users\\\\Daniela\\\\Desktop\\\\HandsonAI\\\\data\\\\datasets\\\\cantemist.zip'\n",
    "with zipfile.ZipFile(zip_file_path, 'r') as zip_ref:\n",
    "    # list all the files in the zip folder\n",
    "    file_list = zip_ref.namelist()\n",
    "\n",
    "    # Print first 10 files of the zip folder\n",
    "    print(\"Files in zip folder:\")\n",
    "    for file in file_list[:10]:\n",
    "        print(file)"
   ]
  },
  {
   "cell_type": "raw",
   "id": "42175a98-b6f4-4e7c-94b4-c8d9993705ca",
   "metadata": {},
   "source": [
    "5) Count how many different unique files we have --> they always start with cc_onco (ex: cc_onco740.ann)"
   ]
  },
  {
   "cell_type": "code",
   "execution_count": 62,
   "id": "22cc49c0-a051-4f66-aadc-0c88ac53baef",
   "metadata": {},
   "outputs": [
    {
     "name": "stdout",
     "output_type": "stream",
     "text": [
      "Number of unique files in the ZIP: 2501\n"
     ]
    }
   ],
   "source": [
    "import zipfile\n",
    "import os\n",
    "\n",
    "def get_unique_files(zip_file_path):\n",
    "    unique_files = set()\n",
    "\n",
    "    with zipfile.ZipFile(zip_file_path, 'r') as zip_ref:\n",
    "        for file_name in zip_ref.namelist():\n",
    "            # Verify if file starts 'cc_onco'\n",
    "            if os.path.basename(file_name).startswith('cc_onco'):\n",
    "                unique_files.add(os.path.basename(file_name))\n",
    "\n",
    "    return unique_files\n",
    "\n",
    "unique_files = get_unique_files(zip_file_path)\n",
    "q_unique_files = len(unique_files)\n",
    "print(\"Number of unique files in the ZIP:\", q_unique_files)"
   ]
  },
  {
   "cell_type": "raw",
   "id": "5c68ccdd-1d24-4a1f-ba20-8244e09071f5",
   "metadata": {},
   "source": [
    "6) Obtain the annotations --> for after get all the ICD-10 codes mentioned, and do some statistical analysis\n",
    "\n",
    "An annotation looks like this:\n",
    "\n",
    "T1\tMORFOLOGIA_NEOPLASIA 2719 2740\tCarcinoma microcítico\n",
    "#1\tAnnotatorNotes T1\t8041/3\n",
    "T2\tMORFOLOGIA_NEOPLASIA 2950 2971\tcarcinoma microcítico\n",
    "#2\tAnnotatorNotes T2\t8041/3\n",
    "T3\tMORFOLOGIA_NEOPLASIA 2988 2990\tM0\n",
    "#3\tAnnotatorNotes T3\t8000/6\n",
    "\n",
    "Read it like:\n",
    "- 1° column: identifier of each annotation\n",
    "- 2° column: label describing the entity (NER process)\n",
    "- 3° column: indexes of characters where the text is written --> ex: 2719 2740 Carcinoma microcítico --> annotation goes from character 2719 till 2740 in the original text\n",
    "- 4° Column: Shows the mention of the tumor identified in original text\n",
    "- 5° column: shows the ICDO code associated with the mention (normalization process)"
   ]
  },
  {
   "cell_type": "code",
   "execution_count": 103,
   "id": "b8872ef9-193e-4cde-896a-70aa49cc18f7",
   "metadata": {},
   "outputs": [
    {
     "name": "stdout",
     "output_type": "stream",
     "text": [
      "                                                    File Number of annotation  \\\n",
      "0      dev-set1-to-publish/cantemist-norm/cc_onco861.ann                   #1   \n",
      "1      dev-set1-to-publish/cantemist-norm/cc_onco861.ann                   #2   \n",
      "2      dev-set1-to-publish/cantemist-norm/cc_onco861.ann                   #3   \n",
      "3      dev-set1-to-publish/cantemist-norm/cc_onco861.ann                   #4   \n",
      "4      dev-set1-to-publish/cantemist-norm/cc_onco861.ann                   #5   \n",
      "...                                                  ...                  ...   \n",
      "12392  train-set-to-publish/cantemist-norm/cc_onco644...                   #9   \n",
      "12393  train-set-to-publish/cantemist-norm/cc_onco644...                  #10   \n",
      "12394  train-set-to-publish/cantemist-norm/cc_onco644...                  #11   \n",
      "12395  train-set-to-publish/cantemist-norm/cc_onco644...                  #12   \n",
      "12396  train-set-to-publish/cantemist-norm/cc_onco644...                  #13   \n",
      "\n",
      "      Label of annotation ICD-O code  \n",
      "0       AnnotatorNotes T1     8000/6  \n",
      "1       AnnotatorNotes T2     8000/6  \n",
      "2       AnnotatorNotes T3     9500/3  \n",
      "3       AnnotatorNotes T4     9500/3  \n",
      "4       AnnotatorNotes T5     9500/3  \n",
      "...                   ...        ...  \n",
      "12392   AnnotatorNotes T9   8010/3/H  \n",
      "12393  AnnotatorNotes T10     8500/3  \n",
      "12394  AnnotatorNotes T11     8000/6  \n",
      "12395  AnnotatorNotes T12     8500/3  \n",
      "12396  AnnotatorNotes T13     8000/6  \n",
      "\n",
      "[12397 rows x 4 columns]\n"
     ]
    }
   ],
   "source": [
    "import pandas as pd\n",
    "# Lists to store info\n",
    "file_names = []\n",
    "annotation_numbers = []\n",
    "annotation_labels = []\n",
    "annotation_ICDO_codes = []\n",
    "\n",
    "with zipfile.ZipFile(zip_file_path, 'r') as zip_ref:\n",
    "    for file_info in zip_ref.infolist():\n",
    "        # Extract the name of the file\n",
    "        file_name = file_info.filename\n",
    "        # Determine the file type --> only requires ann, then we split the file name by the \".\" and review the last one created [-1]\n",
    "        file_type = file_name.split('.')[-1].lower()\n",
    "        if file_type == 'ann':\n",
    "            # read the content of the file ---> UTF-8 is needed\n",
    "            file_content = zip_ref.read(file_name).decode('utf-8')\n",
    "        # Divide the content in lines, in order to extract the annotations --> divider is a new line: \\n\n",
    "            for line in file_content.split('\\n'):\n",
    "                if line.startswith(\"#\"): #annotation of the code starts with \"#\"\n",
    "                    parts = line.split('\\t') #tabular divider\n",
    "                    if len(parts) >= 3:\n",
    "                        annotation_numbers.append(parts[0]) #column 1\n",
    "                        annotation_labels.append(parts[1]) #column 2\n",
    "                        annotation_ICDO_codes.append(parts[2]) #column 3\n",
    "                        file_names.append(file_name)\n",
    "\n",
    "# Create a DataFrame in Pandas with the data\n",
    "df = pd.DataFrame({\n",
    "    'File': file_names,\n",
    "    'Number of annotation': annotation_numbers,\n",
    "    'Label of annotation': annotation_labels,\n",
    "    'ICD-O code': annotation_ICDO_codes,\n",
    "})\n",
    "print(df)"
   ]
  },
  {
   "cell_type": "raw",
   "id": "15486769-4a65-4dd0-8849-f7bb2672f554",
   "metadata": {},
   "source": [
    "7) How many unique ICD-O codes are in the Cantemist data base"
   ]
  },
  {
   "cell_type": "code",
   "execution_count": 64,
   "id": "d6495435-b2e0-4f54-bc5b-76408d22b9f9",
   "metadata": {
    "scrolled": true
   },
   "outputs": [
    {
     "name": "stdout",
     "output_type": "stream",
     "text": [
      "Q unique ICD-O: 743\n"
     ]
    }
   ],
   "source": [
    "# Count the unique ICD-O\n",
    "unique_icdo = df['ICD-O code'].nunique()\n",
    "\n",
    "print(\"Q unique ICD-O:\", unique_icdo)"
   ]
  },
  {
   "cell_type": "raw",
   "id": "97944b9b-3050-4534-a14c-ed9688339244",
   "metadata": {},
   "source": [
    "8) How many annotations per text"
   ]
  },
  {
   "cell_type": "code",
   "execution_count": 69,
   "id": "f777b202-d49e-4af2-b20c-0c0d8ffc7c9c",
   "metadata": {},
   "outputs": [
    {
     "name": "stdout",
     "output_type": "stream",
     "text": [
      "Q of annotations per file:\n",
      "File\n",
      "dev-set1-to-publish/cantemist-norm/cc_onco299.ann     50\n",
      "dev-set1-to-publish/cantemist-norm/cc_onco258.ann     50\n",
      "dev-set2-to-publish/cantemist-norm/cc_onco1241.ann    43\n",
      "train-set-to-publish/cantemist-norm/cc_onco395.ann    42\n",
      "train-set-to-publish/cantemist-norm/cc_onco572.ann    40\n",
      "                                                      ..\n",
      "train-set-to-publish/cantemist-norm/cc_onco709.ann     1\n",
      "dev-set2-to-publish/cantemist-norm/cc_onco1314.ann     1\n",
      "train-set-to-publish/cantemist-norm/cc_onco728.ann     1\n",
      "dev-set2-to-publish/cantemist-norm/cc_onco1054.ann     1\n",
      "dev-set2-to-publish/cantemist-norm/cc_onco1138.ann     1\n",
      "Name: count, Length: 1000, dtype: int64\n"
     ]
    }
   ],
   "source": [
    "annotations_per_file = df['File'].value_counts()\n",
    "\n",
    "print(\"Q of annotations per file:\")\n",
    "print(annotations_per_file)"
   ]
  },
  {
   "cell_type": "raw",
   "id": "0f4cf54a-7fd0-4f30-b9b6-ed60fc5a3d85",
   "metadata": {},
   "source": [
    "Calculate median and average of annotations per file"
   ]
  },
  {
   "cell_type": "code",
   "execution_count": 143,
   "id": "a44b5f60-780e-4bb6-9dab-c974ee3ce664",
   "metadata": {},
   "outputs": [
    {
     "name": "stdout",
     "output_type": "stream",
     "text": [
      "Mean of annotations per file: 12.397\n",
      "Meadian of annotations per file: 11.0\n"
     ]
    }
   ],
   "source": [
    "# Mean of annotations per file\n",
    "mean_annotations = annotations_per_file.mean()\n",
    "print(\"Mean of annotations per file:\", mean_annotations)\n",
    "# Meadian of annotations per file\n",
    "median_annotations = annotations_per_file.median()\n",
    "print(\"Meadian of annotations per file:\", median_annotations)\n"
   ]
  },
  {
   "cell_type": "raw",
   "id": "92018606-f285-4366-8c78-4f9e50391019",
   "metadata": {},
   "source": [
    "Do an histogram to see how many annotations per file"
   ]
  },
  {
   "cell_type": "code",
   "execution_count": 136,
   "id": "17595885-dced-4ad1-a1f0-57c3fa7d7539",
   "metadata": {},
   "outputs": [
    {
     "name": "stdout",
     "output_type": "stream",
     "text": [
      "Requirement already satisfied: matplotlib in c:\\users\\daniela\\anaconda3\\envs\\xmen\\lib\\site-packages (3.8.4)\n",
      "Requirement already satisfied: contourpy>=1.0.1 in c:\\users\\daniela\\anaconda3\\envs\\xmen\\lib\\site-packages (from matplotlib) (1.2.1)\n",
      "Requirement already satisfied: cycler>=0.10 in c:\\users\\daniela\\anaconda3\\envs\\xmen\\lib\\site-packages (from matplotlib) (0.12.1)\n",
      "Requirement already satisfied: fonttools>=4.22.0 in c:\\users\\daniela\\anaconda3\\envs\\xmen\\lib\\site-packages (from matplotlib) (4.51.0)\n",
      "Requirement already satisfied: kiwisolver>=1.3.1 in c:\\users\\daniela\\anaconda3\\envs\\xmen\\lib\\site-packages (from matplotlib) (1.4.5)\n",
      "Requirement already satisfied: numpy>=1.21 in c:\\users\\daniela\\anaconda3\\envs\\xmen\\lib\\site-packages (from matplotlib) (1.26.4)\n",
      "Requirement already satisfied: packaging>=20.0 in c:\\users\\daniela\\appdata\\roaming\\python\\python310\\site-packages (from matplotlib) (24.0)\n",
      "Requirement already satisfied: pillow>=8 in c:\\users\\daniela\\anaconda3\\envs\\xmen\\lib\\site-packages (from matplotlib) (10.3.0)\n",
      "Requirement already satisfied: pyparsing>=2.3.1 in c:\\users\\daniela\\anaconda3\\envs\\xmen\\lib\\site-packages (from matplotlib) (3.1.2)\n",
      "Requirement already satisfied: python-dateutil>=2.7 in c:\\users\\daniela\\appdata\\roaming\\python\\python310\\site-packages (from matplotlib) (2.9.0.post0)\n",
      "Requirement already satisfied: six>=1.5 in c:\\users\\daniela\\appdata\\roaming\\python\\python310\\site-packages (from python-dateutil>=2.7->matplotlib) (1.16.0)\n"
     ]
    }
   ],
   "source": [
    "!pip install matplotlib"
   ]
  },
  {
   "cell_type": "code",
   "execution_count": 137,
   "id": "dbec65b4-3665-4800-9c75-ce57fad5a32f",
   "metadata": {},
   "outputs": [
    {
     "name": "stdout",
     "output_type": "stream",
     "text": [
      "Requirement already satisfied: seaborn in c:\\users\\daniela\\anaconda3\\envs\\xmen\\lib\\site-packages (0.13.2)\n",
      "Requirement already satisfied: numpy!=1.24.0,>=1.20 in c:\\users\\daniela\\anaconda3\\envs\\xmen\\lib\\site-packages (from seaborn) (1.26.4)\n",
      "Requirement already satisfied: pandas>=1.2 in c:\\users\\daniela\\anaconda3\\envs\\xmen\\lib\\site-packages (from seaborn) (2.2.2)\n",
      "Requirement already satisfied: matplotlib!=3.6.1,>=3.4 in c:\\users\\daniela\\anaconda3\\envs\\xmen\\lib\\site-packages (from seaborn) (3.8.4)\n",
      "Requirement already satisfied: contourpy>=1.0.1 in c:\\users\\daniela\\anaconda3\\envs\\xmen\\lib\\site-packages (from matplotlib!=3.6.1,>=3.4->seaborn) (1.2.1)\n",
      "Requirement already satisfied: cycler>=0.10 in c:\\users\\daniela\\anaconda3\\envs\\xmen\\lib\\site-packages (from matplotlib!=3.6.1,>=3.4->seaborn) (0.12.1)\n",
      "Requirement already satisfied: fonttools>=4.22.0 in c:\\users\\daniela\\anaconda3\\envs\\xmen\\lib\\site-packages (from matplotlib!=3.6.1,>=3.4->seaborn) (4.51.0)\n",
      "Requirement already satisfied: kiwisolver>=1.3.1 in c:\\users\\daniela\\anaconda3\\envs\\xmen\\lib\\site-packages (from matplotlib!=3.6.1,>=3.4->seaborn) (1.4.5)\n",
      "Requirement already satisfied: packaging>=20.0 in c:\\users\\daniela\\appdata\\roaming\\python\\python310\\site-packages (from matplotlib!=3.6.1,>=3.4->seaborn) (24.0)\n",
      "Requirement already satisfied: pillow>=8 in c:\\users\\daniela\\anaconda3\\envs\\xmen\\lib\\site-packages (from matplotlib!=3.6.1,>=3.4->seaborn) (10.3.0)\n",
      "Requirement already satisfied: pyparsing>=2.3.1 in c:\\users\\daniela\\anaconda3\\envs\\xmen\\lib\\site-packages (from matplotlib!=3.6.1,>=3.4->seaborn) (3.1.2)\n",
      "Requirement already satisfied: python-dateutil>=2.7 in c:\\users\\daniela\\appdata\\roaming\\python\\python310\\site-packages (from matplotlib!=3.6.1,>=3.4->seaborn) (2.9.0.post0)\n",
      "Requirement already satisfied: pytz>=2020.1 in c:\\users\\daniela\\anaconda3\\envs\\xmen\\lib\\site-packages (from pandas>=1.2->seaborn) (2024.1)\n",
      "Requirement already satisfied: tzdata>=2022.7 in c:\\users\\daniela\\anaconda3\\envs\\xmen\\lib\\site-packages (from pandas>=1.2->seaborn) (2024.1)\n",
      "Requirement already satisfied: six>=1.5 in c:\\users\\daniela\\appdata\\roaming\\python\\python310\\site-packages (from python-dateutil>=2.7->matplotlib!=3.6.1,>=3.4->seaborn) (1.16.0)\n"
     ]
    }
   ],
   "source": [
    "! pip install seaborn"
   ]
  },
  {
   "cell_type": "code",
   "execution_count": 71,
   "id": "f43a74ea-052d-40c8-9781-aa77c4fb8eb7",
   "metadata": {},
   "outputs": [
    {
     "data": {
      "image/png": "[encoded data removed]",
      "text/plain": [
       "<Figure size 1000x600 with 1 Axes>"
      ]
     },
     "metadata": {},
     "output_type": "display_data"
    }
   ],
   "source": [
    "import matplotlib.pyplot as plt\n",
    "import seaborn as sns\n",
    "\n",
    "# Style of the plot\n",
    "sns.set(style=\"white\")\n",
    "\n",
    "# Create histogram\n",
    "plt.figure(figsize=(10, 6))\n",
    "sns.histplot(data=annotations_per_file, bins=10, kde=True)\n",
    "plt.title('Amount of annotations per file')\n",
    "plt.xlabel('Number of annotations')\n",
    "plt.ylabel('Frecuency')\n",
    "plt.show()"
   ]
  },
  {
   "cell_type": "raw",
   "id": "5cde828f-49f6-468c-a47b-fa3736ab0f50",
   "metadata": {},
   "source": [
    "See frecuency of codes in Cantemist data base"
   ]
  },
  {
   "cell_type": "code",
   "execution_count": 99,
   "id": "5d0b56c0-c733-47cd-9d81-8ae4c232d17f",
   "metadata": {},
   "outputs": [
    {
     "name": "stdout",
     "output_type": "stream",
     "text": [
      "    ICD-O code  Frequency\n",
      "12      8000/6       4480\n",
      "1       8000/1       2182\n",
      "7       8000/3        756\n",
      "143     8140/3        395\n",
      "42      8010/3        188\n",
      "330     8500/3        179\n",
      "152     8140/6        178\n",
      "411     8720/3        137\n",
      "52      8010/9        112\n",
      "16      8001/1        107\n",
      "91      8070/3         93\n",
      "18      8001/3         90\n",
      "48      8010/6         85\n",
      "75      8041/3         74\n",
      "208     8240/3         71\n",
      "413     8720/6         70\n",
      "497     8936/3         44\n",
      "335    8500/33         44\n",
      "149    8140/33         44\n",
      "677     9590/3         43\n"
     ]
    }
   ],
   "source": [
    "# Group by 'ICD-O code' and 'Label of annotation', then count the occurrences\n",
    "\n",
    "#1) create groups of rows where the values in the 'ICD-O code' column are the same.\n",
    "#2) Obtaine the size of each group\n",
    "#3) .reset_index(name='Frequency'): This resets the index of the resulting DataFrame and assigns a new name 'Frequency' to the column containing the sizes of the groups. \n",
    "#By default, when you perform a groupby operation in pandas, the resulting DataFrame has a hierarchical index, which may not always be convenient. \n",
    "#Resetting the index converts the group labels back into columns, and you can specify the name of the column containing the group sizes using the name parameter.\n",
    "frequency_df = df.groupby(['ICD-O code']).size().reset_index(name='Frequency')\n",
    "\n",
    "# Do a top 20 of most frequent codes\n",
    "frequency_df = frequency_df.sort_values(by='Frequency', ascending=False)\n",
    "top_20_df = frequency_df.head(20)\n",
    "\n",
    "print(top_20_df)"
   ]
  },
  {
   "cell_type": "raw",
   "id": "86bcbe23-028b-4c4e-b02d-3032cb025d26",
   "metadata": {},
   "source": [
    "Match top20 codes with valid name"
   ]
  },
  {
   "cell_type": "code",
   "execution_count": 120,
   "id": "c9b85843-53c0-4083-a964-0dd8d1e09a55",
   "metadata": {
    "scrolled": true
   },
   "outputs": [
    {
     "name": "stdout",
     "output_type": "stream",
     "text": [
      "   ICD-O code  Frequency                                      Description 1  \\\n",
      "0      8000/6       4480                              Neoplasia metastásica   \n",
      "1      8000/1       2182      Neoplasia de benignidad o malignidad incierta   \n",
      "2      8000/3        756                                  Neoplasia maligna   \n",
      "3      8140/3        395                                Adenocarcinoma, SAI   \n",
      "4      8010/3        188                                     Carcinoma, SAI   \n",
      "5      8500/3        179                  Carcinoma ductal infiltrante, SAI   \n",
      "6      8140/6        178                    Adenocarcinoma metastásico, SAI   \n",
      "7      8720/3        137                              Melanoma maligno, SAI   \n",
      "8      8010/9        112                                     Carcinomatosis   \n",
      "9      8001/1        107  Células tumorales de benignidad o malignidad i...   \n",
      "10     8070/3         93                         Carcinoma epidermoide, SAI   \n",
      "11     8001/3         90                         Células tumorales malignas   \n",
      "12     8010/6         85                         Carcinoma metastásico, SAI   \n",
      "13     8041/3         74                 Carcinoma de células pequeñas, SAI   \n",
      "14     8240/3         71                              Tumor carcinoide, SAI   \n",
      "15     8720/6         70                  Melanoma maligno, SAI, metástasis   \n",
      "16     8936/3         44               Sarcoma del estroma gastrointestinal   \n",
      "17    8500/33         44  Carcinoma ductal infiltrante, SAI - grado III,...   \n",
      "18    8140/33         44  Adenocarcinoma, SAI - grado III, pobremente di...   \n",
      "19     9590/3         43                               Linfoma maligno, SAI   \n",
      "\n",
      "                                      Description 2 _merge  \n",
      "0                             Neoplasia metastásica   both  \n",
      "1       Neoplasia, benignidad o malignidad incierta   both  \n",
      "2                                 Neoplasia maligna   both  \n",
      "3                               Adenocarcinoma, SAI   both  \n",
      "4                                    Carcinoma, SAI   both  \n",
      "5                        Ca ductal infiltrante, SAI   both  \n",
      "6                          AdenoCa metastásico, SAI   both  \n",
      "7                             Melanoma maligno, SAI   both  \n",
      "8                                    Carcinomatosis   both  \n",
      "9   Cél tumorales, benignidad o malignidad incierta   both  \n",
      "10                              Ca epidermoide, SAI   both  \n",
      "11                           Cél tumorales malignas   both  \n",
      "12                              Ca metastásico, SAI   both  \n",
      "13                     Carcinoma, cél pequeñas, SAI   both  \n",
      "14                              Tum carcinoide, SAI   both  \n",
      "15                Melanoma maligno, SAI, metástasis   both  \n",
      "16                Sarcoma, estroma gastrointestinal   both  \n",
      "17                  Ca ductal infiltrante, SAI - G3   both  \n",
      "18                         Adenocarcinoma, SAI - G3   both  \n",
      "19                             Linfoma maligno, SAI   both  \n"
     ]
    }
   ],
   "source": [
    "tsv_df = pd.read_csv(tsv_file_path, sep='\\t')\n",
    "\n",
    "# Merge top_20_df with the TSV file, using the ICD-O valid code as key (like VLOOKUP in excel)\n",
    "merged_top20_df = pd.merge(top_20_df, tsv_df, on='ICD-O code', how='left', indicator = True)\n",
    "\n",
    "print(merged_top20_df)"
   ]
  },
  {
   "cell_type": "code",
   "execution_count": 90,
   "id": "36fac548-3b68-49c2-aeda-d47bef487e46",
   "metadata": {},
   "outputs": [],
   "source": [
    "# To copy this in ppt so it looks like a table\n",
    "#merged_df.to_clipboard(index=False, sep='\\t')"
   ]
  },
  {
   "cell_type": "code",
   "execution_count": 157,
   "id": "113e984f-a88d-4f83-b082-93dd83aa6ec4",
   "metadata": {},
   "outputs": [],
   "source": [
    "merged_top20_df.to_csv('frequency_top20.csv', index=False)"
   ]
  },
  {
   "cell_type": "raw",
   "id": "80d4488c-4e8a-4cd5-b513-815b15e7886e",
   "metadata": {},
   "source": [
    "9) See how many of the codes from the data don't have a match with an ICD-O code"
   ]
  },
  {
   "cell_type": "code",
   "execution_count": 123,
   "id": "b9f6028f-7771-404e-85bc-aade6dc822b6",
   "metadata": {},
   "outputs": [
    {
     "name": "stdout",
     "output_type": "stream",
     "text": [
      "    ICD-O code  Frequency                                    Description 1  \\\n",
      "0       8000/6       4480                            Neoplasia metastásica   \n",
      "1       8000/1       2182    Neoplasia de benignidad o malignidad incierta   \n",
      "2       8000/3        756                                Neoplasia maligna   \n",
      "3       8140/3        395                              Adenocarcinoma, SAI   \n",
      "4       8010/3        188                                   Carcinoma, SAI   \n",
      "..         ...        ...                                              ...   \n",
      "738   8972/3/H          1                                              NaN   \n",
      "739     8370/6          1  Carcinoma de la corteza suprarrenal, metástasis   \n",
      "740     8964/6          1  Sarcoma de células claras del riñón, metástasis   \n",
      "741     8380/0          1                       Adenoma endometrioide, SAI   \n",
      "742  8070/31/H          1                                              NaN   \n",
      "\n",
      "                                     Description 2 _merge  \n",
      "0                            Neoplasia metastásica   both  \n",
      "1      Neoplasia, benignidad o malignidad incierta   both  \n",
      "2                                Neoplasia maligna   both  \n",
      "3                              Adenocarcinoma, SAI   both  \n",
      "4                                   Carcinoma, SAI   both  \n",
      "..                                             ...    ...  \n",
      "738                                            NaN   both  \n",
      "739  Carcinoma, la corteza suprarrenal, metástasis   both  \n",
      "740         Sarcoma, cél claras, riñón, metástasis   both  \n",
      "741                     Adenoma endometrioide, SAI   both  \n",
      "742                                            NaN   both  \n",
      "\n",
      "[743 rows x 5 columns]\n"
     ]
    }
   ],
   "source": [
    "#Merge the codes from Cantemist with ICD-O valid name\n",
    "merged_allcodes_df = pd.merge(frequency_df, tsv_df, on='ICD-O code', how='left', indicator = True)\n",
    "\n",
    "print(merged_allcodes_df)"
   ]
  },
  {
   "cell_type": "code",
   "execution_count": 154,
   "id": "99073703-8dd4-4c17-93ed-5bc36c25739d",
   "metadata": {},
   "outputs": [
    {
     "name": "stdout",
     "output_type": "stream",
     "text": [
      "    ICD-O code  Frequency Description 1 Description 2 _merge\n",
      "29    8010/3/H         31           NaN           NaN   both\n",
      "45    8000/1/H         22           NaN           NaN   both\n",
      "50      8800/1         19           NaN           NaN   both\n",
      "60    8000/3/H         15           NaN           NaN   both\n",
      "89    8140/3/H         10           NaN           NaN   both\n",
      "..         ...        ...           ...           ...    ...\n",
      "721    8441/63          1           NaN           NaN   both\n",
      "722    8936/61          1           NaN           NaN   both\n",
      "736    8004/64          1           NaN           NaN   both\n",
      "738   8972/3/H          1           NaN           NaN   both\n",
      "742  8070/31/H          1           NaN           NaN   both\n",
      "\n",
      "[155 rows x 5 columns]\n"
     ]
    }
   ],
   "source": [
    "# Filter the results to find the ones where 'Description 1' is empty\n",
    "empty_desc1_df = merged_allcodes_df[merged_allcodes_df['Description 1'].isnull()]\n",
    "\n",
    "print(empty_desc1_df)"
   ]
  },
  {
   "cell_type": "code",
   "execution_count": 162,
   "id": "2ca62d13-fdbc-43cd-b705-13834ae530fe",
   "metadata": {},
   "outputs": [],
   "source": [
    "# Save data frame as csv\n",
    "empty_desc1_df.to_csv('empty_desc1_freq.csv', index=False)"
   ]
  },
  {
   "cell_type": "raw",
   "id": "baa1138e-ff9b-4638-a5be-7d5449f60a90",
   "metadata": {},
   "source": [
    "10) Associate the code with the description from the annotation file\n",
    "\n",
    "Remember that the annotations look like this:\n",
    "\n",
    "T1\tMORFOLOGIA_NEOPLASIA 2719 2740\tCarcinoma microcítico\n",
    "#1\tAnnotatorNotes T1\t8041/3\n",
    "T2\tMORFOLOGIA_NEOPLASIA 2950 2971\tcarcinoma microcítico\n",
    "#2\tAnnotatorNotes T2\t8041/3\n",
    "T3\tMORFOLOGIA_NEOPLASIA 2988 2990\tM0\n",
    "#3\tAnnotatorNotes T3\t8000/6\n",
    "\n",
    "The description is in the line that starts with T, and the code in the line that starts with #"
   ]
  },
  {
   "cell_type": "code",
   "execution_count": 128,
   "id": "566fa14d-6042-4225-8a9f-ea5bda0ca179",
   "metadata": {},
   "outputs": [
    {
     "name": "stdout",
     "output_type": "stream",
     "text": [
      "                                           File_Name  \\\n",
      "0  dev-set1-to-publish/cantemist-norm/cc_onco861.ann   \n",
      "1  dev-set1-to-publish/cantemist-norm/cc_onco861.ann   \n",
      "2  dev-set1-to-publish/cantemist-norm/cc_onco861.ann   \n",
      "3  dev-set1-to-publish/cantemist-norm/cc_onco861.ann   \n",
      "4  dev-set1-to-publish/cantemist-norm/cc_onco861.ann   \n",
      "5  dev-set1-to-publish/cantemist-norm/cc_onco861.ann   \n",
      "6  dev-set1-to-publish/cantemist-norm/cc_onco861.ann   \n",
      "7  dev-set1-to-publish/cantemist-norm/cc_onco861.ann   \n",
      "8  dev-set1-to-publish/cantemist-norm/cc_onco861.ann   \n",
      "9  dev-set1-to-publish/cantemist-norm/cc_onco861.ann   \n",
      "\n",
      "                        Text ICD-O code  \n",
      "0  afectación de médula ósea     8000/6  \n",
      "1          infiltración ósea     8000/6  \n",
      "2              neuroblastoma     9500/3  \n",
      "3              neuroblastoma     9500/3  \n",
      "4              neuroblastoma     9500/3  \n",
      "5                    tumoral     8000/1  \n",
      "6                    tumoral     8000/1  \n",
      "7                    tumoral     8000/1  \n",
      "8                    tumoral     8000/1  \n",
      "9                    tumoral     8000/1  \n"
     ]
    }
   ],
   "source": [
    "# List to save the rows from the .ann files\n",
    "all_annotations = []\n",
    "all_notes = []\n",
    "\n",
    "# Read the files inside the zip\n",
    "with zipfile.ZipFile(zip_file_path, 'r') as zip_ref:\n",
    "    for file_info in zip_ref.infolist():\n",
    "        # Extract name of the file\n",
    "        file_name = file_info.filename\n",
    "        # Determine type of file\n",
    "        file_type = file_name.split('.')[-1].lower()\n",
    "        if file_type == 'ann':\n",
    "            # Read content\n",
    "            file_content = zip_ref.read(file_name).decode('utf-8')\n",
    "            lines = file_content.splitlines()\n",
    "            \n",
    "            # Save the ones that starts with T as annotation, and # for the ICD-O code\n",
    "            for line in lines:\n",
    "                if line.startswith('T'):\n",
    "                    parts = line.strip().split('\\t')\n",
    "                    annotation_id = parts[0]\n",
    "                    annotation_info = parts[1]\n",
    "                    annotation_text = parts[2]\n",
    "                    all_annotations.append((file_name, annotation_id, annotation_info, annotation_text))\n",
    "                elif line.startswith('#'):\n",
    "                    parts = line.strip().split('\\t')\n",
    "                    note_id = parts[0]\n",
    "                    annotation_ref = parts[1].split()[1]\n",
    "                    note_text = parts[2]\n",
    "                    all_notes.append((file_name,annotation_ref, note_text))\n",
    "\n",
    "# Create dataframe\n",
    "annotations_df = pd.DataFrame(all_annotations, columns=['File_Name', 'Annotation_ID', 'Info', 'Text'])\n",
    "notes_df = pd.DataFrame(all_notes, columns=['File_Name', 'Annotation_Ref', 'ICD-O code'])\n",
    "\n",
    "# Combine dataframe\n",
    "combined_df = pd.merge(annotations_df, notes_df, left_on=['File_Name', 'Annotation_ID'], right_on=['File_Name', 'Annotation_Ref'])\n",
    "\n",
    "# Re-organize columns\n",
    "combined_df = combined_df[['File_Name','Text', 'ICD-O code']]\n",
    "\n",
    "print(combined_df[:10])"
   ]
  },
  {
   "cell_type": "raw",
   "id": "8d62f255-79ba-4a28-8a99-c0483a8ec5be",
   "metadata": {},
   "source": [
    "11) Count how many different unique descriptions per code are in the Cantemist data base"
   ]
  },
  {
   "cell_type": "code",
   "execution_count": 158,
   "id": "0564a1a7-fb44-469a-ac67-25eaa99cf400",
   "metadata": {},
   "outputs": [
    {
     "name": "stdout",
     "output_type": "stream",
     "text": [
      "    ICD-O code  count_different_descriptions\n",
      "12      8000/6                          1264\n",
      "152     8140/6                           129\n",
      "48      8010/6                            39\n",
      "7       8000/3                            36\n",
      "335    8500/33                            35\n",
      "413     8720/6                            33\n",
      "1       8000/1                            32\n",
      "259     8310/6                            29\n",
      "149    8140/33                            25\n",
      "100     8070/6                            25\n",
      "79      8041/6                            24\n",
      "338     8500/6                            24\n",
      "333    8500/32                            24\n",
      "75      8041/3                            23\n",
      "330     8500/3                            20\n",
      "208     8240/3                            19\n",
      "145    8140/31                            19\n",
      "546     9064/3                            18\n",
      "320     8490/3                            18\n",
      "83      8046/3                            18\n"
     ]
    }
   ],
   "source": [
    "# Read data frame\n",
    "df = pd.read_csv('C:\\\\Users\\\\Daniela\\\\xmen\\\\Cantemist\\\\All annotations Cantemist.tsv', sep='\\t')\n",
    "\n",
    "# Group codes and count unique descriptions\n",
    "description_counts = df.groupby('ICD-O code')['Text'].nunique().reset_index()\n",
    "\n",
    "# Rename the columns\n",
    "description_counts.columns = ['ICD-O code', 'count_different_descriptions']\n",
    "\n",
    "# Order from most to less frecuency\n",
    "description_counts_sorted = descripcion_counts.sort_values(by='count_different_descriptions', ascending=False)\n",
    "\n",
    "#print top 20\n",
    "print(description_counts_sorted[:20])\n",
    "\n",
    "# save it as csv\n",
    "description_counts_sorted.to_csv('count_different_descriptions.csv', index=False)\n"
   ]
  },
  {
   "cell_type": "code",
   "execution_count": 79,
   "id": "d677dbc3-15aa-49a2-949b-dfe6888d9917",
   "metadata": {},
   "outputs": [
    {
     "data": {
      "text/plain": [
       "ICD-O code                      8000/68140/68010/68000/38500/338720/68000/1831...\n",
       "count_different_descriptions                                                 3658\n",
       "dtype: object"
      ]
     },
     "execution_count": 79,
     "metadata": {},
     "output_type": "execute_result"
    }
   ],
   "source": [
    "descripcion_counts_sorted.sum()"
   ]
  },
  {
   "cell_type": "raw",
   "id": "16f721bb-9671-406c-a8fd-1f2538f2f0e0",
   "metadata": {},
   "source": [
    "Let's see all the different annotations for the code 8046/3"
   ]
  },
  {
   "cell_type": "code",
   "execution_count": 160,
   "id": "26215e23-5753-49b7-a65a-34a7f979b6a2",
   "metadata": {},
   "outputs": [
    {
     "name": "stdout",
     "output_type": "stream",
     "text": [
      "The different descriptions for the code '8046/3' are:\n",
      "CPNM\n",
      "cáncer pulmonar de células no pequeñas\n",
      "CNMP\n",
      "NSCLC\n",
      "cáncer de pulmón no microcítico\n",
      "carcinoma no microcítico\n",
      "carcinoma de célula no pequeña\n",
      "carcinoma pulmonar de células no pequeñas\n",
      "Carcinoma de pulmón no Célula pequeña\n",
      "carcinoma no célula pequeña\n",
      "carcinoma de células no pequeñas\n",
      "Carcinoma de pulmón no microcítico\n",
      "CPCNP\n",
      "CPNCP\n",
      "cáncer no microcítico\n",
      "adenocarcinoma pulmonar de célula no pequeña\n",
      "Carcinoma de célula no pequeña\n",
      "carcinoma no de células pequeñas\n"
     ]
    }
   ],
   "source": [
    "selected_code = \"8046/3\"\n",
    "desc_selected_code = df[df['ICD-O code'] == selected_code]['Text'].unique()\n",
    "print(f\"The different descriptions for the code '{selected_code}' are:\")\n",
    "for description in desc_selected_code:\n",
    "    print(description)"
   ]
  },
  {
   "cell_type": "raw",
   "id": "0dba9f02-ebd9-4887-957e-2c40ec9069a4",
   "metadata": {},
   "source": [
    "12) Match of the codes with no match and their description"
   ]
  },
  {
   "cell_type": "code",
   "execution_count": 133,
   "id": "aa56457b-ecf5-4d59-ac06-0480cb43bdf4",
   "metadata": {},
   "outputs": [],
   "source": [
    "merged_top20nomatch_df = pd.merge(top_20_nomatch_df, combined_df, on='ICD-O code', how='inner')"
   ]
  },
  {
   "cell_type": "code",
   "execution_count": 134,
   "id": "4c0b1b28-cbf7-42d0-a724-e6d9d8cd0517",
   "metadata": {},
   "outputs": [
    {
     "name": "stdout",
     "output_type": "stream",
     "text": [
      "   ICD-O code  Frequency                                          File_Name  \\\n",
      "0    8000/1/H          1   dev-set1-to-publish/cantemist-norm/cc_onco11.ann   \n",
      "1    8000/1/H          1   dev-set1-to-publish/cantemist-norm/cc_onco43.ann   \n",
      "2    8000/1/H          1   dev-set1-to-publish/cantemist-norm/cc_onco43.ann   \n",
      "3    8000/1/H          1  dev-set1-to-publish/cantemist-norm/cc_onco258.ann   \n",
      "4    8000/1/H          1  dev-set2-to-publish/cantemist-norm/cc_onco1318...   \n",
      "..        ...        ...                                                ...   \n",
      "69   8970/3/H          1  dev-set1-to-publish/cantemist-norm/cc_onco229.ann   \n",
      "70   8972/3/H          1  dev-set2-to-publish/cantemist-norm/cc_onco1187...   \n",
      "71   8771/3/H          1  train-set-to-publish/cantemist-norm/cc_onco903...   \n",
      "72    8726/02          1  train-set-to-publish/cantemist-norm/cc_onco572...   \n",
      "73    8726/02          1  train-set-to-publish/cantemist-norm/cc_onco572...   \n",
      "\n",
      "                                                 Text  \n",
      "0                                   tumor heterogéneo  \n",
      "1                                  tumoración papilar  \n",
      "2                                  tumoración papilar  \n",
      "3                                      tumores mixtos  \n",
      "4                                   tumor embrionario  \n",
      "..                                                ...  \n",
      "69  hepatoblastoma embrionario con diferenciación ...  \n",
      "70  blastoma pulmonar con diferenciación rabdomios...  \n",
      "71  Neoplasia de melanocitos epitelioides con pleo...  \n",
      "72                   melanocitoma de grado intermedio  \n",
      "73                   melanocitoma de grado intermedio  \n",
      "\n",
      "[74 rows x 4 columns]\n"
     ]
    }
   ],
   "source": [
    "print(merged_top20nomatch_df)"
   ]
  },
  {
   "cell_type": "code",
   "execution_count": 161,
   "id": "51dc566e-93d6-4f5c-a9aa-cec369ed30d6",
   "metadata": {},
   "outputs": [],
   "source": [
    "# Save as dataframe\n",
    "merged_top20nomatch_df.to_csv('top20_no_match_descr.csv', index=False)"
   ]
  },
  {
   "cell_type": "raw",
   "id": "43516d0a-5b53-4926-9b76-32f6b69ae952",
   "metadata": {},
   "source": [
    "13) Re-organize all the annotations from cantemist"
   ]
  },
  {
   "cell_type": "code",
   "execution_count": 1,
   "id": "1ad30149-6cc7-4a9e-a461-8b91a5ded9f7",
   "metadata": {},
   "outputs": [
    {
     "name": "stdout",
     "output_type": "stream",
     "text": [
      "Columnas originales: ['File_Name', 'Text', 'ICD-O code']\n",
      "Columnas reordenadas: ['ICD-O code', 'Text', 'File_Name']\n",
      "Archivo guardado en: C:\\Users\\Daniela\\xmen\\Cantemist\\All_annotations_cantemist_2.tsv\n"
     ]
    }
   ],
   "source": [
    "import pandas as pd\n",
    "\n",
    "# Route to tsv file\n",
    "file_path = 'C:\\\\Users\\\\Daniela\\\\xmen\\\\Cantemist\\\\All annotations Cantemist.tsv'\n",
    "\n",
    "# Read the csv file\n",
    "df = pd.read_csv(file_path, sep='\\t')\n",
    "\n",
    "#Show original columns\n",
    "print(\"Original order:\", df.columns.tolist())\n",
    "\n",
    "# Reorganize cols: col3 -> col 1, col 1 -> col 3\n",
    "df = df[[df.columns[2], df.columns[1], df.columns[0]]]\n",
    "\n",
    "# Show how it looks now\n",
    "print(\"Re-organized columns:\", df.columns.tolist())\n",
    "\n",
    "# Save as tsv file\n",
    "new_file_path = 'C:\\\\Users\\\\Daniela\\\\xmen\\\\Cantemist\\\\All_annotations_cantemist_2.tsv'\n",
    "df.to_csv(new_file_path, sep='\\t', index=False)\n",
    "\n",
    "print(f\"rute of new file: {new_file_path}\")\n"
   ]
  }
 ],
 "metadata": {
  "kernelspec": {
   "display_name": "Python 3 (ipykernel)",
   "language": "python",
   "name": "python3"
  },
  "language_info": {
   "codemirror_mode": {
    "name": "ipython",
    "version": 3
   },
   "file_extension": ".py",
   "mimetype": "text/x-python",
   "name": "python",
   "nbconvert_exporter": "python",
   "pygments_lexer": "ipython3",
   "version": "3.10.14"
  }
 },
 "nbformat": 4,
 "nbformat_minor": 5
}
