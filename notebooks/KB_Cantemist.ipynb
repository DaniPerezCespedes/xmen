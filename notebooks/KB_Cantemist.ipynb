{
 "cells": [
  {
   "cell_type": "markdown",
   "id": "a96395cf-ce78-4a83-be43-c6b06cea6de6",
   "metadata": {},
   "source": [
    "Create the Knowledge Base with the ICD-O codes"
   ]
  },
  {
   "cell_type": "code",
   "execution_count": 11,
   "id": "59a481b0-f9f1-48e6-9afd-f5928028a17a",
   "metadata": {},
   "outputs": [],
   "source": [
    "import pandas as pd\n",
    "\n",
    "# Path to your TSV file\n",
    "tsv_file_path = 'https://raw.githubusercontent.com/DaniPerezCespedes/xmen/main/Cantemist/ICDO_valid_codes_v1.tsv'\n",
    "\n",
    "kb_ICDO = pd.read_csv(tsv_file_path, sep='\\t')\n",
    "\n",
    "# Erase rows where description 1 is empty\n",
    "kb_ICDO_2 =kb_ICDO[kb_ICDO.iloc[:, 1].notna() & (kb_ICDO.iloc[:, 1] != '')]\n",
    "\n",
    "# Guardar el resultado en un nuevo archivo TSV localmente, incluyendo el encabezado\n",
    "kb_ICDO_2.to_csv('KB_ICDO_v2.tsv', sep='\\t', index=False)"
   ]
  },
  {
   "cell_type": "code",
   "execution_count": null,
   "id": "2319cdb8-912a-49e3-bab1-fed1a81d0d7f",
   "metadata": {},
   "outputs": [],
   "source": []
  },
  {
   "cell_type": "code",
   "execution_count": null,
   "id": "fb1494c1-d6ec-4778-adaa-f897920e8b7b",
   "metadata": {},
   "outputs": [],
   "source": []
  }
 ],
 "metadata": {
  "kernelspec": {
   "display_name": "Python 3 (ipykernel)",
   "language": "python",
   "name": "python3"
  },
  "language_info": {
   "codemirror_mode": {
    "name": "ipython",
    "version": 3
   },
   "file_extension": ".py",
   "mimetype": "text/x-python",
   "name": "python",
   "nbconvert_exporter": "python",
   "pygments_lexer": "ipython3",
   "version": "3.10.14"
  }
 },
 "nbformat": 4,
 "nbformat_minor": 5
}
