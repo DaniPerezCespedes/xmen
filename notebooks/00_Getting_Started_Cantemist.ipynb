{
 "cells": [
  {
   "cell_type": "markdown",
   "id": "03ef454e-c23b-42f0-990d-672da8902452",
   "metadata": {},
   "source": [
    "## Getting Started with Cantemist"
   ]
  },
  {
   "cell_type": "markdown",
   "id": "b6a05ddc-a8b0-444d-890b-898ce9e5f302",
   "metadata": {},
   "source": [
    "## Preparation\n",
    "\n",
    "Go to the root folder of the repository and run the following commands\n",
    "\n",
    "`xmen dict examples/conf/cantemist.yaml --code examples/dicts/cantemist.py`\n",
    "\n",
    "\n",
    "This command creates the Cantemist- ICD-O jsonl file.\n",
    "\n",
    "`xmen index examples/conf/cantemist.yaml --all`\n",
    "\n",
    "This command creates the indices used candidate generations (both TF-IDF and SapBERT).\n",
    "\n",
    "By default, all files are written to `~/.cache/xmen`, unless configured otherwise."
   ]
  },
  {
   "cell_type": "code",
   "execution_count": 1,
   "id": "f0118439-326a-4d74-b0e1-88fb49d691af",
   "metadata": {},
   "outputs": [],
   "source": [
    "#xmen index C:\\Users\\Daniela\\xmen\\examples\\conf\\cantemist.yaml --all"
   ]
  },
  {
   "cell_type": "code",
   "execution_count": 9,
   "id": "f0f88017-34a4-40c6-a403-4601b15dc8b3",
   "metadata": {},
   "outputs": [
    {
     "name": "stdout",
     "output_type": "stream",
     "text": [
      "Cloning into 'biomedical'...\n",
      "remote: Enumerating objects: 6800, done.\u001b[K\n",
      "remote: Counting objects: 100% (1491/1491), done.\u001b[K\n",
      "remote: Compressing objects: 100% (946/946), done.\u001b[K\n",
      "remote: Total 6800 (delta 685), reused 1300 (delta 537), pack-reused 5309\u001b[K\n",
      "Receiving objects: 100% (6800/6800), 26.03 MiB | 21.74 MiB/s, done.\n",
      "Resolving deltas: 100% (3435/3435), done.\n",
      "Updating files: 100% (1012/1012), done.\n"
     ]
    }
   ],
   "source": [
    "#!git clone https://github.com/bigscience-workshop/biomedical"
   ]
  },
  {
   "cell_type": "markdown",
   "id": "482b215a-9a15-4227-8c88-da811c0c0fe9",
   "metadata": {},
   "source": [
    "## Loading Knowledge Base and Dataset"
   ]
  },
  {
   "cell_type": "code",
   "execution_count": null,
   "id": "6f4cd4b7-2e15-4838-9f3e-69ef5b15e0b9",
   "metadata": {},
   "outputs": [],
   "source": [
    "#variant = \"cantemist\""
   ]
  },
  {
   "cell_type": "code",
   "execution_count": 2,
   "id": "46917412-c6e3-48c6-8e45-278aab09202c",
   "metadata": {},
   "outputs": [],
   "source": [
    "from pathlib import Path\n",
    "#base_path = Path.home() / f\".cache/xmen/{variant}\"\n",
    "base_path = Path.home() / \".cache/xmen/cantemist\""
   ]
  },
  {
   "cell_type": "code",
   "execution_count": 3,
   "id": "4a5c2cec-469f-4765-af04-28fe240b328f",
   "metadata": {},
   "outputs": [],
   "source": [
    "#print(base_path)"
   ]
  },
  {
   "cell_type": "code",
   "execution_count": 4,
   "id": "20a25d8c-5d5a-43ab-a344-0714cff20fd6",
   "metadata": {},
   "outputs": [],
   "source": [
    "#!pip install ./biomedical/"
   ]
  },
  {
   "cell_type": "code",
   "execution_count": 5,
   "id": "8c419ff7-306f-4522-811c-cffadea0010d",
   "metadata": {
    "scrolled": true
   },
   "outputs": [
    {
     "name": "stderr",
     "output_type": "stream",
     "text": [
      "/dhc/home/daniela.perezcespede/conda3/envs/xmen/lib/python3.10/site-packages/datasets/load.py:929: FutureWarning: The repository for cantemist contains custom code which must be executed to correctly load the dataset. You can inspect the repository content at ./biomedical/bigbio/biodatasets/cantemist/cantemist.py\n",
      "You can avoid this message in future by passing the argument `trust_remote_code=True`.\n",
      "Passing `trust_remote_code=True` will be mandatory to load this dataset from the next major release of `datasets`.\n",
      "  warnings.warn(\n"
     ]
    }
   ],
   "source": [
    "# Load cantemist subset through BigBIO dataloader\n",
    "from datasets import load_dataset\n",
    "#dataset = load_dataset(\"bigbio/cantemist\", \"cantemist_bigbio_kb\",download_mode=\"force_redownload\")\n",
    "dataset = load_dataset('./biomedical/bigbio/biodatasets/cantemist/cantemist.py', 'cantemist_bigbio_kb', 'trust_remote_code=True')"
   ]
  },
  {
   "cell_type": "code",
   "execution_count": 6,
   "id": "13bde2e5-3750-4997-bbe2-e5a5b3655181",
   "metadata": {},
   "outputs": [
    {
     "data": {
      "text/plain": [
       "DatasetDict({\n",
       "    train: Dataset({\n",
       "        features: ['id', 'document_id', 'passages', 'entities', 'events', 'coreferences', 'relations'],\n",
       "        num_rows: 501\n",
       "    })\n",
       "    test: Dataset({\n",
       "        features: ['id', 'document_id', 'passages', 'entities', 'events', 'coreferences', 'relations'],\n",
       "        num_rows: 300\n",
       "    })\n",
       "    validation: Dataset({\n",
       "        features: ['id', 'document_id', 'passages', 'entities', 'events', 'coreferences', 'relations'],\n",
       "        num_rows: 500\n",
       "    })\n",
       "})"
      ]
     },
     "execution_count": 6,
     "metadata": {},
     "output_type": "execute_result"
    }
   ],
   "source": [
    "dataset"
   ]
  },
  {
   "cell_type": "code",
   "execution_count": 7,
   "id": "00dd59d0-d7dd-4dd2-ab92-35843ee7e14a",
   "metadata": {},
   "outputs": [],
   "source": [
    "from xmen import load_kb\n",
    "#kb = load_kb(base_path / f\"{variant}.jsonl\")\n",
    "kb = load_kb(base_path / \"cantemist.jsonl\")"
   ]
  },
  {
   "cell_type": "code",
   "execution_count": 8,
   "id": "81bcf0e9-f906-468b-b7ab-f8fc984ef969",
   "metadata": {},
   "outputs": [
    {
     "data": {
      "text/plain": [
       "(0, 0)"
      ]
     },
     "execution_count": 8,
     "metadata": {},
     "output_type": "execute_result"
    }
   ],
   "source": [
    "missing_codes = list()\n",
    "for d in dataset['train']:\n",
    "    for e in d['entities']:\n",
    "        for code in e['normalized']:\n",
    "            id = code['db_id']\n",
    "            if not id in kb.cui_to_entity:\n",
    "                missing_codes.append(id)\n",
    "len(missing_codes), len(set(missing_codes))"
   ]
  },
  {
   "cell_type": "code",
   "execution_count": 9,
   "id": "94750008-0cad-463f-a2cb-6e99066cc386",
   "metadata": {},
   "outputs": [
    {
     "data": {
      "text/plain": [
       "[]"
      ]
     },
     "execution_count": 9,
     "metadata": {},
     "output_type": "execute_result"
    }
   ],
   "source": [
    "missing_codes"
   ]
  },
  {
   "cell_type": "markdown",
   "id": "ad987400-dfc7-4ecc-8fd0-5aeb408904e2",
   "metadata": {},
   "source": [
    "# Candidate Generation\n",
    "\n",
    "We use the pre-computed indices to retrieve the 64 most similar concepts for each mention"
   ]
  },
  {
   "cell_type": "code",
   "execution_count": 10,
   "id": "37d5d24c-7bbf-4254-9d74-52b983c24d12",
   "metadata": {},
   "outputs": [
    {
     "name": "stderr",
     "output_type": "stream",
     "text": [
      "/dhc/home/daniela.perezcespede/conda3/envs/xmen/lib/python3.10/site-packages/huggingface_hub/file_download.py:1132: FutureWarning: `resume_download` is deprecated and will be removed in version 1.0.0. Downloads always resume when possible. If you want to force a new download, use `force_download=True`.\n",
      "  warnings.warn(\n"
     ]
    },
    {
     "data": {
      "text/html": [
       "<pre style=\"white-space:pre;overflow-x:auto;line-height:normal;font-family:Menlo,'DejaVu Sans Mono',consolas,'Courier New',monospace\"><span style=\"color: #7fbfbf; text-decoration-color: #7fbfbf\">[06/28/24 10:02:40] </span><span style=\"color: #000080; text-decoration-color: #000080\">INFO    </span> Loading hierarchical faiss index                                <a href=\"file:///dhc/home/daniela.perezcespede/conda3/envs/xmen/lib/python3.10/site-packages/xmen/linkers/sap_bert_linker.py\" target=\"_blank\"><span style=\"color: #7f7f7f; text-decoration-color: #7f7f7f\">sap_bert_linker.py</span></a><span style=\"color: #7f7f7f; text-decoration-color: #7f7f7f\">:</span><a href=\"file:///dhc/home/daniela.perezcespede/conda3/envs/xmen/lib/python3.10/site-packages/xmen/linkers/sap_bert_linker.py#153\" target=\"_blank\"><span style=\"color: #7f7f7f; text-decoration-color: #7f7f7f\">153</span></a>\n",
       "</pre>\n"
      ],
      "text/plain": [
       "\u001b[2;36m[06/28/24 10:02:40]\u001b[0m\u001b[2;36m \u001b[0m\u001b[34mINFO    \u001b[0m Loading hierarchical faiss index                                \u001b]8;id=333234;file:///dhc/home/daniela.perezcespede/conda3/envs/xmen/lib/python3.10/site-packages/xmen/linkers/sap_bert_linker.py\u001b\\\u001b[2msap_bert_linker.py\u001b[0m\u001b]8;;\u001b\\\u001b[2m:\u001b[0m\u001b]8;id=342437;file:///dhc/home/daniela.perezcespede/conda3/envs/xmen/lib/python3.10/site-packages/xmen/linkers/sap_bert_linker.py#153\u001b\\\u001b[2m153\u001b[0m\u001b]8;;\u001b\\\n"
      ]
     },
     "metadata": {},
     "output_type": "display_data"
    },
    {
     "data": {
      "text/html": [
       "<pre style=\"white-space:pre;overflow-x:auto;line-height:normal;font-family:Menlo,'DejaVu Sans Mono',consolas,'Courier New',monospace\"><span style=\"color: #7fbfbf; text-decoration-color: #7fbfbf\">                    </span><span style=\"color: #000080; text-decoration-color: #000080\">INFO    </span> Loading index from                                                 <a href=\"file:///dhc/home/daniela.perezcespede/conda3/envs/xmen/lib/python3.10/site-packages/xmen/linkers/faiss_indexer.py\" target=\"_blank\"><span style=\"color: #7f7f7f; text-decoration-color: #7f7f7f\">faiss_indexer.py</span></a><span style=\"color: #7f7f7f; text-decoration-color: #7f7f7f\">:</span><a href=\"file:///dhc/home/daniela.perezcespede/conda3/envs/xmen/lib/python3.10/site-packages/xmen/linkers/faiss_indexer.py#64\" target=\"_blank\"><span style=\"color: #7f7f7f; text-decoration-color: #7f7f7f\">64</span></a>\n",
       "<span style=\"color: #7fbfbf; text-decoration-color: #7fbfbf\">                    </span>         <span style=\"color: #800080; text-decoration-color: #800080\">/dhc/home/daniela.perezcespede/.cache/xmen/cantemist/index/sapbert</span> <span style=\"color: #7f7f7f; text-decoration-color: #7f7f7f\">                   </span>\n",
       "<span style=\"color: #7fbfbf; text-decoration-color: #7fbfbf\">                    </span>         <span style=\"color: #800080; text-decoration-color: #800080\">/</span><span style=\"color: #ff00ff; text-decoration-color: #ff00ff\">embed_faiss_hier.pickle</span>                                           <span style=\"color: #7f7f7f; text-decoration-color: #7f7f7f\">                   </span>\n",
       "</pre>\n"
      ],
      "text/plain": [
       "\u001b[2;36m                   \u001b[0m\u001b[2;36m \u001b[0m\u001b[34mINFO    \u001b[0m Loading index from                                                 \u001b]8;id=615869;file:///dhc/home/daniela.perezcespede/conda3/envs/xmen/lib/python3.10/site-packages/xmen/linkers/faiss_indexer.py\u001b\\\u001b[2mfaiss_indexer.py\u001b[0m\u001b]8;;\u001b\\\u001b[2m:\u001b[0m\u001b]8;id=643206;file:///dhc/home/daniela.perezcespede/conda3/envs/xmen/lib/python3.10/site-packages/xmen/linkers/faiss_indexer.py#64\u001b\\\u001b[2m64\u001b[0m\u001b]8;;\u001b\\\n",
       "\u001b[2;36m                    \u001b[0m         \u001b[35m/dhc/home/daniela.perezcespede/.cache/xmen/cantemist/index/sapbert\u001b[0m \u001b[2m                   \u001b[0m\n",
       "\u001b[2;36m                    \u001b[0m         \u001b[35m/\u001b[0m\u001b[95membed_faiss_hier.pickle\u001b[0m                                           \u001b[2m                   \u001b[0m\n"
      ]
     },
     "metadata": {},
     "output_type": "display_data"
    },
    {
     "data": {
      "text/html": [
       "<pre style=\"white-space:pre;overflow-x:auto;line-height:normal;font-family:Menlo,'DejaVu Sans Mono',consolas,'Courier New',monospace\"><span style=\"color: #7fbfbf; text-decoration-color: #7fbfbf\">                    </span><span style=\"color: #000080; text-decoration-color: #000080\">INFO    </span> Loaded index of type <span style=\"font-weight: bold\">&lt;</span><span style=\"color: #ff00ff; text-decoration-color: #ff00ff; font-weight: bold\">class</span><span style=\"color: #000000; text-decoration-color: #000000\"> </span><span style=\"color: #008000; text-decoration-color: #008000\">'faiss.swigfaiss.IndexHNSWFlat'</span><span style=\"font-weight: bold\">&gt;</span> and   <a href=\"file:///dhc/home/daniela.perezcespede/conda3/envs/xmen/lib/python3.10/site-packages/xmen/linkers/faiss_indexer.py\" target=\"_blank\"><span style=\"color: #7f7f7f; text-decoration-color: #7f7f7f\">faiss_indexer.py</span></a><span style=\"color: #7f7f7f; text-decoration-color: #7f7f7f\">:</span><a href=\"file:///dhc/home/daniela.perezcespede/conda3/envs/xmen/lib/python3.10/site-packages/xmen/linkers/faiss_indexer.py#66\" target=\"_blank\"><span style=\"color: #7f7f7f; text-decoration-color: #7f7f7f\">66</span></a>\n",
       "<span style=\"color: #7fbfbf; text-decoration-color: #7fbfbf\">                    </span>         size <span style=\"color: #008080; text-decoration-color: #008080; font-weight: bold\">15100</span>                                                         <span style=\"color: #7f7f7f; text-decoration-color: #7f7f7f\">                   </span>\n",
       "</pre>\n"
      ],
      "text/plain": [
       "\u001b[2;36m                   \u001b[0m\u001b[2;36m \u001b[0m\u001b[34mINFO    \u001b[0m Loaded index of type \u001b[1m<\u001b[0m\u001b[1;95mclass\u001b[0m\u001b[39m \u001b[0m\u001b[32m'faiss.swigfaiss.IndexHNSWFlat'\u001b[0m\u001b[1m>\u001b[0m and   \u001b]8;id=490013;file:///dhc/home/daniela.perezcespede/conda3/envs/xmen/lib/python3.10/site-packages/xmen/linkers/faiss_indexer.py\u001b\\\u001b[2mfaiss_indexer.py\u001b[0m\u001b]8;;\u001b\\\u001b[2m:\u001b[0m\u001b]8;id=310126;file:///dhc/home/daniela.perezcespede/conda3/envs/xmen/lib/python3.10/site-packages/xmen/linkers/faiss_indexer.py#66\u001b\\\u001b[2m66\u001b[0m\u001b]8;;\u001b\\\n",
       "\u001b[2;36m                    \u001b[0m         size \u001b[1;36m15100\u001b[0m                                                         \u001b[2m                   \u001b[0m\n"
      ]
     },
     "metadata": {},
     "output_type": "display_data"
    }
   ],
   "source": [
    "# Generate candidates with Ensemble of TF-IDF + SapBERT\n",
    "from xmen.linkers import default_ensemble\n",
    "linker = default_ensemble(base_path / \"index\")"
   ]
  },
  {
   "cell_type": "code",
   "execution_count": 11,
   "id": "276af3a6-e245-4364-9ef6-d9fd8cbb862a",
   "metadata": {},
   "outputs": [
    {
     "data": {
      "application/vnd.jupyter.widget-view+json": {
       "model_id": "463305a2fae8424b9a4a92427b1e360a",
       "version_major": 2,
       "version_minor": 0
      },
      "text/plain": [
       "Map:   0%|          | 0/300 [00:00<?, ? examples/s]"
      ]
     },
     "metadata": {},
     "output_type": "display_data"
    }
   ],
   "source": [
    "candidates = linker.predict_batch(dataset[\"test\"], top_k=64, batch_size=128)"
   ]
  },
  {
   "cell_type": "code",
   "execution_count": 12,
   "id": "141878a3-e7c9-47ac-9888-a9eca583721e",
   "metadata": {},
   "outputs": [],
   "source": [
    "#When the score is below the CUTOFF, then associate the term to the generic code 8000/6 (Neoplasia metastásica)\n",
    "CUTOFF = 0.8\n",
    "\n",
    "def add_manual_concepts(document):\n",
    "    entities = []\n",
    "    for e in document[\"entities\"]:\n",
    "        norm = e[\"normalized\"]\n",
    "        if norm[0][\"score\"] < CUTOFF:\n",
    "            norm.insert(0,\n",
    "                {'db_id': '8000/6',\n",
    "                 'db_name': 'UMLS',\n",
    "                 'score': 1.0,\n",
    "                 'predicted_by': ['manual']})\n",
    "        entities.append(e)\n",
    "    return {\"entities\" : entities}"
   ]
  },
  {
   "cell_type": "code",
   "execution_count": 13,
   "id": "c8c6dcb8-5c97-4871-a79b-bbb9f04200d9",
   "metadata": {},
   "outputs": [],
   "source": [
    "candidates_manual = candidates.map(lambda d: add_manual_concepts(d))"
   ]
  },
  {
   "cell_type": "code",
   "execution_count": 77,
   "id": "3709df36-1c76-4027-93da-840c019c472a",
   "metadata": {},
   "outputs": [],
   "source": [
    "#linker.predict_no_context([\"mesenquimal\"])"
   ]
  },
  {
   "cell_type": "code",
   "execution_count": 14,
   "id": "de186f65-e49a-498e-9e4c-e4a08b3bae2f",
   "metadata": {
    "scrolled": true
   },
   "outputs": [
    {
     "data": {
      "text/plain": [
       "{'strict': {'precision': 0.5205064684833471,\n",
       "  'recall': 0.5202200825309491,\n",
       "  'fscore': 0.5203632361034674,\n",
       "  'ptp': 1891,\n",
       "  'fp': 1742,\n",
       "  'rtp': 1891,\n",
       "  'fn': 1744,\n",
       "  'n_docs_system': 300,\n",
       "  'n_annos_system': 3635,\n",
       "  'n_docs_gold': 300,\n",
       "  'n_annos_gold': 3635}}"
      ]
     },
     "execution_count": 14,
     "metadata": {},
     "output_type": "execute_result"
    }
   ],
   "source": [
    "from xmen.evaluation import evaluate\n",
    "evaluate(dataset['test'], candidates_manual, top_k_predictions=1)"
   ]
  },
  {
   "cell_type": "code",
   "execution_count": 15,
   "id": "dfd68c91-6000-49ed-922b-f5ce3cf31722",
   "metadata": {},
   "outputs": [
    {
     "name": "stdout",
     "output_type": "stream",
     "text": [
      "Recall@1 0.5202200825309491\n",
      "Recall@2 0.5972489683631361\n",
      "Recall@4 0.7832187070151306\n",
      "Recall@8 0.8442916093535076\n",
      "Recall@16 0.8781292984869326\n",
      "Recall@32 0.9056396148555709\n",
      "Recall@64 0.9169188445667125\n"
     ]
    }
   ],
   "source": [
    "from xmen.evaluation import evaluate_at_k\n",
    "_ = evaluate_at_k(dataset['test'], candidates_manual)"
   ]
  },
  {
   "cell_type": "code",
   "execution_count": 22,
   "id": "8b190c2b-d6c2-41eb-b49d-dea9e8174100",
   "metadata": {},
   "outputs": [],
   "source": [
    "from xmen.evaluation import error_analysis\n",
    "\n",
    "# Before re-ranking\n",
    "ea_df = error_analysis(dataset['test'], candidates_manual, tasks=['nen'])"
   ]
  },
  {
   "cell_type": "code",
   "execution_count": 31,
   "id": "7a1c7ba7-0fb5-475b-b576-3668a7f61e2e",
   "metadata": {},
   "outputs": [
    {
     "data": {
      "text/html": [
       "<div>\n",
       "<style scoped>\n",
       "    .dataframe tbody tr th:only-of-type {\n",
       "        vertical-align: middle;\n",
       "    }\n",
       "\n",
       "    .dataframe tbody tr th {\n",
       "        vertical-align: top;\n",
       "    }\n",
       "\n",
       "    .dataframe thead th {\n",
       "        text-align: right;\n",
       "    }\n",
       "</style>\n",
       "<table border=\"1\" class=\"dataframe\">\n",
       "  <thead>\n",
       "    <tr style=\"text-align: right;\">\n",
       "      <th></th>\n",
       "      <th>_word_len</th>\n",
       "      <th>_abbrev</th>\n",
       "      <th>gt_start</th>\n",
       "      <th>gt_end</th>\n",
       "      <th>gt_text</th>\n",
       "      <th>gold_type</th>\n",
       "      <th>gold_concept</th>\n",
       "      <th>pred_index</th>\n",
       "      <th>pred_index_score</th>\n",
       "      <th>pred_top</th>\n",
       "      <th>pred_top_score</th>\n",
       "      <th>document_id</th>\n",
       "    </tr>\n",
       "  </thead>\n",
       "  <tbody>\n",
       "    <tr>\n",
       "      <th>0</th>\n",
       "      <td>1</td>\n",
       "      <td>False</td>\n",
       "      <td>1108</td>\n",
       "      <td>1118</td>\n",
       "      <td>[metástasis]</td>\n",
       "      <td>MORFOLOGIA_NEOPLASIA</td>\n",
       "      <td>{'db_name': 'eCIE-O-3.1', 'db_id': '8000/6'}</td>\n",
       "      <td>0</td>\n",
       "      <td>0.818870</td>\n",
       "      <td>8000/6</td>\n",
       "      <td>0.818870</td>\n",
       "      <td>cc_onco1206</td>\n",
       "    </tr>\n",
       "    <tr>\n",
       "      <th>1</th>\n",
       "      <td>1</td>\n",
       "      <td>False</td>\n",
       "      <td>2320</td>\n",
       "      <td>2330</td>\n",
       "      <td>[metástasis]</td>\n",
       "      <td>MORFOLOGIA_NEOPLASIA</td>\n",
       "      <td>{'db_name': 'eCIE-O-3.1', 'db_id': '8000/6'}</td>\n",
       "      <td>0</td>\n",
       "      <td>0.818870</td>\n",
       "      <td>8000/6</td>\n",
       "      <td>0.818870</td>\n",
       "      <td>cc_onco1206</td>\n",
       "    </tr>\n",
       "    <tr>\n",
       "      <th>2</th>\n",
       "      <td>1</td>\n",
       "      <td>False</td>\n",
       "      <td>2545</td>\n",
       "      <td>2555</td>\n",
       "      <td>[tumoración]</td>\n",
       "      <td>MORFOLOGIA_NEOPLASIA</td>\n",
       "      <td>{'db_name': 'eCIE-O-3.1', 'db_id': '8000/1'}</td>\n",
       "      <td>4</td>\n",
       "      <td>0.630540</td>\n",
       "      <td>8000/6</td>\n",
       "      <td>1.000000</td>\n",
       "      <td>cc_onco1206</td>\n",
       "    </tr>\n",
       "    <tr>\n",
       "      <th>3</th>\n",
       "      <td>3</td>\n",
       "      <td>False</td>\n",
       "      <td>2625</td>\n",
       "      <td>2652</td>\n",
       "      <td>[carcinoma adenoide quístico]</td>\n",
       "      <td>MORFOLOGIA_NEOPLASIA</td>\n",
       "      <td>{'db_name': 'eCIE-O-3.1', 'db_id': '8200/3'}</td>\n",
       "      <td>0</td>\n",
       "      <td>1.000000</td>\n",
       "      <td>8200/3</td>\n",
       "      <td>1.000000</td>\n",
       "      <td>cc_onco1206</td>\n",
       "    </tr>\n",
       "    <tr>\n",
       "      <th>4</th>\n",
       "      <td>1</td>\n",
       "      <td>False</td>\n",
       "      <td>2685</td>\n",
       "      <td>2695</td>\n",
       "      <td>[tumoración]</td>\n",
       "      <td>MORFOLOGIA_NEOPLASIA</td>\n",
       "      <td>{'db_name': 'eCIE-O-3.1', 'db_id': '8000/1'}</td>\n",
       "      <td>4</td>\n",
       "      <td>0.630540</td>\n",
       "      <td>8000/6</td>\n",
       "      <td>1.000000</td>\n",
       "      <td>cc_onco1206</td>\n",
       "    </tr>\n",
       "    <tr>\n",
       "      <th>...</th>\n",
       "      <td>...</td>\n",
       "      <td>...</td>\n",
       "      <td>...</td>\n",
       "      <td>...</td>\n",
       "      <td>...</td>\n",
       "      <td>...</td>\n",
       "      <td>...</td>\n",
       "      <td>...</td>\n",
       "      <td>...</td>\n",
       "      <td>...</td>\n",
       "      <td>...</td>\n",
       "      <td>...</td>\n",
       "    </tr>\n",
       "    <tr>\n",
       "      <th>3630</th>\n",
       "      <td>1</td>\n",
       "      <td>False</td>\n",
       "      <td>2761</td>\n",
       "      <td>2771</td>\n",
       "      <td>[tumoración]</td>\n",
       "      <td>MORFOLOGIA_NEOPLASIA</td>\n",
       "      <td>{'db_name': 'eCIE-O-3.1', 'db_id': '8000/1'}</td>\n",
       "      <td>4</td>\n",
       "      <td>0.630540</td>\n",
       "      <td>8000/6</td>\n",
       "      <td>1.000000</td>\n",
       "      <td>cc_onco1120</td>\n",
       "    </tr>\n",
       "    <tr>\n",
       "      <th>3631</th>\n",
       "      <td>1</td>\n",
       "      <td>False</td>\n",
       "      <td>3131</td>\n",
       "      <td>3141</td>\n",
       "      <td>[tumoración]</td>\n",
       "      <td>MORFOLOGIA_NEOPLASIA</td>\n",
       "      <td>{'db_name': 'eCIE-O-3.1', 'db_id': '8000/1'}</td>\n",
       "      <td>4</td>\n",
       "      <td>0.630540</td>\n",
       "      <td>8000/6</td>\n",
       "      <td>1.000000</td>\n",
       "      <td>cc_onco1120</td>\n",
       "    </tr>\n",
       "    <tr>\n",
       "      <th>3632</th>\n",
       "      <td>1</td>\n",
       "      <td>False</td>\n",
       "      <td>3215</td>\n",
       "      <td>3225</td>\n",
       "      <td>[tumoración]</td>\n",
       "      <td>MORFOLOGIA_NEOPLASIA</td>\n",
       "      <td>{'db_name': 'eCIE-O-3.1', 'db_id': '8000/1'}</td>\n",
       "      <td>4</td>\n",
       "      <td>0.630540</td>\n",
       "      <td>8000/6</td>\n",
       "      <td>1.000000</td>\n",
       "      <td>cc_onco1120</td>\n",
       "    </tr>\n",
       "    <tr>\n",
       "      <th>3633</th>\n",
       "      <td>3</td>\n",
       "      <td>False</td>\n",
       "      <td>3229</td>\n",
       "      <td>3264</td>\n",
       "      <td>[Tumor miofibroblástico inflamatorio]</td>\n",
       "      <td>MORFOLOGIA_NEOPLASIA</td>\n",
       "      <td>{'db_name': 'eCIE-O-3.1', 'db_id': '8825/1'}</td>\n",
       "      <td>0</td>\n",
       "      <td>0.800722</td>\n",
       "      <td>8825/1</td>\n",
       "      <td>0.800722</td>\n",
       "      <td>cc_onco1120</td>\n",
       "    </tr>\n",
       "    <tr>\n",
       "      <th>3634</th>\n",
       "      <td>3</td>\n",
       "      <td>False</td>\n",
       "      <td>3459</td>\n",
       "      <td>3494</td>\n",
       "      <td>[tumor miofibroblástico inflamatorio]</td>\n",
       "      <td>MORFOLOGIA_NEOPLASIA</td>\n",
       "      <td>{'db_name': 'eCIE-O-3.1', 'db_id': '8825/1'}</td>\n",
       "      <td>0</td>\n",
       "      <td>0.804942</td>\n",
       "      <td>8825/1</td>\n",
       "      <td>0.804942</td>\n",
       "      <td>cc_onco1120</td>\n",
       "    </tr>\n",
       "  </tbody>\n",
       "</table>\n",
       "<p>3635 rows × 12 columns</p>\n",
       "</div>"
      ],
      "text/plain": [
       "      _word_len  _abbrev  gt_start  gt_end  \\\n",
       "0             1    False      1108    1118   \n",
       "1             1    False      2320    2330   \n",
       "2             1    False      2545    2555   \n",
       "3             3    False      2625    2652   \n",
       "4             1    False      2685    2695   \n",
       "...         ...      ...       ...     ...   \n",
       "3630          1    False      2761    2771   \n",
       "3631          1    False      3131    3141   \n",
       "3632          1    False      3215    3225   \n",
       "3633          3    False      3229    3264   \n",
       "3634          3    False      3459    3494   \n",
       "\n",
       "                                    gt_text             gold_type  \\\n",
       "0                              [metástasis]  MORFOLOGIA_NEOPLASIA   \n",
       "1                              [metástasis]  MORFOLOGIA_NEOPLASIA   \n",
       "2                              [tumoración]  MORFOLOGIA_NEOPLASIA   \n",
       "3             [carcinoma adenoide quístico]  MORFOLOGIA_NEOPLASIA   \n",
       "4                              [tumoración]  MORFOLOGIA_NEOPLASIA   \n",
       "...                                     ...                   ...   \n",
       "3630                           [tumoración]  MORFOLOGIA_NEOPLASIA   \n",
       "3631                           [tumoración]  MORFOLOGIA_NEOPLASIA   \n",
       "3632                           [tumoración]  MORFOLOGIA_NEOPLASIA   \n",
       "3633  [Tumor miofibroblástico inflamatorio]  MORFOLOGIA_NEOPLASIA   \n",
       "3634  [tumor miofibroblástico inflamatorio]  MORFOLOGIA_NEOPLASIA   \n",
       "\n",
       "                                      gold_concept  pred_index  \\\n",
       "0     {'db_name': 'eCIE-O-3.1', 'db_id': '8000/6'}           0   \n",
       "1     {'db_name': 'eCIE-O-3.1', 'db_id': '8000/6'}           0   \n",
       "2     {'db_name': 'eCIE-O-3.1', 'db_id': '8000/1'}           4   \n",
       "3     {'db_name': 'eCIE-O-3.1', 'db_id': '8200/3'}           0   \n",
       "4     {'db_name': 'eCIE-O-3.1', 'db_id': '8000/1'}           4   \n",
       "...                                            ...         ...   \n",
       "3630  {'db_name': 'eCIE-O-3.1', 'db_id': '8000/1'}           4   \n",
       "3631  {'db_name': 'eCIE-O-3.1', 'db_id': '8000/1'}           4   \n",
       "3632  {'db_name': 'eCIE-O-3.1', 'db_id': '8000/1'}           4   \n",
       "3633  {'db_name': 'eCIE-O-3.1', 'db_id': '8825/1'}           0   \n",
       "3634  {'db_name': 'eCIE-O-3.1', 'db_id': '8825/1'}           0   \n",
       "\n",
       "      pred_index_score pred_top  pred_top_score  document_id  \n",
       "0             0.818870   8000/6        0.818870  cc_onco1206  \n",
       "1             0.818870   8000/6        0.818870  cc_onco1206  \n",
       "2             0.630540   8000/6        1.000000  cc_onco1206  \n",
       "3             1.000000   8200/3        1.000000  cc_onco1206  \n",
       "4             0.630540   8000/6        1.000000  cc_onco1206  \n",
       "...                ...      ...             ...          ...  \n",
       "3630          0.630540   8000/6        1.000000  cc_onco1120  \n",
       "3631          0.630540   8000/6        1.000000  cc_onco1120  \n",
       "3632          0.630540   8000/6        1.000000  cc_onco1120  \n",
       "3633          0.800722   8825/1        0.800722  cc_onco1120  \n",
       "3634          0.804942   8825/1        0.804942  cc_onco1120  \n",
       "\n",
       "[3635 rows x 12 columns]"
      ]
     },
     "execution_count": 31,
     "metadata": {},
     "output_type": "execute_result"
    }
   ],
   "source": [
    "ea_df\n",
    "#convert into csv file:\n",
    "#ea_df.to_csv('all_errors', sep=',', index=False, encoding='utf-8')"
   ]
  },
  {
   "cell_type": "code",
   "execution_count": 26,
   "id": "90bb3cd3-50ee-4661-84ab-8d61512b0881",
   "metadata": {},
   "outputs": [
    {
     "data": {
      "text/html": [
       "<div>\n",
       "<style scoped>\n",
       "    .dataframe tbody tr th:only-of-type {\n",
       "        vertical-align: middle;\n",
       "    }\n",
       "\n",
       "    .dataframe tbody tr th {\n",
       "        vertical-align: top;\n",
       "    }\n",
       "\n",
       "    .dataframe thead th {\n",
       "        text-align: right;\n",
       "    }\n",
       "</style>\n",
       "<table border=\"1\" class=\"dataframe\">\n",
       "  <thead>\n",
       "    <tr style=\"text-align: right;\">\n",
       "      <th></th>\n",
       "      <th>_word_len</th>\n",
       "      <th>_abbrev</th>\n",
       "      <th>gt_start</th>\n",
       "      <th>gt_end</th>\n",
       "      <th>gt_text</th>\n",
       "      <th>gold_type</th>\n",
       "      <th>gold_concept</th>\n",
       "      <th>pred_index</th>\n",
       "      <th>pred_index_score</th>\n",
       "      <th>pred_top</th>\n",
       "      <th>pred_top_score</th>\n",
       "      <th>document_id</th>\n",
       "    </tr>\n",
       "  </thead>\n",
       "  <tbody>\n",
       "    <tr>\n",
       "      <th>22</th>\n",
       "      <td>6</td>\n",
       "      <td>False</td>\n",
       "      <td>3158</td>\n",
       "      <td>3196</td>\n",
       "      <td>[carcinoma medular tiroideo pT4a pN1 M1]</td>\n",
       "      <td>MORFOLOGIA_NEOPLASIA</td>\n",
       "      <td>{'db_name': 'eCIE-O-3.1', 'db_id': '8510/6'}</td>\n",
       "      <td>-1</td>\n",
       "      <td>NaN</td>\n",
       "      <td>8000/6</td>\n",
       "      <td>1.000000</td>\n",
       "      <td>cc_onco1485</td>\n",
       "    </tr>\n",
       "    <tr>\n",
       "      <th>33</th>\n",
       "      <td>8</td>\n",
       "      <td>False</td>\n",
       "      <td>283</td>\n",
       "      <td>340</td>\n",
       "      <td>[adenocarcinoma de próstata en lóbulo derecho,...</td>\n",
       "      <td>MORFOLOGIA_NEOPLASIA</td>\n",
       "      <td>{'db_name': 'eCIE-O-3.1', 'db_id': '8140/31'}</td>\n",
       "      <td>-1</td>\n",
       "      <td>NaN</td>\n",
       "      <td>8000/6</td>\n",
       "      <td>1.000000</td>\n",
       "      <td>cc_onco1453</td>\n",
       "    </tr>\n",
       "    <tr>\n",
       "      <th>42</th>\n",
       "      <td>1</td>\n",
       "      <td>False</td>\n",
       "      <td>598</td>\n",
       "      <td>613</td>\n",
       "      <td>[sólido-quística]</td>\n",
       "      <td>MORFOLOGIA_NEOPLASIA</td>\n",
       "      <td>{'db_name': 'eCIE-O-3.1', 'db_id': '8452/1'}</td>\n",
       "      <td>-1</td>\n",
       "      <td>NaN</td>\n",
       "      <td>8000/6</td>\n",
       "      <td>1.000000</td>\n",
       "      <td>cc_onco855</td>\n",
       "    </tr>\n",
       "    <tr>\n",
       "      <th>43</th>\n",
       "      <td>1</td>\n",
       "      <td>True</td>\n",
       "      <td>739</td>\n",
       "      <td>743</td>\n",
       "      <td>[GIST]</td>\n",
       "      <td>MORFOLOGIA_NEOPLASIA</td>\n",
       "      <td>{'db_name': 'eCIE-O-3.1', 'db_id': '8936/3'}</td>\n",
       "      <td>-1</td>\n",
       "      <td>NaN</td>\n",
       "      <td>8000/6</td>\n",
       "      <td>1.000000</td>\n",
       "      <td>cc_onco855</td>\n",
       "    </tr>\n",
       "    <tr>\n",
       "      <th>49</th>\n",
       "      <td>3</td>\n",
       "      <td>True</td>\n",
       "      <td>2784</td>\n",
       "      <td>2810</td>\n",
       "      <td>[GIST, variante epitelioide]</td>\n",
       "      <td>MORFOLOGIA_NEOPLASIA</td>\n",
       "      <td>{'db_name': 'eCIE-O-3.1', 'db_id': '8936/3/H'}</td>\n",
       "      <td>-1</td>\n",
       "      <td>NaN</td>\n",
       "      <td>8000/6</td>\n",
       "      <td>1.000000</td>\n",
       "      <td>cc_onco855</td>\n",
       "    </tr>\n",
       "    <tr>\n",
       "      <th>...</th>\n",
       "      <td>...</td>\n",
       "      <td>...</td>\n",
       "      <td>...</td>\n",
       "      <td>...</td>\n",
       "      <td>...</td>\n",
       "      <td>...</td>\n",
       "      <td>...</td>\n",
       "      <td>...</td>\n",
       "      <td>...</td>\n",
       "      <td>...</td>\n",
       "      <td>...</td>\n",
       "      <td>...</td>\n",
       "    </tr>\n",
       "    <tr>\n",
       "      <th>3511</th>\n",
       "      <td>4</td>\n",
       "      <td>False</td>\n",
       "      <td>1361</td>\n",
       "      <td>1389</td>\n",
       "      <td>[neoplasia de células grandes]</td>\n",
       "      <td>MORFOLOGIA_NEOPLASIA</td>\n",
       "      <td>{'db_name': 'eCIE-O-3.1', 'db_id': '8000/1/H'}</td>\n",
       "      <td>-1</td>\n",
       "      <td>NaN</td>\n",
       "      <td>8003/3</td>\n",
       "      <td>0.827786</td>\n",
       "      <td>cc_onco1242</td>\n",
       "    </tr>\n",
       "    <tr>\n",
       "      <th>3526</th>\n",
       "      <td>6</td>\n",
       "      <td>False</td>\n",
       "      <td>2238</td>\n",
       "      <td>2290</td>\n",
       "      <td>[metástasis de tumor neuroendocrino bien difer...</td>\n",
       "      <td>MORFOLOGIA_NEOPLASIA</td>\n",
       "      <td>{'db_name': 'eCIE-O-3.1', 'db_id': '8240/6'}</td>\n",
       "      <td>-1</td>\n",
       "      <td>NaN</td>\n",
       "      <td>8000/6</td>\n",
       "      <td>1.000000</td>\n",
       "      <td>cc_onco659</td>\n",
       "    </tr>\n",
       "    <tr>\n",
       "      <th>3530</th>\n",
       "      <td>6</td>\n",
       "      <td>False</td>\n",
       "      <td>4576</td>\n",
       "      <td>4628</td>\n",
       "      <td>[metástasis de tumor neuroendocrino bien difer...</td>\n",
       "      <td>MORFOLOGIA_NEOPLASIA</td>\n",
       "      <td>{'db_name': 'eCIE-O-3.1', 'db_id': '8240/6'}</td>\n",
       "      <td>-1</td>\n",
       "      <td>NaN</td>\n",
       "      <td>8000/6</td>\n",
       "      <td>1.000000</td>\n",
       "      <td>cc_onco659</td>\n",
       "    </tr>\n",
       "    <tr>\n",
       "      <th>3532</th>\n",
       "      <td>9</td>\n",
       "      <td>False</td>\n",
       "      <td>5268</td>\n",
       "      <td>5342</td>\n",
       "      <td>[tumor neuroendocrino de probable origen intes...</td>\n",
       "      <td>MORFOLOGIA_NEOPLASIA</td>\n",
       "      <td>{'db_name': 'eCIE-O-3.1', 'db_id': '8240/6'}</td>\n",
       "      <td>-1</td>\n",
       "      <td>NaN</td>\n",
       "      <td>8000/6</td>\n",
       "      <td>1.000000</td>\n",
       "      <td>cc_onco659</td>\n",
       "    </tr>\n",
       "    <tr>\n",
       "      <th>3536</th>\n",
       "      <td>2</td>\n",
       "      <td>False</td>\n",
       "      <td>2373</td>\n",
       "      <td>2390</td>\n",
       "      <td>[tumor infiltrante]</td>\n",
       "      <td>MORFOLOGIA_NEOPLASIA</td>\n",
       "      <td>{'db_name': 'eCIE-O-3.1', 'db_id': '8000/1/H'}</td>\n",
       "      <td>-1</td>\n",
       "      <td>NaN</td>\n",
       "      <td>8000/6</td>\n",
       "      <td>1.000000</td>\n",
       "      <td>cc_onco238</td>\n",
       "    </tr>\n",
       "  </tbody>\n",
       "</table>\n",
       "<p>302 rows × 12 columns</p>\n",
       "</div>"
      ],
      "text/plain": [
       "      _word_len  _abbrev  gt_start  gt_end  \\\n",
       "22            6    False      3158    3196   \n",
       "33            8    False       283     340   \n",
       "42            1    False       598     613   \n",
       "43            1     True       739     743   \n",
       "49            3     True      2784    2810   \n",
       "...         ...      ...       ...     ...   \n",
       "3511          4    False      1361    1389   \n",
       "3526          6    False      2238    2290   \n",
       "3530          6    False      4576    4628   \n",
       "3532          9    False      5268    5342   \n",
       "3536          2    False      2373    2390   \n",
       "\n",
       "                                                gt_text             gold_type  \\\n",
       "22             [carcinoma medular tiroideo pT4a pN1 M1]  MORFOLOGIA_NEOPLASIA   \n",
       "33    [adenocarcinoma de próstata en lóbulo derecho,...  MORFOLOGIA_NEOPLASIA   \n",
       "42                                    [sólido-quística]  MORFOLOGIA_NEOPLASIA   \n",
       "43                                               [GIST]  MORFOLOGIA_NEOPLASIA   \n",
       "49                         [GIST, variante epitelioide]  MORFOLOGIA_NEOPLASIA   \n",
       "...                                                 ...                   ...   \n",
       "3511                     [neoplasia de células grandes]  MORFOLOGIA_NEOPLASIA   \n",
       "3526  [metástasis de tumor neuroendocrino bien difer...  MORFOLOGIA_NEOPLASIA   \n",
       "3530  [metástasis de tumor neuroendocrino bien difer...  MORFOLOGIA_NEOPLASIA   \n",
       "3532  [tumor neuroendocrino de probable origen intes...  MORFOLOGIA_NEOPLASIA   \n",
       "3536                                [tumor infiltrante]  MORFOLOGIA_NEOPLASIA   \n",
       "\n",
       "                                        gold_concept  pred_index  \\\n",
       "22      {'db_name': 'eCIE-O-3.1', 'db_id': '8510/6'}          -1   \n",
       "33     {'db_name': 'eCIE-O-3.1', 'db_id': '8140/31'}          -1   \n",
       "42      {'db_name': 'eCIE-O-3.1', 'db_id': '8452/1'}          -1   \n",
       "43      {'db_name': 'eCIE-O-3.1', 'db_id': '8936/3'}          -1   \n",
       "49    {'db_name': 'eCIE-O-3.1', 'db_id': '8936/3/H'}          -1   \n",
       "...                                              ...         ...   \n",
       "3511  {'db_name': 'eCIE-O-3.1', 'db_id': '8000/1/H'}          -1   \n",
       "3526    {'db_name': 'eCIE-O-3.1', 'db_id': '8240/6'}          -1   \n",
       "3530    {'db_name': 'eCIE-O-3.1', 'db_id': '8240/6'}          -1   \n",
       "3532    {'db_name': 'eCIE-O-3.1', 'db_id': '8240/6'}          -1   \n",
       "3536  {'db_name': 'eCIE-O-3.1', 'db_id': '8000/1/H'}          -1   \n",
       "\n",
       "      pred_index_score pred_top  pred_top_score  document_id  \n",
       "22                 NaN   8000/6        1.000000  cc_onco1485  \n",
       "33                 NaN   8000/6        1.000000  cc_onco1453  \n",
       "42                 NaN   8000/6        1.000000   cc_onco855  \n",
       "43                 NaN   8000/6        1.000000   cc_onco855  \n",
       "49                 NaN   8000/6        1.000000   cc_onco855  \n",
       "...                ...      ...             ...          ...  \n",
       "3511               NaN   8003/3        0.827786  cc_onco1242  \n",
       "3526               NaN   8000/6        1.000000   cc_onco659  \n",
       "3530               NaN   8000/6        1.000000   cc_onco659  \n",
       "3532               NaN   8000/6        1.000000   cc_onco659  \n",
       "3536               NaN   8000/6        1.000000   cc_onco238  \n",
       "\n",
       "[302 rows x 12 columns]"
      ]
     },
     "execution_count": 26,
     "metadata": {},
     "output_type": "execute_result"
    }
   ],
   "source": [
    "ea_df.query(\"pred_index == -1\")"
   ]
  },
  {
   "cell_type": "code",
   "execution_count": 27,
   "id": "234eea82-fed6-4805-abe4-3a1b024ea1b4",
   "metadata": {},
   "outputs": [
    {
     "data": {
      "text/html": [
       "<div>\n",
       "<style scoped>\n",
       "    .dataframe tbody tr th:only-of-type {\n",
       "        vertical-align: middle;\n",
       "    }\n",
       "\n",
       "    .dataframe tbody tr th {\n",
       "        vertical-align: top;\n",
       "    }\n",
       "\n",
       "    .dataframe thead th {\n",
       "        text-align: right;\n",
       "    }\n",
       "</style>\n",
       "<table border=\"1\" class=\"dataframe\">\n",
       "  <thead>\n",
       "    <tr style=\"text-align: right;\">\n",
       "      <th></th>\n",
       "      <th>_word_len</th>\n",
       "      <th>_abbrev</th>\n",
       "      <th>gt_start</th>\n",
       "      <th>gt_end</th>\n",
       "      <th>gt_text</th>\n",
       "      <th>gold_type</th>\n",
       "      <th>gold_concept</th>\n",
       "      <th>pred_index</th>\n",
       "      <th>pred_index_score</th>\n",
       "      <th>pred_top</th>\n",
       "      <th>pred_top_score</th>\n",
       "      <th>document_id</th>\n",
       "    </tr>\n",
       "  </thead>\n",
       "  <tbody>\n",
       "    <tr>\n",
       "      <th>3329</th>\n",
       "      <td>5</td>\n",
       "      <td>False</td>\n",
       "      <td>7134</td>\n",
       "      <td>7159</td>\n",
       "      <td>[enfermedad a nivel de SNC]</td>\n",
       "      <td>MORFOLOGIA_NEOPLASIA</td>\n",
       "      <td>{'db_name': 'eCIE-O-3.1', 'db_id': '8000/6'}</td>\n",
       "      <td>-1</td>\n",
       "      <td>NaN</td>\n",
       "      <td>9701/3</td>\n",
       "      <td>0.820186</td>\n",
       "      <td>cc_onco1038</td>\n",
       "    </tr>\n",
       "  </tbody>\n",
       "</table>\n",
       "</div>"
      ],
      "text/plain": [
       "      _word_len  _abbrev  gt_start  gt_end                      gt_text  \\\n",
       "3329          5    False      7134    7159  [enfermedad a nivel de SNC]   \n",
       "\n",
       "                 gold_type                                  gold_concept  \\\n",
       "3329  MORFOLOGIA_NEOPLASIA  {'db_name': 'eCIE-O-3.1', 'db_id': '8000/6'}   \n",
       "\n",
       "      pred_index  pred_index_score pred_top  pred_top_score  document_id  \n",
       "3329          -1               NaN   9701/3        0.820186  cc_onco1038  "
      ]
     },
     "execution_count": 27,
     "metadata": {},
     "output_type": "execute_result"
    }
   ],
   "source": [
    "#Check when it was assigned the generic code 8000/6, but the match was better with another ICD-O code\n",
    "ea_df[ea_df.gold_concept.map(lambda g: g[\"db_id\"] == \"8000/6\") & (ea_df.pred_index == -1)]#.pred_index.value_counts()"
   ]
  },
  {
   "cell_type": "markdown",
   "id": "b8617e85-44af-456d-a9eb-62e2ea6d9a88",
   "metadata": {},
   "source": [
    "# Reranking"
   ]
  },
  {
   "cell_type": "markdown",
   "id": "f26c4831-7b61-4e68-8bd6-2c40c8ecfe6d",
   "metadata": {},
   "source": [
    "## Using a Pre-trained Model for Reranking\n",
    "\n",
    "When no are little annotated training data is available, a pre-trained model can provide good re-ranking performance.\n",
    "Here, we use a cross-encoder that was trained on an automatically translated version of MedMentions (see the notebook [01_Translation.ipynb](01_Translation.ipynb))"
   ]
  },
  {
   "cell_type": "code",
   "execution_count": 80,
   "id": "cacadea0-079d-4d04-8ca0-d56de356c431",
   "metadata": {},
   "outputs": [],
   "source": [
    "#from xmen.reranking.cross_encoder import *\n",
    "#ce_dataset = CrossEncoderReranker.prepare_data(candidates_manual, dataset[\"test\"], kb)"
   ]
  },
  {
   "cell_type": "code",
   "execution_count": 81,
   "id": "82de6969-0899-4422-b06c-7f95db789299",
   "metadata": {},
   "outputs": [],
   "source": [
    "# CE re-ranker, pre-trained on Spanish translation of MedMentions\n",
    "#rr = CrossEncoderReranker.load(\"phlobo/xmen-es-ce-medmentions\", device=0)"
   ]
  },
  {
   "cell_type": "code",
   "execution_count": 82,
   "id": "21d793c8-6b05-47b4-8f3f-6948fb46c15f",
   "metadata": {},
   "outputs": [],
   "source": [
    "# Predict on test set\n",
    "#prediction = rr.rerank_batch(candidates_manual, ce_dataset, allow_nil=False)"
   ]
  },
  {
   "cell_type": "code",
   "execution_count": 83,
   "id": "a818b24d-c3b9-4290-8dbc-7f0d74bbcf75",
   "metadata": {},
   "outputs": [],
   "source": [
    "#evaluate(dataset['test'], prediction)"
   ]
  },
  {
   "cell_type": "markdown",
   "id": "74aef74d-58a7-400e-ba8f-a31e4a9fb3b6",
   "metadata": {},
   "source": [
    "## Training a Fully-supervised Model\n",
    "\n",
    "Finally, with enough training data, we can also train a fully supervsied cross-encoder to learn a better task-specific ranking.\n",
    "\n",
    "The cross-encoder is trained with batches of 64 candidates. \n",
    "We keep the checkpoint that maximizes accuracy@1 on the validation set."
   ]
  },
  {
   "cell_type": "code",
   "execution_count": 84,
   "id": "7633f8c4-0f67-45b5-b720-0bc43548458c",
   "metadata": {},
   "outputs": [
    {
     "data": {
      "application/vnd.jupyter.widget-view+json": {
       "model_id": "315a7f6f2b2f43e596aad08e28a4d36f",
       "version_major": 2,
       "version_minor": 0
      },
      "text/plain": [
       "Map:   0%|          | 0/501 [00:00<?, ? examples/s]"
      ]
     },
     "metadata": {},
     "output_type": "display_data"
    },
    {
     "name": "stderr",
     "output_type": "stream",
     "text": [
      "\n",
      "KeyboardInterrupt\n",
      "\n"
     ]
    }
   ],
   "source": [
    "candidates_all = linker.predict_batch(dataset, top_k=64, batch_size=128)"
   ]
  },
  {
   "cell_type": "code",
   "execution_count": null,
   "id": "22066f7c-29ad-4f59-a70e-86bf2edbd9ff",
   "metadata": {},
   "outputs": [],
   "source": [
    "candidates_manual_all = candidates_all.map(lambda d: add_manual_concepts(d))"
   ]
  },
  {
   "cell_type": "code",
   "execution_count": null,
   "id": "38874475-4e66-4117-8da7-7c7a257bae45",
   "metadata": {},
   "outputs": [],
   "source": [
    "from xmen.reranking.cross_encoder import *\n",
    "ce_dataset_all = CrossEncoderReranker.prepare_data(candidates_manual_all, dataset, kb)"
   ]
  },
  {
   "cell_type": "code",
   "execution_count": 17,
   "id": "ab585f3c-c829-4fbb-912f-c826545a362b",
   "metadata": {},
   "outputs": [
    {
     "name": "stdout",
     "output_type": "stream",
     "text": [
      "model_name := bert-base-multilingual-cased\n",
      "num_train_epochs := 3\n",
      "fp16 := True\n",
      "label_smoothing := False\n",
      "rank_regularization := 1.0\n",
      "train_layers := None\n",
      "softmax_loss := True\n",
      "random_seed := 42\n",
      "learning_rate := 2e-05\n"
     ]
    },
    {
     "name": "stderr",
     "output_type": "stream",
     "text": [
      "Some weights of BertForSequenceClassification were not initialized from the model checkpoint at bert-base-multilingual-cased and are newly initialized: ['classifier.weight', 'classifier.bias']\n",
      "You should probably TRAIN this model on a down-stream task to be able to use it for predictions and inference.\n"
     ]
    },
    {
     "name": "stdout",
     "output_type": "stream",
     "text": [
      "2023-10-18 13:49:28 - Use pytorch device: cuda\n",
      "2023-10-18 14:08:02 - EntityLinkingEvaluator: Evaluating the model on eval dataset after epoch 0:\n",
      "2023-10-18 14:18:57 - Accuracy: 0.7233468286099866\n",
      "2023-10-18 14:18:57 - Accuracy @ 5: 0.861336032388664\n",
      "2023-10-18 14:18:57 - Accuracy @ 64: 0.9946018893387314\n",
      "2023-10-18 14:18:57 - Baseline Accuracy: 0.6686909581646424\n",
      "2023-10-18 14:18:57 - Save model to ./output/cross_encoder\n",
      "2023-10-18 14:37:28 - EntityLinkingEvaluator: Evaluating the model on eval dataset after epoch 1:\n",
      "2023-10-18 14:48:25 - Accuracy: 0.7435897435897436\n",
      "2023-10-18 14:48:25 - Accuracy @ 5: 0.8711201079622132\n",
      "2023-10-18 14:48:25 - Accuracy @ 64: 0.9946018893387314\n",
      "2023-10-18 14:48:25 - Baseline Accuracy: 0.6686909581646424\n",
      "2023-10-18 14:48:25 - Save model to ./output/cross_encoder\n",
      "2023-10-18 15:07:04 - EntityLinkingEvaluator: Evaluating the model on eval dataset after epoch 2:\n",
      "2023-10-18 15:18:02 - Accuracy: 0.7510121457489879\n",
      "2023-10-18 15:18:02 - Accuracy @ 5: 0.8734817813765182\n",
      "2023-10-18 15:18:02 - Accuracy @ 64: 0.9946018893387314\n",
      "2023-10-18 15:18:02 - Baseline Accuracy: 0.6686909581646424\n",
      "2023-10-18 15:18:02 - Save model to ./output/cross_encoder\n"
     ]
    }
   ],
   "source": [
    "# Train the cross-encoder on the training set and use the validation set for model selection\n",
    "rr_fs = CrossEncoderReranker()\n",
    "# Note: we train for 3 epochs only (you likely want to increase this for better performance)\n",
    "args = CrossEncoderTrainingArgs(num_train_epochs=3, model_name=\"PlanTL-GOB-ES/roberta-base-biomedical-clinical-es\")\n",
    "rr_fs.fit(args, ce_dataset_all[\"train\"].dataset, ce_dataset_all[\"validation\"].dataset, show_progress_bar=True)"
   ]
  },
  {
   "cell_type": "code",
   "execution_count": 18,
   "id": "d09c3b36-bf23-4284-a67f-d832614f2424",
   "metadata": {},
   "outputs": [
    {
     "data": {
      "application/vnd.jupyter.widget-view+json": {
       "model_id": "89179d97be4843c5a2254fbc82ad8f47",
       "version_major": 2,
       "version_minor": 0
      },
      "text/plain": [
       "Batches:   0%|          | 0/3095 [00:00<?, ?it/s]"
      ]
     },
     "metadata": {},
     "output_type": "display_data"
    },
    {
     "data": {
      "application/vnd.jupyter.widget-view+json": {
       "model_id": "",
       "version_major": 2,
       "version_minor": 0
      },
      "text/plain": [
       "Map:   0%|          | 0/833 [00:00<?, ? examples/s]"
      ]
     },
     "metadata": {},
     "output_type": "display_data"
    },
    {
     "data": {
      "application/vnd.jupyter.widget-view+json": {
       "model_id": "",
       "version_major": 2,
       "version_minor": 0
      },
      "text/plain": [
       "Map:   0%|          | 0/833 [00:00<?, ? examples/s]"
      ]
     },
     "metadata": {},
     "output_type": "display_data"
    }
   ],
   "source": [
    "# Predict on test set\n",
    "prediction_fs = rr_fs.rerank_batch(candidates_manual_all[\"test\"], ce_dataset_all[\"test\"])"
   ]
  },
  {
   "cell_type": "code",
   "execution_count": null,
   "id": "832979d9-1b01-4101-9fd5-5e6829e1762b",
   "metadata": {},
   "outputs": [],
   "source": [
    "evaluate(dataset['test'], prediction_fs)"
   ]
  },
  {
   "cell_type": "markdown",
   "id": "2e8a75f0-7b64-4cdb-87f3-f6b739cb320e",
   "metadata": {},
   "source": [
    "# Evaluation\n",
    "\n",
    "## Metrics\n",
    "\n",
    "We compute metrics for the predicted concepts vs. the gold-standard for different values of k"
   ]
  },
  {
   "cell_type": "code",
   "execution_count": 19,
   "id": "8ac9da12-8d38-4364-96f2-be5a1e1b9fc5",
   "metadata": {},
   "outputs": [
    {
     "data": {
      "text/plain": [
       "{'strict': {'precision': 0.7528015820698748,\n",
       "  'recall': 0.7377260981912145,\n",
       "  'fscore': 0.7451876019575857,\n",
       "  'ptp': 2284,\n",
       "  'fp': 750,\n",
       "  'rtp': 2284,\n",
       "  'fn': 812,\n",
       "  'n_docs_system': 833,\n",
       "  'n_annos_system': 3034,\n",
       "  'n_docs_gold': 833,\n",
       "  'n_annos_gold': 3097}}"
      ]
     },
     "execution_count": 19,
     "metadata": {},
     "output_type": "execute_result"
    }
   ],
   "source": [
    "evaluate(dataset['test'], prediction_fs)"
   ]
  },
  {
   "cell_type": "code",
   "execution_count": 20,
   "id": "f38d2530-642f-4d0a-95ec-94f21de52483",
   "metadata": {},
   "outputs": [
    {
     "name": "stdout",
     "output_type": "stream",
     "text": [
      "Recall@1 0.6595607235142119\n",
      "Recall@2 0.790374677002584\n",
      "Recall@4 0.8449612403100775\n",
      "Recall@8 0.8656330749354005\n",
      "Recall@16 0.8853359173126615\n",
      "Recall@32 0.8963178294573644\n",
      "Recall@64 0.8998708010335917\n"
     ]
    }
   ],
   "source": [
    "from xmen.evaluation import evaluate_at_k\n",
    "_ = evaluate_at_k(dataset['test'], candidates['test'])"
   ]
  },
  {
   "cell_type": "code",
   "execution_count": 21,
   "id": "12421a31-eb88-4394-85d1-42295178ed4b",
   "metadata": {},
   "outputs": [
    {
     "name": "stdout",
     "output_type": "stream",
     "text": [
      "Recall@1 0.7377260981912145\n",
      "Recall@2 0.8049095607235142\n",
      "Recall@4 0.8397932816537468\n",
      "Recall@8 0.8601421188630491\n",
      "Recall@16 0.8782299741602068\n",
      "Recall@32 0.8888888888888888\n",
      "Recall@64 0.8934108527131783\n"
     ]
    }
   ],
   "source": [
    "_ = evaluate_at_k(dataset['test'], prediction_fs)"
   ]
  },
  {
   "cell_type": "markdown",
   "id": "d3f94940-fb36-4d72-adf5-6e3e60450a19",
   "metadata": {},
   "source": [
    "## Error Analysis\n",
    "\n",
    "To gain more insights into the ranking errors (and potential NER errors, which do not apply here), we use the `error_analysis` functionality of xmen"
   ]
  },
  {
   "cell_type": "code",
   "execution_count": 24,
   "id": "b84234f7-ee2c-449d-988c-6c6b60f2dd5d",
   "metadata": {},
   "outputs": [],
   "source": []
  },
  {
   "cell_type": "code",
   "execution_count": 25,
   "id": "fc535571-0e7c-49f6-a87b-6d61aa0c3c2d",
   "metadata": {},
   "outputs": [
    {
     "data": {
      "text/html": [
       "<div>\n",
       "<style scoped>\n",
       "    .dataframe tbody tr th:only-of-type {\n",
       "        vertical-align: middle;\n",
       "    }\n",
       "\n",
       "    .dataframe tbody tr th {\n",
       "        vertical-align: top;\n",
       "    }\n",
       "\n",
       "    .dataframe thead th {\n",
       "        text-align: right;\n",
       "    }\n",
       "</style>\n",
       "<table border=\"1\" class=\"dataframe\">\n",
       "  <thead>\n",
       "    <tr style=\"text-align: right;\">\n",
       "      <th></th>\n",
       "      <th>_word_len</th>\n",
       "      <th>_abbrev</th>\n",
       "      <th>gt_start</th>\n",
       "      <th>gt_end</th>\n",
       "      <th>gt_text</th>\n",
       "      <th>gold_type</th>\n",
       "      <th>gold_concept</th>\n",
       "      <th>pred_index</th>\n",
       "      <th>pred_index_score</th>\n",
       "      <th>pred_top</th>\n",
       "      <th>pred_top_score</th>\n",
       "      <th>document_id</th>\n",
       "    </tr>\n",
       "  </thead>\n",
       "  <tbody>\n",
       "    <tr>\n",
       "      <th>0</th>\n",
       "      <td>1</td>\n",
       "      <td>False</td>\n",
       "      <td>794</td>\n",
       "      <td>806</td>\n",
       "      <td>[neoformación]</td>\n",
       "      <td>MORFOLOGIA_NEOPLASIA</td>\n",
       "      <td>{'db_name': 'eCIE-O-3.1', 'db_id': '8000/1'}</td>\n",
       "      <td>0</td>\n",
       "      <td>0.745895</td>\n",
       "      <td>8000/1</td>\n",
       "      <td>0.745895</td>\n",
       "      <td>cc_onco1006</td>\n",
       "    </tr>\n",
       "    <tr>\n",
       "      <th>1</th>\n",
       "      <td>1</td>\n",
       "      <td>False</td>\n",
       "      <td>882</td>\n",
       "      <td>894</td>\n",
       "      <td>[metastásicas]</td>\n",
       "      <td>MORFOLOGIA_NEOPLASIA</td>\n",
       "      <td>{'db_name': 'eCIE-O-3.1', 'db_id': '8000/6'}</td>\n",
       "      <td>246</td>\n",
       "      <td>0.271365</td>\n",
       "      <td>8312/6</td>\n",
       "      <td>0.866415</td>\n",
       "      <td>cc_onco1006</td>\n",
       "    </tr>\n",
       "    <tr>\n",
       "      <th>2</th>\n",
       "      <td>3</td>\n",
       "      <td>False</td>\n",
       "      <td>1115</td>\n",
       "      <td>1147</td>\n",
       "      <td>[adenocarcinoma bien diferenciado]</td>\n",
       "      <td>MORFOLOGIA_NEOPLASIA</td>\n",
       "      <td>{'db_name': 'eCIE-O-3.1', 'db_id': '8140/31'}</td>\n",
       "      <td>0</td>\n",
       "      <td>1.000000</td>\n",
       "      <td>8140/31</td>\n",
       "      <td>1.000000</td>\n",
       "      <td>cc_onco1006</td>\n",
       "    </tr>\n",
       "    <tr>\n",
       "      <th>3</th>\n",
       "      <td>1</td>\n",
       "      <td>False</td>\n",
       "      <td>1590</td>\n",
       "      <td>1602</td>\n",
       "      <td>[neoformación]</td>\n",
       "      <td>MORFOLOGIA_NEOPLASIA</td>\n",
       "      <td>{'db_name': 'eCIE-O-3.1', 'db_id': '8000/1'}</td>\n",
       "      <td>0</td>\n",
       "      <td>0.745895</td>\n",
       "      <td>8000/1</td>\n",
       "      <td>0.745895</td>\n",
       "      <td>cc_onco1006</td>\n",
       "    </tr>\n",
       "    <tr>\n",
       "      <th>4</th>\n",
       "      <td>1</td>\n",
       "      <td>False</td>\n",
       "      <td>1678</td>\n",
       "      <td>1690</td>\n",
       "      <td>[metastásicas]</td>\n",
       "      <td>MORFOLOGIA_NEOPLASIA</td>\n",
       "      <td>{'db_name': 'eCIE-O-3.1', 'db_id': '8000/6'}</td>\n",
       "      <td>246</td>\n",
       "      <td>0.271365</td>\n",
       "      <td>8312/6</td>\n",
       "      <td>0.866415</td>\n",
       "      <td>cc_onco1006</td>\n",
       "    </tr>\n",
       "    <tr>\n",
       "      <th>5</th>\n",
       "      <td>3</td>\n",
       "      <td>False</td>\n",
       "      <td>1911</td>\n",
       "      <td>1943</td>\n",
       "      <td>[adenocarcinoma bien diferenciado]</td>\n",
       "      <td>MORFOLOGIA_NEOPLASIA</td>\n",
       "      <td>{'db_name': 'eCIE-O-3.1', 'db_id': '8140/31'}</td>\n",
       "      <td>0</td>\n",
       "      <td>1.000000</td>\n",
       "      <td>8140/31</td>\n",
       "      <td>1.000000</td>\n",
       "      <td>cc_onco1006</td>\n",
       "    </tr>\n",
       "    <tr>\n",
       "      <th>6</th>\n",
       "      <td>5</td>\n",
       "      <td>False</td>\n",
       "      <td>2121</td>\n",
       "      <td>2166</td>\n",
       "      <td>[adenocarcinoma de sigma estenosante, pT3N2bM1]</td>\n",
       "      <td>MORFOLOGIA_NEOPLASIA</td>\n",
       "      <td>{'db_name': 'eCIE-O-3.1', 'db_id': '8140/6'}</td>\n",
       "      <td>4</td>\n",
       "      <td>0.568437</td>\n",
       "      <td>9062/6</td>\n",
       "      <td>0.624968</td>\n",
       "      <td>cc_onco1006</td>\n",
       "    </tr>\n",
       "    <tr>\n",
       "      <th>7</th>\n",
       "      <td>2</td>\n",
       "      <td>False</td>\n",
       "      <td>2172</td>\n",
       "      <td>2191</td>\n",
       "      <td>[afectación hepática]</td>\n",
       "      <td>MORFOLOGIA_NEOPLASIA</td>\n",
       "      <td>{'db_name': 'eCIE-O-3.1', 'db_id': '8000/6'}</td>\n",
       "      <td>3</td>\n",
       "      <td>0.572814</td>\n",
       "      <td>9735/6</td>\n",
       "      <td>0.706308</td>\n",
       "      <td>cc_onco1006</td>\n",
       "    </tr>\n",
       "    <tr>\n",
       "      <th>8</th>\n",
       "      <td>1</td>\n",
       "      <td>False</td>\n",
       "      <td>2347</td>\n",
       "      <td>2352</td>\n",
       "      <td>[tumor]</td>\n",
       "      <td>MORFOLOGIA_NEOPLASIA</td>\n",
       "      <td>{'db_name': 'eCIE-O-3.1', 'db_id': '8000/1'}</td>\n",
       "      <td>0</td>\n",
       "      <td>0.950313</td>\n",
       "      <td>8000/1</td>\n",
       "      <td>0.950313</td>\n",
       "      <td>cc_onco1006</td>\n",
       "    </tr>\n",
       "    <tr>\n",
       "      <th>9</th>\n",
       "      <td>1</td>\n",
       "      <td>False</td>\n",
       "      <td>2494</td>\n",
       "      <td>2504</td>\n",
       "      <td>[metástasis]</td>\n",
       "      <td>MORFOLOGIA_NEOPLASIA</td>\n",
       "      <td>{'db_name': 'eCIE-O-3.1', 'db_id': '8000/6'}</td>\n",
       "      <td>165</td>\n",
       "      <td>0.309242</td>\n",
       "      <td>8973/6</td>\n",
       "      <td>0.970318</td>\n",
       "      <td>cc_onco1006</td>\n",
       "    </tr>\n",
       "  </tbody>\n",
       "</table>\n",
       "</div>"
      ],
      "text/plain": [
       "   _word_len  _abbrev  gt_start  gt_end  \\\n",
       "0          1    False       794     806   \n",
       "1          1    False       882     894   \n",
       "2          3    False      1115    1147   \n",
       "3          1    False      1590    1602   \n",
       "4          1    False      1678    1690   \n",
       "5          3    False      1911    1943   \n",
       "6          5    False      2121    2166   \n",
       "7          2    False      2172    2191   \n",
       "8          1    False      2347    2352   \n",
       "9          1    False      2494    2504   \n",
       "\n",
       "                                           gt_text             gold_type  \\\n",
       "0                                   [neoformación]  MORFOLOGIA_NEOPLASIA   \n",
       "1                                   [metastásicas]  MORFOLOGIA_NEOPLASIA   \n",
       "2               [adenocarcinoma bien diferenciado]  MORFOLOGIA_NEOPLASIA   \n",
       "3                                   [neoformación]  MORFOLOGIA_NEOPLASIA   \n",
       "4                                   [metastásicas]  MORFOLOGIA_NEOPLASIA   \n",
       "5               [adenocarcinoma bien diferenciado]  MORFOLOGIA_NEOPLASIA   \n",
       "6  [adenocarcinoma de sigma estenosante, pT3N2bM1]  MORFOLOGIA_NEOPLASIA   \n",
       "7                            [afectación hepática]  MORFOLOGIA_NEOPLASIA   \n",
       "8                                          [tumor]  MORFOLOGIA_NEOPLASIA   \n",
       "9                                     [metástasis]  MORFOLOGIA_NEOPLASIA   \n",
       "\n",
       "                                    gold_concept  pred_index  \\\n",
       "0   {'db_name': 'eCIE-O-3.1', 'db_id': '8000/1'}           0   \n",
       "1   {'db_name': 'eCIE-O-3.1', 'db_id': '8000/6'}         246   \n",
       "2  {'db_name': 'eCIE-O-3.1', 'db_id': '8140/31'}           0   \n",
       "3   {'db_name': 'eCIE-O-3.1', 'db_id': '8000/1'}           0   \n",
       "4   {'db_name': 'eCIE-O-3.1', 'db_id': '8000/6'}         246   \n",
       "5  {'db_name': 'eCIE-O-3.1', 'db_id': '8140/31'}           0   \n",
       "6   {'db_name': 'eCIE-O-3.1', 'db_id': '8140/6'}           4   \n",
       "7   {'db_name': 'eCIE-O-3.1', 'db_id': '8000/6'}           3   \n",
       "8   {'db_name': 'eCIE-O-3.1', 'db_id': '8000/1'}           0   \n",
       "9   {'db_name': 'eCIE-O-3.1', 'db_id': '8000/6'}         165   \n",
       "\n",
       "   pred_index_score pred_top  pred_top_score  document_id  \n",
       "0          0.745895   8000/1        0.745895  cc_onco1006  \n",
       "1          0.271365   8312/6        0.866415  cc_onco1006  \n",
       "2          1.000000  8140/31        1.000000  cc_onco1006  \n",
       "3          0.745895   8000/1        0.745895  cc_onco1006  \n",
       "4          0.271365   8312/6        0.866415  cc_onco1006  \n",
       "5          1.000000  8140/31        1.000000  cc_onco1006  \n",
       "6          0.568437   9062/6        0.624968  cc_onco1006  \n",
       "7          0.572814   9735/6        0.706308  cc_onco1006  \n",
       "8          0.950313   8000/1        0.950313  cc_onco1006  \n",
       "9          0.309242   8973/6        0.970318  cc_onco1006  "
      ]
     },
     "execution_count": 25,
     "metadata": {},
     "output_type": "execute_result"
    }
   ],
   "source": []
  },
  {
   "cell_type": "code",
   "execution_count": 24,
   "id": "56e3d2a6-0cb5-43d6-94e5-e5a25c36926b",
   "metadata": {},
   "outputs": [
    {
     "data": {
      "text/html": [
       "<div>\n",
       "<style scoped>\n",
       "    .dataframe tbody tr th:only-of-type {\n",
       "        vertical-align: middle;\n",
       "    }\n",
       "\n",
       "    .dataframe tbody tr th {\n",
       "        vertical-align: top;\n",
       "    }\n",
       "\n",
       "    .dataframe thead th {\n",
       "        text-align: right;\n",
       "    }\n",
       "</style>\n",
       "<table border=\"1\" class=\"dataframe\">\n",
       "  <thead>\n",
       "    <tr style=\"text-align: right;\">\n",
       "      <th></th>\n",
       "      <th>_word_len</th>\n",
       "      <th>_abbrev</th>\n",
       "      <th>gt_start</th>\n",
       "      <th>gt_end</th>\n",
       "      <th>gt_text</th>\n",
       "      <th>gold_concept</th>\n",
       "      <th>gold_type</th>\n",
       "      <th>pred_index</th>\n",
       "      <th>pred_index_score</th>\n",
       "      <th>pred_top</th>\n",
       "      <th>pred_top_score</th>\n",
       "      <th>document_id</th>\n",
       "    </tr>\n",
       "  </thead>\n",
       "  <tbody>\n",
       "    <tr>\n",
       "      <th>0</th>\n",
       "      <td>1</td>\n",
       "      <td>False</td>\n",
       "      <td>0</td>\n",
       "      <td>5</td>\n",
       "      <td>[Etude]</td>\n",
       "      <td>{'db_name': 'UMLS', 'db_id': 'C0008972'}</td>\n",
       "      <td>PROC</td>\n",
       "      <td>-1</td>\n",
       "      <td>NaN</td>\n",
       "      <td>NIL</td>\n",
       "      <td>NaN</td>\n",
       "      <td>1009657</td>\n",
       "    </tr>\n",
       "    <tr>\n",
       "      <th>1</th>\n",
       "      <td>1</td>\n",
       "      <td>False</td>\n",
       "      <td>47</td>\n",
       "      <td>55</td>\n",
       "      <td>[Africain]</td>\n",
       "      <td>{'db_name': 'UMLS', 'db_id': 'C0027567'}</td>\n",
       "      <td>LIVB</td>\n",
       "      <td>1</td>\n",
       "      <td>0.037805</td>\n",
       "      <td>C0085756</td>\n",
       "      <td>0.041022</td>\n",
       "      <td>1009657</td>\n",
       "    </tr>\n",
       "    <tr>\n",
       "      <th>2</th>\n",
       "      <td>1</td>\n",
       "      <td>False</td>\n",
       "      <td>4</td>\n",
       "      <td>13</td>\n",
       "      <td>[gangrènes]</td>\n",
       "      <td>{'db_name': 'UMLS', 'db_id': 'C0017086'}</td>\n",
       "      <td>DISO</td>\n",
       "      <td>0</td>\n",
       "      <td>0.042884</td>\n",
       "      <td>C0017086</td>\n",
       "      <td>0.042884</td>\n",
       "      <td>1009808</td>\n",
       "    </tr>\n",
       "    <tr>\n",
       "      <th>3</th>\n",
       "      <td>2</td>\n",
       "      <td>False</td>\n",
       "      <td>4</td>\n",
       "      <td>22</td>\n",
       "      <td>[gangrènes gazeuses]</td>\n",
       "      <td>{'db_name': 'UMLS', 'db_id': 'C0017105'}</td>\n",
       "      <td>DISO</td>\n",
       "      <td>0</td>\n",
       "      <td>0.061593</td>\n",
       "      <td>C0017105</td>\n",
       "      <td>0.061593</td>\n",
       "      <td>1009808</td>\n",
       "    </tr>\n",
       "    <tr>\n",
       "      <th>4</th>\n",
       "      <td>1</td>\n",
       "      <td>False</td>\n",
       "      <td>14</td>\n",
       "      <td>22</td>\n",
       "      <td>[gazeuses]</td>\n",
       "      <td>{'db_name': 'UMLS', 'db_id': 'C0017110'}</td>\n",
       "      <td>CHEM</td>\n",
       "      <td>0</td>\n",
       "      <td>0.090157</td>\n",
       "      <td>C0017110</td>\n",
       "      <td>0.090157</td>\n",
       "      <td>1009808</td>\n",
       "    </tr>\n",
       "    <tr>\n",
       "      <th>5</th>\n",
       "      <td>1</td>\n",
       "      <td>False</td>\n",
       "      <td>35</td>\n",
       "      <td>46</td>\n",
       "      <td>[tuberculose]</td>\n",
       "      <td>{'db_name': 'UMLS', 'db_id': 'C0041296'}</td>\n",
       "      <td>DISO</td>\n",
       "      <td>0</td>\n",
       "      <td>0.04742</td>\n",
       "      <td>C0041296</td>\n",
       "      <td>0.04742</td>\n",
       "      <td>1019393</td>\n",
       "    </tr>\n",
       "    <tr>\n",
       "      <th>6</th>\n",
       "      <td>2</td>\n",
       "      <td>False</td>\n",
       "      <td>35</td>\n",
       "      <td>53</td>\n",
       "      <td>[tuberculose bovine]</td>\n",
       "      <td>{'db_name': 'UMLS', 'db_id': 'C0041307'}</td>\n",
       "      <td>DISO</td>\n",
       "      <td>0</td>\n",
       "      <td>0.062842</td>\n",
       "      <td>C0041307</td>\n",
       "      <td>0.062842</td>\n",
       "      <td>1019393</td>\n",
       "    </tr>\n",
       "    <tr>\n",
       "      <th>7</th>\n",
       "      <td>1</td>\n",
       "      <td>False</td>\n",
       "      <td>47</td>\n",
       "      <td>53</td>\n",
       "      <td>[bovine]</td>\n",
       "      <td>{'db_name': 'UMLS', 'db_id': 'C0007452'}</td>\n",
       "      <td>LIVB</td>\n",
       "      <td>0</td>\n",
       "      <td>0.087439</td>\n",
       "      <td>C0007452</td>\n",
       "      <td>0.087439</td>\n",
       "      <td>1019393</td>\n",
       "    </tr>\n",
       "    <tr>\n",
       "      <th>8</th>\n",
       "      <td>2</td>\n",
       "      <td>False</td>\n",
       "      <td>56</td>\n",
       "      <td>75</td>\n",
       "      <td>[Mycobacterium bovis]</td>\n",
       "      <td>{'db_name': 'UMLS', 'db_id': 'C0026917'}</td>\n",
       "      <td>DISO</td>\n",
       "      <td>-1</td>\n",
       "      <td>NaN</td>\n",
       "      <td>C0041307</td>\n",
       "      <td>0.550823</td>\n",
       "      <td>1019393</td>\n",
       "    </tr>\n",
       "    <tr>\n",
       "      <th>9</th>\n",
       "      <td>1</td>\n",
       "      <td>False</td>\n",
       "      <td>78</td>\n",
       "      <td>86</td>\n",
       "      <td>[observés]</td>\n",
       "      <td>{'db_name': 'UMLS', 'db_id': 'C0302523'}</td>\n",
       "      <td>PROC</td>\n",
       "      <td>0</td>\n",
       "      <td>0.050934</td>\n",
       "      <td>C0302523</td>\n",
       "      <td>0.050934</td>\n",
       "      <td>1019393</td>\n",
       "    </tr>\n",
       "  </tbody>\n",
       "</table>\n",
       "</div>"
      ],
      "text/plain": [
       "   _word_len  _abbrev gt_start gt_end                gt_text  \\\n",
       "0          1    False        0      5                [Etude]   \n",
       "1          1    False       47     55             [Africain]   \n",
       "2          1    False        4     13            [gangrènes]   \n",
       "3          2    False        4     22   [gangrènes gazeuses]   \n",
       "4          1    False       14     22             [gazeuses]   \n",
       "5          1    False       35     46          [tuberculose]   \n",
       "6          2    False       35     53   [tuberculose bovine]   \n",
       "7          1    False       47     53               [bovine]   \n",
       "8          2    False       56     75  [Mycobacterium bovis]   \n",
       "9          1    False       78     86             [observés]   \n",
       "\n",
       "                               gold_concept gold_type pred_index  \\\n",
       "0  {'db_name': 'UMLS', 'db_id': 'C0008972'}      PROC         -1   \n",
       "1  {'db_name': 'UMLS', 'db_id': 'C0027567'}      LIVB          1   \n",
       "2  {'db_name': 'UMLS', 'db_id': 'C0017086'}      DISO          0   \n",
       "3  {'db_name': 'UMLS', 'db_id': 'C0017105'}      DISO          0   \n",
       "4  {'db_name': 'UMLS', 'db_id': 'C0017110'}      CHEM          0   \n",
       "5  {'db_name': 'UMLS', 'db_id': 'C0041296'}      DISO          0   \n",
       "6  {'db_name': 'UMLS', 'db_id': 'C0041307'}      DISO          0   \n",
       "7  {'db_name': 'UMLS', 'db_id': 'C0007452'}      LIVB          0   \n",
       "8  {'db_name': 'UMLS', 'db_id': 'C0026917'}      DISO         -1   \n",
       "9  {'db_name': 'UMLS', 'db_id': 'C0302523'}      PROC          0   \n",
       "\n",
       "  pred_index_score  pred_top pred_top_score document_id  \n",
       "0              NaN       NIL            NaN     1009657  \n",
       "1         0.037805  C0085756       0.041022     1009657  \n",
       "2         0.042884  C0017086       0.042884     1009808  \n",
       "3         0.061593  C0017105       0.061593     1009808  \n",
       "4         0.090157  C0017110       0.090157     1009808  \n",
       "5          0.04742  C0041296        0.04742     1019393  \n",
       "6         0.062842  C0041307       0.062842     1019393  \n",
       "7         0.087439  C0007452       0.087439     1019393  \n",
       "8              NaN  C0041307       0.550823     1019393  \n",
       "9         0.050934  C0302523       0.050934     1019393  "
      ]
     },
     "execution_count": 24,
     "metadata": {},
     "output_type": "execute_result"
    }
   ],
   "source": [
    "# After Re-Ranking\n",
    "ea_df = error_analysis(dataset['test'], prediction_fs, tasks=['nen'])\n",
    "ea_df.head(10)"
   ]
  },
  {
   "cell_type": "code",
   "execution_count": 25,
   "id": "d473f20a-998e-401b-bc16-42466d4de8b7",
   "metadata": {},
   "outputs": [
    {
     "data": {
      "text/plain": [
       "<Axes: xlabel='pred_index'>"
      ]
     },
     "execution_count": 25,
     "metadata": {},
     "output_type": "execute_result"
    },
    {
     "data": {
      "image/png": "[encoded data removed]",
      "text/plain": [
       "<Figure size 640x480 with 1 Axes>"
      ]
     },
     "metadata": {},
     "output_type": "display_data"
    }
   ],
   "source": [
    "ea_df.pred_index.value_counts().sort_index().iloc[0:10].plot.bar()"
   ]
  }
 ],
 "metadata": {
  "kernelspec": {
   "display_name": "Python 3 (ipykernel)",
   "language": "python",
   "name": "python3"
  },
  "language_info": {
   "codemirror_mode": {
    "name": "ipython",
    "version": 3
   },
   "file_extension": ".py",
   "mimetype": "text/x-python",
   "name": "python",
   "nbconvert_exporter": "python",
   "pygments_lexer": "ipython3",
   "version": "3.10.14"
  }
 },
 "nbformat": 4,
 "nbformat_minor": 5
}
