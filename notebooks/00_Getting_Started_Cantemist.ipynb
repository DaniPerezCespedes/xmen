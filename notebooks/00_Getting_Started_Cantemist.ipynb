{
 "cells": [
  {
   "cell_type": "markdown",
   "id": "03ef454e-c23b-42f0-990d-672da8902452",
   "metadata": {},
   "source": [
    "## Getting Started with Cantemist"
   ]
  },
  {
   "cell_type": "markdown",
   "id": "b6a05ddc-a8b0-444d-890b-898ce9e5f302",
   "metadata": {},
   "source": [
    "## Preparation\n",
    "\n",
    "Go to the root folder of the repository and run the following commands\n",
    "\n",
    "`xmen dict examples/conf/cantemist.yaml --code examples/dicts/cantemist.py`\n",
    "\n",
    "\n",
    "This command creates the Cantemist- ICD-O jsonl file.\n",
    "\n",
    "`xmen index examples/conf/cantemist.yaml --all`\n",
    "\n",
    "This command creates the indices used candidate generations (both TF-IDF and SapBERT).\n",
    "\n",
    "By default, all files are written to `~/.cache/xmen`, unless configured otherwise."
   ]
  },
  {
   "cell_type": "code",
   "execution_count": 1,
   "id": "f0118439-326a-4d74-b0e1-88fb49d691af",
   "metadata": {
    "tags": []
   },
   "outputs": [],
   "source": [
    "#xmen index C:\\Users\\Daniela\\xmen\\examples\\conf\\cantemist.yaml --all"
   ]
  },
  {
   "cell_type": "code",
   "execution_count": 2,
   "id": "f0f88017-34a4-40c6-a403-4601b15dc8b3",
   "metadata": {
    "tags": []
   },
   "outputs": [],
   "source": [
    "#!git clone https://github.com/bigscience-workshop/biomedical"
   ]
  },
  {
   "cell_type": "markdown",
   "id": "482b215a-9a15-4227-8c88-da811c0c0fe9",
   "metadata": {},
   "source": [
    "## Loading Knowledge Base and Dataset"
   ]
  },
  {
   "cell_type": "code",
   "execution_count": 5,
   "id": "6f4cd4b7-2e15-4838-9f3e-69ef5b15e0b9",
   "metadata": {
    "tags": []
   },
   "outputs": [],
   "source": [
    "variant = \"4_cantemist_custom\""
   ]
  },
  {
   "cell_type": "code",
   "execution_count": 6,
   "id": "46917412-c6e3-48c6-8e45-278aab09202c",
   "metadata": {
    "tags": []
   },
   "outputs": [],
   "source": [
    "from pathlib import Path\n",
    "base_path = Path.home() / f\".cache/xmen/{variant}\""
   ]
  },
  {
   "cell_type": "code",
   "execution_count": 7,
   "id": "4a5c2cec-469f-4765-af04-28fe240b328f",
   "metadata": {
    "tags": []
   },
   "outputs": [],
   "source": [
    "#print(base_path)"
   ]
  },
  {
   "cell_type": "code",
   "execution_count": 6,
   "id": "20a25d8c-5d5a-43ab-a344-0714cff20fd6",
   "metadata": {
    "tags": []
   },
   "outputs": [],
   "source": [
    "#!pip install ./biomedical/"
   ]
  },
  {
   "cell_type": "code",
   "execution_count": 8,
   "id": "8c419ff7-306f-4522-811c-cffadea0010d",
   "metadata": {
    "scrolled": true,
    "tags": []
   },
   "outputs": [],
   "source": [
    "# Load cantemist subset through BigBIO dataloader\n",
    "from datasets import load_dataset\n",
    "#dataset = load_dataset(\"bigbio/cantemist\", \"cantemist_bigbio_kb\",download_mode=\"force_redownload\")\n",
    "dataset = load_dataset('../../biomedical/bigbio/biodatasets/cantemist/cantemist.py', 'cantemist_bigbio_kb', 'trust_remote_code=True')"
   ]
  },
  {
   "cell_type": "code",
   "execution_count": 9,
   "id": "13bde2e5-3750-4997-bbe2-e5a5b3655181",
   "metadata": {
    "tags": []
   },
   "outputs": [
    {
     "data": {
      "text/plain": [
       "DatasetDict({\n",
       "    train: Dataset({\n",
       "        features: ['id', 'document_id', 'passages', 'entities', 'events', 'coreferences', 'relations'],\n",
       "        num_rows: 501\n",
       "    })\n",
       "    test: Dataset({\n",
       "        features: ['id', 'document_id', 'passages', 'entities', 'events', 'coreferences', 'relations'],\n",
       "        num_rows: 300\n",
       "    })\n",
       "    validation: Dataset({\n",
       "        features: ['id', 'document_id', 'passages', 'entities', 'events', 'coreferences', 'relations'],\n",
       "        num_rows: 500\n",
       "    })\n",
       "})"
      ]
     },
     "execution_count": 9,
     "metadata": {},
     "output_type": "execute_result"
    }
   ],
   "source": [
    "dataset"
   ]
  },
  {
   "cell_type": "code",
   "execution_count": 11,
   "id": "00dd59d0-d7dd-4dd2-ab92-35843ee7e14a",
   "metadata": {
    "tags": []
   },
   "outputs": [],
   "source": [
    "from xmen import load_kb\n",
    "kb = load_kb(base_path / f\"{variant}.jsonl\")\n",
    "#kb = load_kb(base_path / \"cantemist.jsonl\")"
   ]
  },
  {
   "cell_type": "code",
   "execution_count": 12,
   "id": "81bcf0e9-f906-468b-b7ab-f8fc984ef969",
   "metadata": {
    "tags": []
   },
   "outputs": [
    {
     "data": {
      "text/plain": [
       "(0, 0)"
      ]
     },
     "execution_count": 12,
     "metadata": {},
     "output_type": "execute_result"
    }
   ],
   "source": [
    "missing_codes = list()\n",
    "for d in dataset['train']:\n",
    "    for e in d['entities']:\n",
    "        for code in e['normalized']:\n",
    "            id = code['db_id']\n",
    "            if not id in kb.cui_to_entity:\n",
    "                missing_codes.append(id)\n",
    "len(missing_codes), len(set(missing_codes))"
   ]
  },
  {
   "cell_type": "code",
   "execution_count": 13,
   "id": "94750008-0cad-463f-a2cb-6e99066cc386",
   "metadata": {
    "tags": []
   },
   "outputs": [
    {
     "data": {
      "text/plain": [
       "[]"
      ]
     },
     "execution_count": 13,
     "metadata": {},
     "output_type": "execute_result"
    }
   ],
   "source": [
    "missing_codes"
   ]
  },
  {
   "cell_type": "markdown",
   "id": "ad987400-dfc7-4ecc-8fd0-5aeb408904e2",
   "metadata": {},
   "source": [
    "# Candidate Generation\n",
    "\n",
    "We use the pre-computed indices to retrieve the 64 most similar concepts for each mention"
   ]
  },
  {
   "cell_type": "code",
   "execution_count": 14,
   "id": "37d5d24c-7bbf-4254-9d74-52b983c24d12",
   "metadata": {
    "tags": []
   },
   "outputs": [
    {
     "data": {
      "text/html": [
       "<pre style=\"white-space:pre;overflow-x:auto;line-height:normal;font-family:Menlo,'DejaVu Sans Mono',consolas,'Courier New',monospace\"><span style=\"color: #7fbfbf; text-decoration-color: #7fbfbf\">[07/02/24 12:00:14] </span><span style=\"color: #000080; text-decoration-color: #000080\">INFO    </span> Loading hierarchical faiss index                                <a href=\"file:///mnt/nfs/home/Florian.Borchert/workspace/xmen/xmen/linkers/sap_bert_linker.py\" target=\"_blank\"><span style=\"color: #7f7f7f; text-decoration-color: #7f7f7f\">sap_bert_linker.py</span></a><span style=\"color: #7f7f7f; text-decoration-color: #7f7f7f\">:</span><a href=\"file:///mnt/nfs/home/Florian.Borchert/workspace/xmen/xmen/linkers/sap_bert_linker.py#153\" target=\"_blank\"><span style=\"color: #7f7f7f; text-decoration-color: #7f7f7f\">153</span></a>\n",
       "</pre>\n"
      ],
      "text/plain": [
       "\u001b[2;36m[07/02/24 12:00:14]\u001b[0m\u001b[2;36m \u001b[0m\u001b[34mINFO    \u001b[0m Loading hierarchical faiss index                                \u001b]8;id=489156;file:///mnt/nfs/home/Florian.Borchert/workspace/xmen/xmen/linkers/sap_bert_linker.py\u001b\\\u001b[2msap_bert_linker.py\u001b[0m\u001b]8;;\u001b\\\u001b[2m:\u001b[0m\u001b]8;id=461641;file:///mnt/nfs/home/Florian.Borchert/workspace/xmen/xmen/linkers/sap_bert_linker.py#153\u001b\\\u001b[2m153\u001b[0m\u001b]8;;\u001b\\\n"
      ]
     },
     "metadata": {},
     "output_type": "display_data"
    },
    {
     "data": {
      "text/html": [
       "<pre style=\"white-space:pre;overflow-x:auto;line-height:normal;font-family:Menlo,'DejaVu Sans Mono',consolas,'Courier New',monospace\"><span style=\"color: #7fbfbf; text-decoration-color: #7fbfbf\">                    </span><span style=\"color: #000080; text-decoration-color: #000080\">INFO    </span> Loading index from                                                 <a href=\"file:///mnt/nfs/home/Florian.Borchert/workspace/xmen/xmen/linkers/faiss_indexer.py\" target=\"_blank\"><span style=\"color: #7f7f7f; text-decoration-color: #7f7f7f\">faiss_indexer.py</span></a><span style=\"color: #7f7f7f; text-decoration-color: #7f7f7f\">:</span><a href=\"file:///mnt/nfs/home/Florian.Borchert/workspace/xmen/xmen/linkers/faiss_indexer.py#64\" target=\"_blank\"><span style=\"color: #7f7f7f; text-decoration-color: #7f7f7f\">64</span></a>\n",
       "<span style=\"color: #7fbfbf; text-decoration-color: #7fbfbf\">                    </span>         <span style=\"color: #800080; text-decoration-color: #800080\">/home/Florian.Borchert/.cache/xmen/4_cantemist_custom/index/sapber</span> <span style=\"color: #7f7f7f; text-decoration-color: #7f7f7f\">                   </span>\n",
       "<span style=\"color: #7fbfbf; text-decoration-color: #7fbfbf\">                    </span>         <span style=\"color: #800080; text-decoration-color: #800080\">t/</span><span style=\"color: #ff00ff; text-decoration-color: #ff00ff\">embed_faiss_hier.pickle</span>                                          <span style=\"color: #7f7f7f; text-decoration-color: #7f7f7f\">                   </span>\n",
       "</pre>\n"
      ],
      "text/plain": [
       "\u001b[2;36m                   \u001b[0m\u001b[2;36m \u001b[0m\u001b[34mINFO    \u001b[0m Loading index from                                                 \u001b]8;id=163709;file:///mnt/nfs/home/Florian.Borchert/workspace/xmen/xmen/linkers/faiss_indexer.py\u001b\\\u001b[2mfaiss_indexer.py\u001b[0m\u001b]8;;\u001b\\\u001b[2m:\u001b[0m\u001b]8;id=97531;file:///mnt/nfs/home/Florian.Borchert/workspace/xmen/xmen/linkers/faiss_indexer.py#64\u001b\\\u001b[2m64\u001b[0m\u001b]8;;\u001b\\\n",
       "\u001b[2;36m                    \u001b[0m         \u001b[35m/home/Florian.Borchert/.cache/xmen/4_cantemist_custom/index/sapber\u001b[0m \u001b[2m                   \u001b[0m\n",
       "\u001b[2;36m                    \u001b[0m         \u001b[35mt/\u001b[0m\u001b[95membed_faiss_hier.pickle\u001b[0m                                          \u001b[2m                   \u001b[0m\n"
      ]
     },
     "metadata": {},
     "output_type": "display_data"
    },
    {
     "data": {
      "text/html": [
       "<pre style=\"white-space:pre;overflow-x:auto;line-height:normal;font-family:Menlo,'DejaVu Sans Mono',consolas,'Courier New',monospace\"><span style=\"color: #7fbfbf; text-decoration-color: #7fbfbf\">                    </span><span style=\"color: #000080; text-decoration-color: #000080\">INFO    </span> Loaded index of type <span style=\"font-weight: bold\">&lt;</span><span style=\"color: #ff00ff; text-decoration-color: #ff00ff; font-weight: bold\">class</span><span style=\"color: #000000; text-decoration-color: #000000\"> </span><span style=\"color: #008000; text-decoration-color: #008000\">'faiss.swigfaiss.IndexHNSWFlat'</span><span style=\"font-weight: bold\">&gt;</span> and   <a href=\"file:///mnt/nfs/home/Florian.Borchert/workspace/xmen/xmen/linkers/faiss_indexer.py\" target=\"_blank\"><span style=\"color: #7f7f7f; text-decoration-color: #7f7f7f\">faiss_indexer.py</span></a><span style=\"color: #7f7f7f; text-decoration-color: #7f7f7f\">:</span><a href=\"file:///mnt/nfs/home/Florian.Borchert/workspace/xmen/xmen/linkers/faiss_indexer.py#66\" target=\"_blank\"><span style=\"color: #7f7f7f; text-decoration-color: #7f7f7f\">66</span></a>\n",
       "<span style=\"color: #7fbfbf; text-decoration-color: #7fbfbf\">                    </span>         size <span style=\"color: #008080; text-decoration-color: #008080; font-weight: bold\">41540</span>                                                         <span style=\"color: #7f7f7f; text-decoration-color: #7f7f7f\">                   </span>\n",
       "</pre>\n"
      ],
      "text/plain": [
       "\u001b[2;36m                   \u001b[0m\u001b[2;36m \u001b[0m\u001b[34mINFO    \u001b[0m Loaded index of type \u001b[1m<\u001b[0m\u001b[1;95mclass\u001b[0m\u001b[39m \u001b[0m\u001b[32m'faiss.swigfaiss.IndexHNSWFlat'\u001b[0m\u001b[1m>\u001b[0m and   \u001b]8;id=74191;file:///mnt/nfs/home/Florian.Borchert/workspace/xmen/xmen/linkers/faiss_indexer.py\u001b\\\u001b[2mfaiss_indexer.py\u001b[0m\u001b]8;;\u001b\\\u001b[2m:\u001b[0m\u001b]8;id=388707;file:///mnt/nfs/home/Florian.Borchert/workspace/xmen/xmen/linkers/faiss_indexer.py#66\u001b\\\u001b[2m66\u001b[0m\u001b]8;;\u001b\\\n",
       "\u001b[2;36m                    \u001b[0m         size \u001b[1;36m41540\u001b[0m                                                         \u001b[2m                   \u001b[0m\n"
      ]
     },
     "metadata": {},
     "output_type": "display_data"
    }
   ],
   "source": [
    "# Generate candidates with Ensemble of TF-IDF + SapBERT\n",
    "from xmen.linkers import default_ensemble\n",
    "linker = default_ensemble(base_path / \"index\")"
   ]
  },
  {
   "cell_type": "code",
   "execution_count": 17,
   "id": "276af3a6-e245-4364-9ef6-d9fd8cbb862a",
   "metadata": {
    "tags": []
   },
   "outputs": [
    {
     "data": {
      "application/vnd.jupyter.widget-view+json": {
       "model_id": "b2f64f5b814646b0b805eaa0c5ca7e8e",
       "version_major": 2,
       "version_minor": 0
      },
      "text/plain": [
       "Map:   0%|          | 0/300 [00:00<?, ? examples/s]"
      ]
     },
     "metadata": {},
     "output_type": "display_data"
    }
   ],
   "source": [
    "candidates = linker.predict_batch(dataset['test'], top_k=64, batch_size=128)"
   ]
  },
  {
   "cell_type": "code",
   "execution_count": 26,
   "id": "3b76cdb1-988d-4517-bdaf-41688e2bb6c8",
   "metadata": {
    "tags": []
   },
   "outputs": [
    {
     "data": {
      "text/plain": [
       "{'strict': {'precision': 0.34104046242774566,\n",
       "  'recall': 0.34085281980742776,\n",
       "  'fscore': 0.34094661529994497,\n",
       "  'ptp': 1239,\n",
       "  'fp': 2394,\n",
       "  'rtp': 1239,\n",
       "  'fn': 2396,\n",
       "  'n_docs_system': 300,\n",
       "  'n_annos_system': 3635,\n",
       "  'n_docs_gold': 300,\n",
       "  'n_annos_gold': 3635}}"
      ]
     },
     "execution_count": 26,
     "metadata": {},
     "output_type": "execute_result"
    }
   ],
   "source": [
    "from xmen.evaluation import evaluate\n",
    "evaluate(dataset['test'], candidates)"
   ]
  },
  {
   "cell_type": "code",
   "execution_count": 27,
   "id": "6be650ea-4273-4b3e-b556-a3959c074f6b",
   "metadata": {
    "tags": []
   },
   "outputs": [
    {
     "name": "stdout",
     "output_type": "stream",
     "text": [
      "Recall@1 0.34085281980742776\n",
      "Recall@2 0.4687757909215956\n",
      "Recall@4 0.5881705639614856\n",
      "Recall@8 0.6134800550206327\n",
      "Recall@16 0.6451169188445667\n",
      "Recall@32 0.6640990371389272\n",
      "Recall@64 0.6940852819807428\n"
     ]
    }
   ],
   "source": [
    "from xmen.evaluation import evaluate_at_k\n",
    "_ = evaluate_at_k(dataset['test'], candidates)"
   ]
  },
  {
   "cell_type": "code",
   "execution_count": 28,
   "id": "141878a3-e7c9-47ac-9888-a9eca583721e",
   "metadata": {
    "tags": []
   },
   "outputs": [],
   "source": [
    "#When the score is below the CUTOFF, then associate the term to the generic code 8000/6 (Neoplasia metastásica)\n",
    "CUTOFF = 0.8\n",
    "\n",
    "def add_manual_concepts(document):\n",
    "    entities = []\n",
    "    for e in document[\"entities\"]:\n",
    "        norm = e[\"normalized\"]\n",
    "        if norm[0][\"score\"] < CUTOFF:\n",
    "            norm.insert(0,\n",
    "                {'db_id': '8000/6',\n",
    "                 'db_name': 'UMLS',\n",
    "                 'score': 1.0,\n",
    "                 'predicted_by': ['manual']})\n",
    "        entities.append(e)\n",
    "    return {\"entities\" : entities}"
   ]
  },
  {
   "cell_type": "code",
   "execution_count": 29,
   "id": "c8c6dcb8-5c97-4871-a79b-bbb9f04200d9",
   "metadata": {
    "tags": []
   },
   "outputs": [],
   "source": [
    "candidates_manual = candidates.map(lambda d: add_manual_concepts(d))"
   ]
  },
  {
   "cell_type": "code",
   "execution_count": 30,
   "id": "3709df36-1c76-4027-93da-840c019c472a",
   "metadata": {
    "tags": []
   },
   "outputs": [
    {
     "data": {
      "text/plain": [
       "{'strict': {'precision': 0.5150013762730525,\n",
       "  'recall': 0.5147180192572215,\n",
       "  'fscore': 0.5148596587782059,\n",
       "  'ptp': 1871,\n",
       "  'fp': 1762,\n",
       "  'rtp': 1871,\n",
       "  'fn': 1764,\n",
       "  'n_docs_system': 300,\n",
       "  'n_annos_system': 3635,\n",
       "  'n_docs_gold': 300,\n",
       "  'n_annos_gold': 3635}}"
      ]
     },
     "execution_count": 30,
     "metadata": {},
     "output_type": "execute_result"
    }
   ],
   "source": [
    "evaluate(dataset['test'], candidates_manual, top_k_predictions=1)"
   ]
  },
  {
   "cell_type": "code",
   "execution_count": 31,
   "id": "dfd68c91-6000-49ed-922b-f5ce3cf31722",
   "metadata": {
    "tags": []
   },
   "outputs": [
    {
     "name": "stdout",
     "output_type": "stream",
     "text": [
      "Recall@1 0.5147180192572215\n",
      "Recall@2 0.5928473177441541\n",
      "Recall@4 0.7400275103163686\n",
      "Recall@8 0.8236588720770289\n",
      "Recall@16 0.8563961485557083\n",
      "Recall@32 0.8745529573590096\n",
      "Recall@64 0.902888583218707\n"
     ]
    }
   ],
   "source": [
    "_ = evaluate_at_k(dataset['test'], candidates_manual)"
   ]
  },
  {
   "cell_type": "code",
   "execution_count": 32,
   "id": "8b190c2b-d6c2-41eb-b49d-dea9e8174100",
   "metadata": {
    "tags": []
   },
   "outputs": [],
   "source": [
    "from xmen.evaluation import error_analysis\n",
    "\n",
    "# Before re-ranking\n",
    "ea_df = error_analysis(dataset['test'], candidates_manual, tasks=['nen'])"
   ]
  },
  {
   "cell_type": "code",
   "execution_count": 33,
   "id": "7a1c7ba7-0fb5-475b-b576-3668a7f61e2e",
   "metadata": {
    "tags": []
   },
   "outputs": [
    {
     "data": {
      "text/html": [
       "<div>\n",
       "<style scoped>\n",
       "    .dataframe tbody tr th:only-of-type {\n",
       "        vertical-align: middle;\n",
       "    }\n",
       "\n",
       "    .dataframe tbody tr th {\n",
       "        vertical-align: top;\n",
       "    }\n",
       "\n",
       "    .dataframe thead th {\n",
       "        text-align: right;\n",
       "    }\n",
       "</style>\n",
       "<table border=\"1\" class=\"dataframe\">\n",
       "  <thead>\n",
       "    <tr style=\"text-align: right;\">\n",
       "      <th></th>\n",
       "      <th>_word_len</th>\n",
       "      <th>_abbrev</th>\n",
       "      <th>gt_start</th>\n",
       "      <th>gt_end</th>\n",
       "      <th>gt_text</th>\n",
       "      <th>gold_type</th>\n",
       "      <th>gold_concept</th>\n",
       "      <th>pred_index</th>\n",
       "      <th>pred_index_score</th>\n",
       "      <th>pred_top</th>\n",
       "      <th>pred_top_score</th>\n",
       "      <th>document_id</th>\n",
       "    </tr>\n",
       "  </thead>\n",
       "  <tbody>\n",
       "    <tr>\n",
       "      <th>0</th>\n",
       "      <td>1</td>\n",
       "      <td>False</td>\n",
       "      <td>129</td>\n",
       "      <td>139</td>\n",
       "      <td>[tumoración]</td>\n",
       "      <td>MORFOLOGIA_NEOPLASIA</td>\n",
       "      <td>{'db_name': 'eCIE-O-3.1', 'db_id': '8000/1'}</td>\n",
       "      <td>4</td>\n",
       "      <td>0.630540</td>\n",
       "      <td>8000/6</td>\n",
       "      <td>1.000000</td>\n",
       "      <td>cc_onco1197</td>\n",
       "    </tr>\n",
       "    <tr>\n",
       "      <th>1</th>\n",
       "      <td>2</td>\n",
       "      <td>False</td>\n",
       "      <td>354</td>\n",
       "      <td>370</td>\n",
       "      <td>[carcinoma ductal]</td>\n",
       "      <td>MORFOLOGIA_NEOPLASIA</td>\n",
       "      <td>{'db_name': 'eCIE-O-3.1', 'db_id': '8500/3'}</td>\n",
       "      <td>2</td>\n",
       "      <td>0.752837</td>\n",
       "      <td>8000/6</td>\n",
       "      <td>1.000000</td>\n",
       "      <td>cc_onco1197</td>\n",
       "    </tr>\n",
       "    <tr>\n",
       "      <th>2</th>\n",
       "      <td>1</td>\n",
       "      <td>False</td>\n",
       "      <td>439</td>\n",
       "      <td>450</td>\n",
       "      <td>[metastásica]</td>\n",
       "      <td>MORFOLOGIA_NEOPLASIA</td>\n",
       "      <td>{'db_name': 'eCIE-O-3.1', 'db_id': '8000/6'}</td>\n",
       "      <td>0</td>\n",
       "      <td>0.825001</td>\n",
       "      <td>8000/6</td>\n",
       "      <td>0.825001</td>\n",
       "      <td>cc_onco1197</td>\n",
       "    </tr>\n",
       "    <tr>\n",
       "      <th>3</th>\n",
       "      <td>1</td>\n",
       "      <td>False</td>\n",
       "      <td>1587</td>\n",
       "      <td>1599</td>\n",
       "      <td>[metastásicos]</td>\n",
       "      <td>MORFOLOGIA_NEOPLASIA</td>\n",
       "      <td>{'db_name': 'eCIE-O-3.1', 'db_id': '8000/6'}</td>\n",
       "      <td>0</td>\n",
       "      <td>1.000000</td>\n",
       "      <td>8000/6</td>\n",
       "      <td>1.000000</td>\n",
       "      <td>cc_onco1197</td>\n",
       "    </tr>\n",
       "    <tr>\n",
       "      <th>4</th>\n",
       "      <td>1</td>\n",
       "      <td>False</td>\n",
       "      <td>1699</td>\n",
       "      <td>1706</td>\n",
       "      <td>[tumoral]</td>\n",
       "      <td>MORFOLOGIA_NEOPLASIA</td>\n",
       "      <td>{'db_name': 'eCIE-O-3.1', 'db_id': '8000/1'}</td>\n",
       "      <td>2</td>\n",
       "      <td>0.697819</td>\n",
       "      <td>8000/6</td>\n",
       "      <td>1.000000</td>\n",
       "      <td>cc_onco1197</td>\n",
       "    </tr>\n",
       "    <tr>\n",
       "      <th>...</th>\n",
       "      <td>...</td>\n",
       "      <td>...</td>\n",
       "      <td>...</td>\n",
       "      <td>...</td>\n",
       "      <td>...</td>\n",
       "      <td>...</td>\n",
       "      <td>...</td>\n",
       "      <td>...</td>\n",
       "      <td>...</td>\n",
       "      <td>...</td>\n",
       "      <td>...</td>\n",
       "      <td>...</td>\n",
       "    </tr>\n",
       "    <tr>\n",
       "      <th>3630</th>\n",
       "      <td>1</td>\n",
       "      <td>False</td>\n",
       "      <td>288</td>\n",
       "      <td>297</td>\n",
       "      <td>[neoplasia]</td>\n",
       "      <td>MORFOLOGIA_NEOPLASIA</td>\n",
       "      <td>{'db_name': 'eCIE-O-3.1', 'db_id': '8000/1'}</td>\n",
       "      <td>2</td>\n",
       "      <td>0.775603</td>\n",
       "      <td>8000/3</td>\n",
       "      <td>0.816536</td>\n",
       "      <td>cc_onco1263</td>\n",
       "    </tr>\n",
       "    <tr>\n",
       "      <th>3631</th>\n",
       "      <td>6</td>\n",
       "      <td>False</td>\n",
       "      <td>434</td>\n",
       "      <td>468</td>\n",
       "      <td>[adenocarcinoma de recto de grado 1]</td>\n",
       "      <td>MORFOLOGIA_NEOPLASIA</td>\n",
       "      <td>{'db_name': 'eCIE-O-3.1', 'db_id': '8140/31'}</td>\n",
       "      <td>-1</td>\n",
       "      <td>NaN</td>\n",
       "      <td>8000/6</td>\n",
       "      <td>1.000000</td>\n",
       "      <td>cc_onco1263</td>\n",
       "    </tr>\n",
       "    <tr>\n",
       "      <th>3632</th>\n",
       "      <td>1</td>\n",
       "      <td>False</td>\n",
       "      <td>495</td>\n",
       "      <td>502</td>\n",
       "      <td>[cT3N0M0]</td>\n",
       "      <td>MORFOLOGIA_NEOPLASIA</td>\n",
       "      <td>{'db_name': 'eCIE-O-3.1', 'db_id': '8000/6'}</td>\n",
       "      <td>0</td>\n",
       "      <td>1.000000</td>\n",
       "      <td>8000/6</td>\n",
       "      <td>1.000000</td>\n",
       "      <td>cc_onco1263</td>\n",
       "    </tr>\n",
       "    <tr>\n",
       "      <th>3633</th>\n",
       "      <td>2</td>\n",
       "      <td>False</td>\n",
       "      <td>847</td>\n",
       "      <td>864</td>\n",
       "      <td>[adenocarcinoma G3]</td>\n",
       "      <td>MORFOLOGIA_NEOPLASIA</td>\n",
       "      <td>{'db_name': 'eCIE-O-3.1', 'db_id': '8140/33'}</td>\n",
       "      <td>8</td>\n",
       "      <td>0.768803</td>\n",
       "      <td>8140/333</td>\n",
       "      <td>0.835836</td>\n",
       "      <td>cc_onco1263</td>\n",
       "    </tr>\n",
       "    <tr>\n",
       "      <th>3634</th>\n",
       "      <td>4</td>\n",
       "      <td>False</td>\n",
       "      <td>1829</td>\n",
       "      <td>1855</td>\n",
       "      <td>[Adenocarcinoma de recto G3]</td>\n",
       "      <td>MORFOLOGIA_NEOPLASIA</td>\n",
       "      <td>{'db_name': 'eCIE-O-3.1', 'db_id': '8140/33'}</td>\n",
       "      <td>52</td>\n",
       "      <td>0.621100</td>\n",
       "      <td>8000/6</td>\n",
       "      <td>1.000000</td>\n",
       "      <td>cc_onco1263</td>\n",
       "    </tr>\n",
       "  </tbody>\n",
       "</table>\n",
       "<p>3635 rows × 12 columns</p>\n",
       "</div>"
      ],
      "text/plain": [
       "      _word_len  _abbrev  gt_start  gt_end  \\\n",
       "0             1    False       129     139   \n",
       "1             2    False       354     370   \n",
       "2             1    False       439     450   \n",
       "3             1    False      1587    1599   \n",
       "4             1    False      1699    1706   \n",
       "...         ...      ...       ...     ...   \n",
       "3630          1    False       288     297   \n",
       "3631          6    False       434     468   \n",
       "3632          1    False       495     502   \n",
       "3633          2    False       847     864   \n",
       "3634          4    False      1829    1855   \n",
       "\n",
       "                                   gt_text             gold_type  \\\n",
       "0                             [tumoración]  MORFOLOGIA_NEOPLASIA   \n",
       "1                       [carcinoma ductal]  MORFOLOGIA_NEOPLASIA   \n",
       "2                            [metastásica]  MORFOLOGIA_NEOPLASIA   \n",
       "3                           [metastásicos]  MORFOLOGIA_NEOPLASIA   \n",
       "4                                [tumoral]  MORFOLOGIA_NEOPLASIA   \n",
       "...                                    ...                   ...   \n",
       "3630                           [neoplasia]  MORFOLOGIA_NEOPLASIA   \n",
       "3631  [adenocarcinoma de recto de grado 1]  MORFOLOGIA_NEOPLASIA   \n",
       "3632                             [cT3N0M0]  MORFOLOGIA_NEOPLASIA   \n",
       "3633                   [adenocarcinoma G3]  MORFOLOGIA_NEOPLASIA   \n",
       "3634          [Adenocarcinoma de recto G3]  MORFOLOGIA_NEOPLASIA   \n",
       "\n",
       "                                       gold_concept  pred_index  \\\n",
       "0      {'db_name': 'eCIE-O-3.1', 'db_id': '8000/1'}           4   \n",
       "1      {'db_name': 'eCIE-O-3.1', 'db_id': '8500/3'}           2   \n",
       "2      {'db_name': 'eCIE-O-3.1', 'db_id': '8000/6'}           0   \n",
       "3      {'db_name': 'eCIE-O-3.1', 'db_id': '8000/6'}           0   \n",
       "4      {'db_name': 'eCIE-O-3.1', 'db_id': '8000/1'}           2   \n",
       "...                                             ...         ...   \n",
       "3630   {'db_name': 'eCIE-O-3.1', 'db_id': '8000/1'}           2   \n",
       "3631  {'db_name': 'eCIE-O-3.1', 'db_id': '8140/31'}          -1   \n",
       "3632   {'db_name': 'eCIE-O-3.1', 'db_id': '8000/6'}           0   \n",
       "3633  {'db_name': 'eCIE-O-3.1', 'db_id': '8140/33'}           8   \n",
       "3634  {'db_name': 'eCIE-O-3.1', 'db_id': '8140/33'}          52   \n",
       "\n",
       "      pred_index_score  pred_top  pred_top_score  document_id  \n",
       "0             0.630540    8000/6        1.000000  cc_onco1197  \n",
       "1             0.752837    8000/6        1.000000  cc_onco1197  \n",
       "2             0.825001    8000/6        0.825001  cc_onco1197  \n",
       "3             1.000000    8000/6        1.000000  cc_onco1197  \n",
       "4             0.697819    8000/6        1.000000  cc_onco1197  \n",
       "...                ...       ...             ...          ...  \n",
       "3630          0.775603    8000/3        0.816536  cc_onco1263  \n",
       "3631               NaN    8000/6        1.000000  cc_onco1263  \n",
       "3632          1.000000    8000/6        1.000000  cc_onco1263  \n",
       "3633          0.768803  8140/333        0.835836  cc_onco1263  \n",
       "3634          0.621100    8000/6        1.000000  cc_onco1263  \n",
       "\n",
       "[3635 rows x 12 columns]"
      ]
     },
     "execution_count": 33,
     "metadata": {},
     "output_type": "execute_result"
    }
   ],
   "source": [
    "ea_df\n",
    "#convert into csv file:\n",
    "#ea_df.to_csv('all_errors', sep=',', index=False, encoding='utf-8')"
   ]
  },
  {
   "cell_type": "code",
   "execution_count": 34,
   "id": "90bb3cd3-50ee-4661-84ab-8d61512b0881",
   "metadata": {
    "tags": []
   },
   "outputs": [
    {
     "data": {
      "text/html": [
       "<div>\n",
       "<style scoped>\n",
       "    .dataframe tbody tr th:only-of-type {\n",
       "        vertical-align: middle;\n",
       "    }\n",
       "\n",
       "    .dataframe tbody tr th {\n",
       "        vertical-align: top;\n",
       "    }\n",
       "\n",
       "    .dataframe thead th {\n",
       "        text-align: right;\n",
       "    }\n",
       "</style>\n",
       "<table border=\"1\" class=\"dataframe\">\n",
       "  <thead>\n",
       "    <tr style=\"text-align: right;\">\n",
       "      <th></th>\n",
       "      <th>_word_len</th>\n",
       "      <th>_abbrev</th>\n",
       "      <th>gt_start</th>\n",
       "      <th>gt_end</th>\n",
       "      <th>gt_text</th>\n",
       "      <th>gold_type</th>\n",
       "      <th>gold_concept</th>\n",
       "      <th>pred_index</th>\n",
       "      <th>pred_index_score</th>\n",
       "      <th>pred_top</th>\n",
       "      <th>pred_top_score</th>\n",
       "      <th>document_id</th>\n",
       "    </tr>\n",
       "  </thead>\n",
       "  <tbody>\n",
       "    <tr>\n",
       "      <th>7</th>\n",
       "      <td>1</td>\n",
       "      <td>False</td>\n",
       "      <td>2718</td>\n",
       "      <td>2729</td>\n",
       "      <td>[satelitosis]</td>\n",
       "      <td>MORFOLOGIA_NEOPLASIA</td>\n",
       "      <td>{'db_name': 'eCIE-O-3.1', 'db_id': '8001/1'}</td>\n",
       "      <td>-1</td>\n",
       "      <td>NaN</td>\n",
       "      <td>8000/6</td>\n",
       "      <td>1.000000</td>\n",
       "      <td>cc_onco1197</td>\n",
       "    </tr>\n",
       "    <tr>\n",
       "      <th>25</th>\n",
       "      <td>7</td>\n",
       "      <td>False</td>\n",
       "      <td>2217</td>\n",
       "      <td>2275</td>\n",
       "      <td>[infiltración ósea por tumoración compatible c...</td>\n",
       "      <td>MORFOLOGIA_NEOPLASIA</td>\n",
       "      <td>{'db_name': 'eCIE-O-3.1', 'db_id': '9530/6'}</td>\n",
       "      <td>-1</td>\n",
       "      <td>NaN</td>\n",
       "      <td>8000/6</td>\n",
       "      <td>1.000000</td>\n",
       "      <td>cc_onco448</td>\n",
       "    </tr>\n",
       "    <tr>\n",
       "      <th>26</th>\n",
       "      <td>4</td>\n",
       "      <td>False</td>\n",
       "      <td>2300</td>\n",
       "      <td>2328</td>\n",
       "      <td>[invasión ósea por meningioma]</td>\n",
       "      <td>MORFOLOGIA_NEOPLASIA</td>\n",
       "      <td>{'db_name': 'eCIE-O-3.1', 'db_id': '9530/6'}</td>\n",
       "      <td>-1</td>\n",
       "      <td>NaN</td>\n",
       "      <td>8000/6</td>\n",
       "      <td>1.000000</td>\n",
       "      <td>cc_onco448</td>\n",
       "    </tr>\n",
       "    <tr>\n",
       "      <th>27</th>\n",
       "      <td>11</td>\n",
       "      <td>False</td>\n",
       "      <td>2898</td>\n",
       "      <td>2970</td>\n",
       "      <td>[meningioma transicional del seno cavernoso gr...</td>\n",
       "      <td>MORFOLOGIA_NEOPLASIA</td>\n",
       "      <td>{'db_name': 'eCIE-O-3.1', 'db_id': '9537/61'}</td>\n",
       "      <td>-1</td>\n",
       "      <td>NaN</td>\n",
       "      <td>8000/6</td>\n",
       "      <td>1.000000</td>\n",
       "      <td>cc_onco448</td>\n",
       "    </tr>\n",
       "    <tr>\n",
       "      <th>53</th>\n",
       "      <td>3</td>\n",
       "      <td>False</td>\n",
       "      <td>31</td>\n",
       "      <td>48</td>\n",
       "      <td>[síndrome de Lynch]</td>\n",
       "      <td>MORFOLOGIA_NEOPLASIA</td>\n",
       "      <td>{'db_name': 'eCIE-O-3.1', 'db_id': '8000/3'}</td>\n",
       "      <td>-1</td>\n",
       "      <td>NaN</td>\n",
       "      <td>8000/6</td>\n",
       "      <td>1.000000</td>\n",
       "      <td>cc_onco1367</td>\n",
       "    </tr>\n",
       "    <tr>\n",
       "      <th>...</th>\n",
       "      <td>...</td>\n",
       "      <td>...</td>\n",
       "      <td>...</td>\n",
       "      <td>...</td>\n",
       "      <td>...</td>\n",
       "      <td>...</td>\n",
       "      <td>...</td>\n",
       "      <td>...</td>\n",
       "      <td>...</td>\n",
       "      <td>...</td>\n",
       "      <td>...</td>\n",
       "      <td>...</td>\n",
       "    </tr>\n",
       "    <tr>\n",
       "      <th>3612</th>\n",
       "      <td>3</td>\n",
       "      <td>False</td>\n",
       "      <td>4025</td>\n",
       "      <td>4042</td>\n",
       "      <td>[quiste de Tailgut]</td>\n",
       "      <td>MORFOLOGIA_NEOPLASIA</td>\n",
       "      <td>{'db_name': 'eCIE-O-3.1', 'db_id': '8000/0'}</td>\n",
       "      <td>-1</td>\n",
       "      <td>NaN</td>\n",
       "      <td>8000/6</td>\n",
       "      <td>1.000000</td>\n",
       "      <td>cc_onco24</td>\n",
       "    </tr>\n",
       "    <tr>\n",
       "      <th>3615</th>\n",
       "      <td>3</td>\n",
       "      <td>False</td>\n",
       "      <td>4471</td>\n",
       "      <td>4502</td>\n",
       "      <td>[hamartoma quístico retrorrectal]</td>\n",
       "      <td>MORFOLOGIA_NEOPLASIA</td>\n",
       "      <td>{'db_name': 'eCIE-O-3.1', 'db_id': '8000/0'}</td>\n",
       "      <td>-1</td>\n",
       "      <td>NaN</td>\n",
       "      <td>8000/6</td>\n",
       "      <td>1.000000</td>\n",
       "      <td>cc_onco24</td>\n",
       "    </tr>\n",
       "    <tr>\n",
       "      <th>3618</th>\n",
       "      <td>4</td>\n",
       "      <td>False</td>\n",
       "      <td>5027</td>\n",
       "      <td>5078</td>\n",
       "      <td>[carcinoma sólido-papilar moderadamente difere...</td>\n",
       "      <td>MORFOLOGIA_NEOPLASIA</td>\n",
       "      <td>{'db_name': 'eCIE-O-3.1', 'db_id': '8050/32'}</td>\n",
       "      <td>-1</td>\n",
       "      <td>NaN</td>\n",
       "      <td>8452/32</td>\n",
       "      <td>0.857614</td>\n",
       "      <td>cc_onco24</td>\n",
       "    </tr>\n",
       "    <tr>\n",
       "      <th>3626</th>\n",
       "      <td>6</td>\n",
       "      <td>False</td>\n",
       "      <td>7210</td>\n",
       "      <td>7266</td>\n",
       "      <td>[hamartoma quístico retrorrectal con degenerac...</td>\n",
       "      <td>MORFOLOGIA_NEOPLASIA</td>\n",
       "      <td>{'db_name': 'eCIE-O-3.1', 'db_id': '8000/3'}</td>\n",
       "      <td>-1</td>\n",
       "      <td>NaN</td>\n",
       "      <td>8000/6</td>\n",
       "      <td>1.000000</td>\n",
       "      <td>cc_onco24</td>\n",
       "    </tr>\n",
       "    <tr>\n",
       "      <th>3631</th>\n",
       "      <td>6</td>\n",
       "      <td>False</td>\n",
       "      <td>434</td>\n",
       "      <td>468</td>\n",
       "      <td>[adenocarcinoma de recto de grado 1]</td>\n",
       "      <td>MORFOLOGIA_NEOPLASIA</td>\n",
       "      <td>{'db_name': 'eCIE-O-3.1', 'db_id': '8140/31'}</td>\n",
       "      <td>-1</td>\n",
       "      <td>NaN</td>\n",
       "      <td>8000/6</td>\n",
       "      <td>1.000000</td>\n",
       "      <td>cc_onco1263</td>\n",
       "    </tr>\n",
       "  </tbody>\n",
       "</table>\n",
       "<p>353 rows × 12 columns</p>\n",
       "</div>"
      ],
      "text/plain": [
       "      _word_len  _abbrev  gt_start  gt_end  \\\n",
       "7             1    False      2718    2729   \n",
       "25            7    False      2217    2275   \n",
       "26            4    False      2300    2328   \n",
       "27           11    False      2898    2970   \n",
       "53            3    False        31      48   \n",
       "...         ...      ...       ...     ...   \n",
       "3612          3    False      4025    4042   \n",
       "3615          3    False      4471    4502   \n",
       "3618          4    False      5027    5078   \n",
       "3626          6    False      7210    7266   \n",
       "3631          6    False       434     468   \n",
       "\n",
       "                                                gt_text             gold_type  \\\n",
       "7                                         [satelitosis]  MORFOLOGIA_NEOPLASIA   \n",
       "25    [infiltración ósea por tumoración compatible c...  MORFOLOGIA_NEOPLASIA   \n",
       "26                       [invasión ósea por meningioma]  MORFOLOGIA_NEOPLASIA   \n",
       "27    [meningioma transicional del seno cavernoso gr...  MORFOLOGIA_NEOPLASIA   \n",
       "53                                  [síndrome de Lynch]  MORFOLOGIA_NEOPLASIA   \n",
       "...                                                 ...                   ...   \n",
       "3612                                [quiste de Tailgut]  MORFOLOGIA_NEOPLASIA   \n",
       "3615                  [hamartoma quístico retrorrectal]  MORFOLOGIA_NEOPLASIA   \n",
       "3618  [carcinoma sólido-papilar moderadamente difere...  MORFOLOGIA_NEOPLASIA   \n",
       "3626  [hamartoma quístico retrorrectal con degenerac...  MORFOLOGIA_NEOPLASIA   \n",
       "3631               [adenocarcinoma de recto de grado 1]  MORFOLOGIA_NEOPLASIA   \n",
       "\n",
       "                                       gold_concept  pred_index  \\\n",
       "7      {'db_name': 'eCIE-O-3.1', 'db_id': '8001/1'}          -1   \n",
       "25     {'db_name': 'eCIE-O-3.1', 'db_id': '9530/6'}          -1   \n",
       "26     {'db_name': 'eCIE-O-3.1', 'db_id': '9530/6'}          -1   \n",
       "27    {'db_name': 'eCIE-O-3.1', 'db_id': '9537/61'}          -1   \n",
       "53     {'db_name': 'eCIE-O-3.1', 'db_id': '8000/3'}          -1   \n",
       "...                                             ...         ...   \n",
       "3612   {'db_name': 'eCIE-O-3.1', 'db_id': '8000/0'}          -1   \n",
       "3615   {'db_name': 'eCIE-O-3.1', 'db_id': '8000/0'}          -1   \n",
       "3618  {'db_name': 'eCIE-O-3.1', 'db_id': '8050/32'}          -1   \n",
       "3626   {'db_name': 'eCIE-O-3.1', 'db_id': '8000/3'}          -1   \n",
       "3631  {'db_name': 'eCIE-O-3.1', 'db_id': '8140/31'}          -1   \n",
       "\n",
       "      pred_index_score pred_top  pred_top_score  document_id  \n",
       "7                  NaN   8000/6        1.000000  cc_onco1197  \n",
       "25                 NaN   8000/6        1.000000   cc_onco448  \n",
       "26                 NaN   8000/6        1.000000   cc_onco448  \n",
       "27                 NaN   8000/6        1.000000   cc_onco448  \n",
       "53                 NaN   8000/6        1.000000  cc_onco1367  \n",
       "...                ...      ...             ...          ...  \n",
       "3612               NaN   8000/6        1.000000    cc_onco24  \n",
       "3615               NaN   8000/6        1.000000    cc_onco24  \n",
       "3618               NaN  8452/32        0.857614    cc_onco24  \n",
       "3626               NaN   8000/6        1.000000    cc_onco24  \n",
       "3631               NaN   8000/6        1.000000  cc_onco1263  \n",
       "\n",
       "[353 rows x 12 columns]"
      ]
     },
     "execution_count": 34,
     "metadata": {},
     "output_type": "execute_result"
    }
   ],
   "source": [
    "ea_df.query(\"pred_index == -1\")"
   ]
  },
  {
   "cell_type": "code",
   "execution_count": 35,
   "id": "234eea82-fed6-4805-abe4-3a1b024ea1b4",
   "metadata": {
    "tags": []
   },
   "outputs": [
    {
     "data": {
      "text/html": [
       "<div>\n",
       "<style scoped>\n",
       "    .dataframe tbody tr th:only-of-type {\n",
       "        vertical-align: middle;\n",
       "    }\n",
       "\n",
       "    .dataframe tbody tr th {\n",
       "        vertical-align: top;\n",
       "    }\n",
       "\n",
       "    .dataframe thead th {\n",
       "        text-align: right;\n",
       "    }\n",
       "</style>\n",
       "<table border=\"1\" class=\"dataframe\">\n",
       "  <thead>\n",
       "    <tr style=\"text-align: right;\">\n",
       "      <th></th>\n",
       "      <th>_word_len</th>\n",
       "      <th>_abbrev</th>\n",
       "      <th>gt_start</th>\n",
       "      <th>gt_end</th>\n",
       "      <th>gt_text</th>\n",
       "      <th>gold_type</th>\n",
       "      <th>gold_concept</th>\n",
       "      <th>pred_index</th>\n",
       "      <th>pred_index_score</th>\n",
       "      <th>pred_top</th>\n",
       "      <th>pred_top_score</th>\n",
       "      <th>document_id</th>\n",
       "    </tr>\n",
       "  </thead>\n",
       "  <tbody>\n",
       "    <tr>\n",
       "      <th>205</th>\n",
       "      <td>2</td>\n",
       "      <td>True</td>\n",
       "      <td>3813</td>\n",
       "      <td>3826</td>\n",
       "      <td>[LOE hepáticas]</td>\n",
       "      <td>MORFOLOGIA_NEOPLASIA</td>\n",
       "      <td>{'db_name': 'eCIE-O-3.1', 'db_id': '8000/6'}</td>\n",
       "      <td>-1</td>\n",
       "      <td>NaN</td>\n",
       "      <td>8170/0</td>\n",
       "      <td>0.805464</td>\n",
       "      <td>cc_onco465</td>\n",
       "    </tr>\n",
       "    <tr>\n",
       "      <th>215</th>\n",
       "      <td>2</td>\n",
       "      <td>True</td>\n",
       "      <td>4677</td>\n",
       "      <td>4690</td>\n",
       "      <td>[LOE hepáticas]</td>\n",
       "      <td>MORFOLOGIA_NEOPLASIA</td>\n",
       "      <td>{'db_name': 'eCIE-O-3.1', 'db_id': '8000/6'}</td>\n",
       "      <td>-1</td>\n",
       "      <td>NaN</td>\n",
       "      <td>8170/0</td>\n",
       "      <td>0.805464</td>\n",
       "      <td>cc_onco465</td>\n",
       "    </tr>\n",
       "    <tr>\n",
       "      <th>218</th>\n",
       "      <td>2</td>\n",
       "      <td>True</td>\n",
       "      <td>4942</td>\n",
       "      <td>4955</td>\n",
       "      <td>[LOE hepáticas]</td>\n",
       "      <td>MORFOLOGIA_NEOPLASIA</td>\n",
       "      <td>{'db_name': 'eCIE-O-3.1', 'db_id': '8000/6'}</td>\n",
       "      <td>-1</td>\n",
       "      <td>NaN</td>\n",
       "      <td>8170/0</td>\n",
       "      <td>0.805464</td>\n",
       "      <td>cc_onco465</td>\n",
       "    </tr>\n",
       "    <tr>\n",
       "      <th>839</th>\n",
       "      <td>2</td>\n",
       "      <td>True</td>\n",
       "      <td>3086</td>\n",
       "      <td>3099</td>\n",
       "      <td>[LOE hepáticas]</td>\n",
       "      <td>MORFOLOGIA_NEOPLASIA</td>\n",
       "      <td>{'db_name': 'eCIE-O-3.1', 'db_id': '8000/6'}</td>\n",
       "      <td>-1</td>\n",
       "      <td>NaN</td>\n",
       "      <td>8170/0</td>\n",
       "      <td>0.805464</td>\n",
       "      <td>cc_onco1174</td>\n",
       "    </tr>\n",
       "    <tr>\n",
       "      <th>1453</th>\n",
       "      <td>2</td>\n",
       "      <td>True</td>\n",
       "      <td>3616</td>\n",
       "      <td>3627</td>\n",
       "      <td>[RC hepática]</td>\n",
       "      <td>MORFOLOGIA_NEOPLASIA</td>\n",
       "      <td>{'db_name': 'eCIE-O-3.1', 'db_id': '8000/6'}</td>\n",
       "      <td>-1</td>\n",
       "      <td>NaN</td>\n",
       "      <td>8170/0</td>\n",
       "      <td>0.806711</td>\n",
       "      <td>cc_onco641</td>\n",
       "    </tr>\n",
       "    <tr>\n",
       "      <th>2998</th>\n",
       "      <td>2</td>\n",
       "      <td>True</td>\n",
       "      <td>3909</td>\n",
       "      <td>3922</td>\n",
       "      <td>[LOE hepáticas]</td>\n",
       "      <td>MORFOLOGIA_NEOPLASIA</td>\n",
       "      <td>{'db_name': 'eCIE-O-3.1', 'db_id': '8000/6'}</td>\n",
       "      <td>-1</td>\n",
       "      <td>NaN</td>\n",
       "      <td>8170/0</td>\n",
       "      <td>0.805464</td>\n",
       "      <td>cc_onco770</td>\n",
       "    </tr>\n",
       "  </tbody>\n",
       "</table>\n",
       "</div>"
      ],
      "text/plain": [
       "      _word_len  _abbrev  gt_start  gt_end          gt_text  \\\n",
       "205           2     True      3813    3826  [LOE hepáticas]   \n",
       "215           2     True      4677    4690  [LOE hepáticas]   \n",
       "218           2     True      4942    4955  [LOE hepáticas]   \n",
       "839           2     True      3086    3099  [LOE hepáticas]   \n",
       "1453          2     True      3616    3627    [RC hepática]   \n",
       "2998          2     True      3909    3922  [LOE hepáticas]   \n",
       "\n",
       "                 gold_type                                  gold_concept  \\\n",
       "205   MORFOLOGIA_NEOPLASIA  {'db_name': 'eCIE-O-3.1', 'db_id': '8000/6'}   \n",
       "215   MORFOLOGIA_NEOPLASIA  {'db_name': 'eCIE-O-3.1', 'db_id': '8000/6'}   \n",
       "218   MORFOLOGIA_NEOPLASIA  {'db_name': 'eCIE-O-3.1', 'db_id': '8000/6'}   \n",
       "839   MORFOLOGIA_NEOPLASIA  {'db_name': 'eCIE-O-3.1', 'db_id': '8000/6'}   \n",
       "1453  MORFOLOGIA_NEOPLASIA  {'db_name': 'eCIE-O-3.1', 'db_id': '8000/6'}   \n",
       "2998  MORFOLOGIA_NEOPLASIA  {'db_name': 'eCIE-O-3.1', 'db_id': '8000/6'}   \n",
       "\n",
       "      pred_index  pred_index_score pred_top  pred_top_score  document_id  \n",
       "205           -1               NaN   8170/0        0.805464   cc_onco465  \n",
       "215           -1               NaN   8170/0        0.805464   cc_onco465  \n",
       "218           -1               NaN   8170/0        0.805464   cc_onco465  \n",
       "839           -1               NaN   8170/0        0.805464  cc_onco1174  \n",
       "1453          -1               NaN   8170/0        0.806711   cc_onco641  \n",
       "2998          -1               NaN   8170/0        0.805464   cc_onco770  "
      ]
     },
     "execution_count": 35,
     "metadata": {},
     "output_type": "execute_result"
    }
   ],
   "source": [
    "#Check when it was assigned the generic code 8000/6, but the match was better with another ICD-O code\n",
    "ea_df[ea_df.gold_concept.map(lambda g: g[\"db_id\"] == \"8000/6\") & (ea_df.pred_index == -1)]#.pred_index.value_counts()"
   ]
  },
  {
   "cell_type": "markdown",
   "id": "b8617e85-44af-456d-a9eb-62e2ea6d9a88",
   "metadata": {},
   "source": [
    "# Reranking"
   ]
  },
  {
   "cell_type": "markdown",
   "id": "f26c4831-7b61-4e68-8bd6-2c40c8ecfe6d",
   "metadata": {},
   "source": [
    "## Using a Pre-trained Model for Reranking\n",
    "\n",
    "When no are little annotated training data is available, a pre-trained model can provide good re-ranking performance.\n",
    "Here, we use a cross-encoder that was trained on an automatically translated version of MedMentions (see the notebook [01_Translation.ipynb](01_Translation.ipynb))"
   ]
  },
  {
   "cell_type": "code",
   "execution_count": 80,
   "id": "cacadea0-079d-4d04-8ca0-d56de356c431",
   "metadata": {},
   "outputs": [],
   "source": [
    "#from xmen.reranking.cross_encoder import *\n",
    "#ce_dataset = CrossEncoderReranker.prepare_data(candidates_manual, dataset[\"test\"], kb)"
   ]
  },
  {
   "cell_type": "code",
   "execution_count": 81,
   "id": "82de6969-0899-4422-b06c-7f95db789299",
   "metadata": {},
   "outputs": [],
   "source": [
    "# CE re-ranker, pre-trained on Spanish translation of MedMentions\n",
    "#rr = CrossEncoderReranker.load(\"phlobo/xmen-es-ce-medmentions\", device=0)"
   ]
  },
  {
   "cell_type": "code",
   "execution_count": 82,
   "id": "21d793c8-6b05-47b4-8f3f-6948fb46c15f",
   "metadata": {},
   "outputs": [],
   "source": [
    "# Predict on test set\n",
    "#prediction = rr.rerank_batch(candidates_manual, ce_dataset, allow_nil=False)"
   ]
  },
  {
   "cell_type": "code",
   "execution_count": 83,
   "id": "a818b24d-c3b9-4290-8dbc-7f0d74bbcf75",
   "metadata": {},
   "outputs": [],
   "source": [
    "#evaluate(dataset['test'], prediction)"
   ]
  },
  {
   "cell_type": "markdown",
   "id": "74aef74d-58a7-400e-ba8f-a31e4a9fb3b6",
   "metadata": {},
   "source": [
    "## Training a Fully-supervised Model\n",
    "\n",
    "Finally, with enough training data, we can also train a fully supervsied cross-encoder to learn a better task-specific ranking.\n",
    "\n",
    "The cross-encoder is trained with batches of 64 candidates. \n",
    "We keep the checkpoint that maximizes accuracy@1 on the validation set."
   ]
  },
  {
   "cell_type": "code",
   "execution_count": 36,
   "id": "7633f8c4-0f67-45b5-b720-0bc43548458c",
   "metadata": {
    "tags": []
   },
   "outputs": [
    {
     "data": {
      "application/vnd.jupyter.widget-view+json": {
       "model_id": "872aa80682cc4543811e973b33205836",
       "version_major": 2,
       "version_minor": 0
      },
      "text/plain": [
       "Map:   0%|          | 0/501 [00:00<?, ? examples/s]"
      ]
     },
     "metadata": {},
     "output_type": "display_data"
    },
    {
     "data": {
      "application/vnd.jupyter.widget-view+json": {
       "model_id": "16d8e223d50349419be63b2951599a60",
       "version_major": 2,
       "version_minor": 0
      },
      "text/plain": [
       "Map:   0%|          | 0/300 [00:00<?, ? examples/s]"
      ]
     },
     "metadata": {},
     "output_type": "display_data"
    },
    {
     "data": {
      "application/vnd.jupyter.widget-view+json": {
       "model_id": "bf3844bc4c57476ebe9b55092292906b",
       "version_major": 2,
       "version_minor": 0
      },
      "text/plain": [
       "Map:   0%|          | 0/500 [00:00<?, ? examples/s]"
      ]
     },
     "metadata": {},
     "output_type": "display_data"
    }
   ],
   "source": [
    "candidates_all = linker.predict_batch(dataset, top_k=64, batch_size=128)"
   ]
  },
  {
   "cell_type": "code",
   "execution_count": 37,
   "id": "22066f7c-29ad-4f59-a70e-86bf2edbd9ff",
   "metadata": {
    "tags": []
   },
   "outputs": [
    {
     "data": {
      "application/vnd.jupyter.widget-view+json": {
       "model_id": "786eb2e2a1704621aa2fbb126790429b",
       "version_major": 2,
       "version_minor": 0
      },
      "text/plain": [
       "Map:   0%|          | 0/501 [00:00<?, ? examples/s]"
      ]
     },
     "metadata": {},
     "output_type": "display_data"
    },
    {
     "data": {
      "application/vnd.jupyter.widget-view+json": {
       "model_id": "87b06b4958db4a7eb7025d915d0f43c3",
       "version_major": 2,
       "version_minor": 0
      },
      "text/plain": [
       "Map:   0%|          | 0/300 [00:00<?, ? examples/s]"
      ]
     },
     "metadata": {},
     "output_type": "display_data"
    },
    {
     "data": {
      "application/vnd.jupyter.widget-view+json": {
       "model_id": "26c19410b64c43fa834983fbb1700bfe",
       "version_major": 2,
       "version_minor": 0
      },
      "text/plain": [
       "Map:   0%|          | 0/500 [00:00<?, ? examples/s]"
      ]
     },
     "metadata": {},
     "output_type": "display_data"
    }
   ],
   "source": [
    "candidates_manual_all = candidates_all.map(lambda d: add_manual_concepts(d))"
   ]
  },
  {
   "cell_type": "code",
   "execution_count": 38,
   "id": "38874475-4e66-4117-8da7-7c7a257bae45",
   "metadata": {
    "tags": []
   },
   "outputs": [
    {
     "name": "stdout",
     "output_type": "stream",
     "text": [
      "Context length: 128\n",
      "Use NIL values: True\n"
     ]
    },
    {
     "data": {
      "application/vnd.jupyter.widget-view+json": {
       "model_id": "5392f187526441a392ec045102825682",
       "version_major": 2,
       "version_minor": 0
      },
      "text/plain": [
       "  0%|          | 0/6396 [00:00<?, ?it/s]"
      ]
     },
     "metadata": {},
     "output_type": "display_data"
    },
    {
     "data": {
      "application/vnd.jupyter.widget-view+json": {
       "model_id": "7c7e4f22b364495a90bc20c1046ff328",
       "version_major": 2,
       "version_minor": 0
      },
      "text/plain": [
       "  0%|          | 0/6396 [00:00<?, ?it/s]"
      ]
     },
     "metadata": {},
     "output_type": "display_data"
    },
    {
     "data": {
      "application/vnd.jupyter.widget-view+json": {
       "model_id": "7ed9d0d70a784f3d9efa5b5a3057ec13",
       "version_major": 2,
       "version_minor": 0
      },
      "text/plain": [
       "  0%|          | 0/6396 [00:00<?, ?it/s]"
      ]
     },
     "metadata": {},
     "output_type": "display_data"
    },
    {
     "data": {
      "application/vnd.jupyter.widget-view+json": {
       "model_id": "759355f9ac3740d7aaf135a191e07927",
       "version_major": 2,
       "version_minor": 0
      },
      "text/plain": [
       "  0%|          | 0/3635 [00:00<?, ?it/s]"
      ]
     },
     "metadata": {},
     "output_type": "display_data"
    },
    {
     "data": {
      "application/vnd.jupyter.widget-view+json": {
       "model_id": "ebe2c45d1a79460ea0d3cb0f318243a4",
       "version_major": 2,
       "version_minor": 0
      },
      "text/plain": [
       "  0%|          | 0/3635 [00:00<?, ?it/s]"
      ]
     },
     "metadata": {},
     "output_type": "display_data"
    },
    {
     "data": {
      "application/vnd.jupyter.widget-view+json": {
       "model_id": "f4df42aa882a4c1ea06ff72d0afbe15b",
       "version_major": 2,
       "version_minor": 0
      },
      "text/plain": [
       "  0%|          | 0/3635 [00:00<?, ?it/s]"
      ]
     },
     "metadata": {},
     "output_type": "display_data"
    },
    {
     "data": {
      "application/vnd.jupyter.widget-view+json": {
       "model_id": "6ec46434cc264fb39af4c06e382722a2",
       "version_major": 2,
       "version_minor": 0
      },
      "text/plain": [
       "  0%|          | 0/6001 [00:00<?, ?it/s]"
      ]
     },
     "metadata": {},
     "output_type": "display_data"
    },
    {
     "data": {
      "application/vnd.jupyter.widget-view+json": {
       "model_id": "9b1aad3333ce43448cae416b7fb26f56",
       "version_major": 2,
       "version_minor": 0
      },
      "text/plain": [
       "  0%|          | 0/6001 [00:00<?, ?it/s]"
      ]
     },
     "metadata": {},
     "output_type": "display_data"
    },
    {
     "data": {
      "application/vnd.jupyter.widget-view+json": {
       "model_id": "199d4c2972c649f4b98316618ac3d48f",
       "version_major": 2,
       "version_minor": 0
      },
      "text/plain": [
       "  0%|          | 0/6001 [00:00<?, ?it/s]"
      ]
     },
     "metadata": {},
     "output_type": "display_data"
    }
   ],
   "source": [
    "from xmen.reranking.cross_encoder import *\n",
    "ce_dataset_all = CrossEncoderReranker.prepare_data(candidates_manual_all, dataset, kb)"
   ]
  },
  {
   "cell_type": "code",
   "execution_count": null,
   "id": "ab585f3c-c829-4fbb-912f-c826545a362b",
   "metadata": {
    "tags": []
   },
   "outputs": [
    {
     "name": "stdout",
     "output_type": "stream",
     "text": [
      "model_name := PlanTL-GOB-ES/roberta-base-biomedical-clinical-es\n",
      "num_train_epochs := 10\n",
      "fp16 := True\n",
      "label_smoothing := False\n",
      "rank_regularization := 1.0\n",
      "train_layers := None\n",
      "softmax_loss := True\n",
      "random_seed := 42\n",
      "learning_rate := 2e-05\n"
     ]
    },
    {
     "name": "stderr",
     "output_type": "stream",
     "text": [
      "Some weights of the model checkpoint at PlanTL-GOB-ES/roberta-base-biomedical-clinical-es were not used when initializing RobertaForSequenceClassification: ['lm_head.decoder.weight', 'lm_head.bias', 'lm_head.layer_norm.bias', 'lm_head.dense.weight', 'lm_head.layer_norm.weight', 'lm_head.decoder.bias', 'lm_head.dense.bias']\n",
      "- This IS expected if you are initializing RobertaForSequenceClassification from the checkpoint of a model trained on another task or with another architecture (e.g. initializing a BertForSequenceClassification model from a BertForPreTraining model).\n",
      "- This IS NOT expected if you are initializing RobertaForSequenceClassification from the checkpoint of a model that you expect to be exactly identical (initializing a BertForSequenceClassification model from a BertForSequenceClassification model).\n",
      "Some weights of RobertaForSequenceClassification were not initialized from the model checkpoint at PlanTL-GOB-ES/roberta-base-biomedical-clinical-es and are newly initialized: ['classifier.dense.weight', 'classifier.dense.bias', 'classifier.out_proj.weight', 'classifier.out_proj.bias']\n",
      "You should probably TRAIN this model on a down-stream task to be able to use it for predictions and inference.\n"
     ]
    },
    {
     "name": "stdout",
     "output_type": "stream",
     "text": [
      "2024-07-02 14:20:11 - Use pytorch device: cuda\n"
     ]
    },
    {
     "data": {
      "application/vnd.jupyter.widget-view+json": {
       "model_id": "2642641534bc4463b04074c9570ca540",
       "version_major": 2,
       "version_minor": 0
      },
      "text/plain": [
       "Epoch:   0%|          | 0/10 [00:00<?, ?it/s]"
      ]
     },
     "metadata": {},
     "output_type": "display_data"
    },
    {
     "data": {
      "application/vnd.jupyter.widget-view+json": {
       "model_id": "5382cd91dafe4fa9ae4551f4e54d9a8f",
       "version_major": 2,
       "version_minor": 0
      },
      "text/plain": [
       "Iteration:   0%|          | 0/6396 [00:00<?, ?it/s]"
      ]
     },
     "metadata": {},
     "output_type": "display_data"
    },
    {
     "name": "stdout",
     "output_type": "stream",
     "text": [
      "2024-07-02 14:34:19 - EntityLinkingEvaluator: Evaluating the model on eval dataset after epoch 0:\n",
      "2024-07-02 14:42:49 - Accuracy: 0.803032827862023\n",
      "2024-07-02 14:42:49 - Accuracy @ 5: 0.9166805532411265\n",
      "2024-07-02 14:42:49 - Accuracy @ 64: 0.9775037493751042\n",
      "2024-07-02 14:42:49 - Baseline Accuracy: 0.5114147642059657\n",
      "2024-07-02 14:42:49 - Save model to ./output/cross_encoder\n"
     ]
    },
    {
     "data": {
      "application/vnd.jupyter.widget-view+json": {
       "model_id": "34edf6bf60b14fcc8f9dd479731f8189",
       "version_major": 2,
       "version_minor": 0
      },
      "text/plain": [
       "Iteration:   0%|          | 0/6396 [00:00<?, ?it/s]"
      ]
     },
     "metadata": {},
     "output_type": "display_data"
    }
   ],
   "source": [
    "#rr_fs = CrossEncoderReranker()\n",
    "#args = CrossEncoderTrainingArgs(num_train_epochs=10, model_name=\"PlanTL-GOB-ES/roberta-base-biomedical-clinical-es\")\n",
    "#rr_fs.fit(args, ce_dataset_all[\"train\"].dataset, ce_dataset_all[\"validation\"].dataset, show_progress_bar=True)"
   ]
  },
  {
   "cell_type": "code",
   "execution_count": null,
   "id": "6c238daa-e401-4dff-9825-bc9093df2426",
   "metadata": {},
   "outputs": [],
   "source": [
    "# Train the cross-encoder on the training set and use the validation set for model selection\n",
    "rr_fs = CrossEncoderReranker.load('../cross_encoder_model_2024_07_02', device=0)"
   ]
  },
  {
   "cell_type": "code",
   "execution_count": 47,
   "id": "d09c3b36-bf23-4284-a67f-d832614f2424",
   "metadata": {
    "tags": []
   },
   "outputs": [
    {
     "data": {
      "application/vnd.jupyter.widget-view+json": {
       "model_id": "f26625ff328d4cf3bfe7ffa0f85d1d77",
       "version_major": 2,
       "version_minor": 0
      },
      "text/plain": [
       "Batches:   0%|          | 0/3635 [00:00<?, ?it/s]"
      ]
     },
     "metadata": {},
     "output_type": "display_data"
    },
    {
     "data": {
      "application/vnd.jupyter.widget-view+json": {
       "model_id": "07fb87878444436cbcbdcc2af32f91b6",
       "version_major": 2,
       "version_minor": 0
      },
      "text/plain": [
       "Map:   0%|          | 0/300 [00:00<?, ? examples/s]"
      ]
     },
     "metadata": {},
     "output_type": "display_data"
    },
    {
     "data": {
      "application/vnd.jupyter.widget-view+json": {
       "model_id": "aef55ea566b94cfb9c38a1495d049dd3",
       "version_major": 2,
       "version_minor": 0
      },
      "text/plain": [
       "Map:   0%|          | 0/300 [00:00<?, ? examples/s]"
      ]
     },
     "metadata": {},
     "output_type": "display_data"
    }
   ],
   "source": [
    "# Predict on test set\n",
    "prediction_fs = rr_fs.rerank_batch(candidates_manual_all[\"test\"], ce_dataset_all[\"test\"])"
   ]
  },
  {
   "cell_type": "code",
   "execution_count": 48,
   "id": "832979d9-1b01-4101-9fd5-5e6829e1762b",
   "metadata": {
    "tags": []
   },
   "outputs": [
    {
     "data": {
      "text/plain": [
       "{'strict': {'precision': 0.8728691129731292,\n",
       "  'recall': 0.8310866574965612,\n",
       "  'fscore': 0.8514656144306652,\n",
       "  'ptp': 3021,\n",
       "  'fp': 440,\n",
       "  'rtp': 3021,\n",
       "  'fn': 614,\n",
       "  'n_docs_system': 300,\n",
       "  'n_annos_system': 3461,\n",
       "  'n_docs_gold': 300,\n",
       "  'n_annos_gold': 3635}}"
      ]
     },
     "execution_count": 48,
     "metadata": {},
     "output_type": "execute_result"
    }
   ],
   "source": [
    "evaluate(dataset['test'], prediction_fs)"
   ]
  },
  {
   "cell_type": "code",
   "execution_count": 49,
   "id": "7cd1f561-a2fe-47ff-9099-c667303ba039",
   "metadata": {
    "tags": []
   },
   "outputs": [
    {
     "name": "stdout",
     "output_type": "stream",
     "text": [
      "Recall@1 0.8310866574965612\n",
      "Recall@2 0.8530949105914718\n",
      "Recall@4 0.8693259972489684\n",
      "Recall@8 0.874828060522696\n",
      "Recall@16 0.8797799174690509\n",
      "Recall@32 0.8847317744154057\n",
      "Recall@64 0.8891334250343879\n"
     ]
    }
   ],
   "source": [
    "_ = evaluate_at_k(dataset['test'], prediction_fs)"
   ]
  },
  {
   "cell_type": "code",
   "execution_count": 50,
   "id": "83f9c024-77c2-461e-b38c-dad379a0b7f8",
   "metadata": {
    "tags": []
   },
   "outputs": [],
   "source": [
    "# After re-ranking\n",
    "ea_df_reranked = error_analysis(dataset['test'], prediction_fs, tasks=['nen'])"
   ]
  },
  {
   "cell_type": "code",
   "execution_count": 51,
   "id": "ea6c804f-c1f5-4b4a-8003-2a7d30409789",
   "metadata": {},
   "outputs": [
    {
     "data": {
      "text/html": [
       "<div>\n",
       "<style scoped>\n",
       "    .dataframe tbody tr th:only-of-type {\n",
       "        vertical-align: middle;\n",
       "    }\n",
       "\n",
       "    .dataframe tbody tr th {\n",
       "        vertical-align: top;\n",
       "    }\n",
       "\n",
       "    .dataframe thead th {\n",
       "        text-align: right;\n",
       "    }\n",
       "</style>\n",
       "<table border=\"1\" class=\"dataframe\">\n",
       "  <thead>\n",
       "    <tr style=\"text-align: right;\">\n",
       "      <th></th>\n",
       "      <th>_word_len</th>\n",
       "      <th>_abbrev</th>\n",
       "      <th>gt_start</th>\n",
       "      <th>gt_end</th>\n",
       "      <th>gt_text</th>\n",
       "      <th>gold_type</th>\n",
       "      <th>gold_concept</th>\n",
       "      <th>pred_index</th>\n",
       "      <th>pred_index_score</th>\n",
       "      <th>pred_top</th>\n",
       "      <th>pred_top_score</th>\n",
       "      <th>document_id</th>\n",
       "    </tr>\n",
       "  </thead>\n",
       "  <tbody>\n",
       "    <tr>\n",
       "      <th>0</th>\n",
       "      <td>1</td>\n",
       "      <td>False</td>\n",
       "      <td>129</td>\n",
       "      <td>139</td>\n",
       "      <td>[tumoración]</td>\n",
       "      <td>MORFOLOGIA_NEOPLASIA</td>\n",
       "      <td>{'db_name': 'eCIE-O-3.1', 'db_id': '8000/1'}</td>\n",
       "      <td>0</td>\n",
       "      <td>0.056426</td>\n",
       "      <td>8000/1</td>\n",
       "      <td>0.056426</td>\n",
       "      <td>cc_onco1197</td>\n",
       "    </tr>\n",
       "    <tr>\n",
       "      <th>1</th>\n",
       "      <td>2</td>\n",
       "      <td>False</td>\n",
       "      <td>354</td>\n",
       "      <td>370</td>\n",
       "      <td>[carcinoma ductal]</td>\n",
       "      <td>MORFOLOGIA_NEOPLASIA</td>\n",
       "      <td>{'db_name': 'eCIE-O-3.1', 'db_id': '8500/3'}</td>\n",
       "      <td>0</td>\n",
       "      <td>0.055484</td>\n",
       "      <td>8500/3</td>\n",
       "      <td>0.055484</td>\n",
       "      <td>cc_onco1197</td>\n",
       "    </tr>\n",
       "    <tr>\n",
       "      <th>2</th>\n",
       "      <td>1</td>\n",
       "      <td>False</td>\n",
       "      <td>439</td>\n",
       "      <td>450</td>\n",
       "      <td>[metastásica]</td>\n",
       "      <td>MORFOLOGIA_NEOPLASIA</td>\n",
       "      <td>{'db_name': 'eCIE-O-3.1', 'db_id': '8000/6'}</td>\n",
       "      <td>0</td>\n",
       "      <td>0.055176</td>\n",
       "      <td>8000/6</td>\n",
       "      <td>0.055176</td>\n",
       "      <td>cc_onco1197</td>\n",
       "    </tr>\n",
       "    <tr>\n",
       "      <th>3</th>\n",
       "      <td>1</td>\n",
       "      <td>False</td>\n",
       "      <td>1587</td>\n",
       "      <td>1599</td>\n",
       "      <td>[metastásicos]</td>\n",
       "      <td>MORFOLOGIA_NEOPLASIA</td>\n",
       "      <td>{'db_name': 'eCIE-O-3.1', 'db_id': '8000/6'}</td>\n",
       "      <td>0</td>\n",
       "      <td>0.066785</td>\n",
       "      <td>8000/6</td>\n",
       "      <td>0.066785</td>\n",
       "      <td>cc_onco1197</td>\n",
       "    </tr>\n",
       "    <tr>\n",
       "      <th>4</th>\n",
       "      <td>1</td>\n",
       "      <td>False</td>\n",
       "      <td>1699</td>\n",
       "      <td>1706</td>\n",
       "      <td>[tumoral]</td>\n",
       "      <td>MORFOLOGIA_NEOPLASIA</td>\n",
       "      <td>{'db_name': 'eCIE-O-3.1', 'db_id': '8000/1'}</td>\n",
       "      <td>0</td>\n",
       "      <td>0.043706</td>\n",
       "      <td>8000/1</td>\n",
       "      <td>0.043706</td>\n",
       "      <td>cc_onco1197</td>\n",
       "    </tr>\n",
       "    <tr>\n",
       "      <th>...</th>\n",
       "      <td>...</td>\n",
       "      <td>...</td>\n",
       "      <td>...</td>\n",
       "      <td>...</td>\n",
       "      <td>...</td>\n",
       "      <td>...</td>\n",
       "      <td>...</td>\n",
       "      <td>...</td>\n",
       "      <td>...</td>\n",
       "      <td>...</td>\n",
       "      <td>...</td>\n",
       "      <td>...</td>\n",
       "    </tr>\n",
       "    <tr>\n",
       "      <th>3630</th>\n",
       "      <td>1</td>\n",
       "      <td>False</td>\n",
       "      <td>288</td>\n",
       "      <td>297</td>\n",
       "      <td>[neoplasia]</td>\n",
       "      <td>MORFOLOGIA_NEOPLASIA</td>\n",
       "      <td>{'db_name': 'eCIE-O-3.1', 'db_id': '8000/1'}</td>\n",
       "      <td>0</td>\n",
       "      <td>0.046987</td>\n",
       "      <td>8000/1</td>\n",
       "      <td>0.046987</td>\n",
       "      <td>cc_onco1263</td>\n",
       "    </tr>\n",
       "    <tr>\n",
       "      <th>3631</th>\n",
       "      <td>6</td>\n",
       "      <td>False</td>\n",
       "      <td>434</td>\n",
       "      <td>468</td>\n",
       "      <td>[adenocarcinoma de recto de grado 1]</td>\n",
       "      <td>MORFOLOGIA_NEOPLASIA</td>\n",
       "      <td>{'db_name': 'eCIE-O-3.1', 'db_id': '8140/31'}</td>\n",
       "      <td>-1</td>\n",
       "      <td>NaN</td>\n",
       "      <td>8000/6</td>\n",
       "      <td>0.020674</td>\n",
       "      <td>cc_onco1263</td>\n",
       "    </tr>\n",
       "    <tr>\n",
       "      <th>3632</th>\n",
       "      <td>1</td>\n",
       "      <td>False</td>\n",
       "      <td>495</td>\n",
       "      <td>502</td>\n",
       "      <td>[cT3N0M0]</td>\n",
       "      <td>MORFOLOGIA_NEOPLASIA</td>\n",
       "      <td>{'db_name': 'eCIE-O-3.1', 'db_id': '8000/6'}</td>\n",
       "      <td>0</td>\n",
       "      <td>0.076871</td>\n",
       "      <td>8000/6</td>\n",
       "      <td>0.076871</td>\n",
       "      <td>cc_onco1263</td>\n",
       "    </tr>\n",
       "    <tr>\n",
       "      <th>3633</th>\n",
       "      <td>2</td>\n",
       "      <td>False</td>\n",
       "      <td>847</td>\n",
       "      <td>864</td>\n",
       "      <td>[adenocarcinoma G3]</td>\n",
       "      <td>MORFOLOGIA_NEOPLASIA</td>\n",
       "      <td>{'db_name': 'eCIE-O-3.1', 'db_id': '8140/33'}</td>\n",
       "      <td>0</td>\n",
       "      <td>0.018867</td>\n",
       "      <td>8140/33</td>\n",
       "      <td>0.018867</td>\n",
       "      <td>cc_onco1263</td>\n",
       "    </tr>\n",
       "    <tr>\n",
       "      <th>3634</th>\n",
       "      <td>4</td>\n",
       "      <td>False</td>\n",
       "      <td>1829</td>\n",
       "      <td>1855</td>\n",
       "      <td>[Adenocarcinoma de recto G3]</td>\n",
       "      <td>MORFOLOGIA_NEOPLASIA</td>\n",
       "      <td>{'db_name': 'eCIE-O-3.1', 'db_id': '8140/33'}</td>\n",
       "      <td>1</td>\n",
       "      <td>0.017497</td>\n",
       "      <td>8000/6</td>\n",
       "      <td>0.020827</td>\n",
       "      <td>cc_onco1263</td>\n",
       "    </tr>\n",
       "  </tbody>\n",
       "</table>\n",
       "<p>3635 rows × 12 columns</p>\n",
       "</div>"
      ],
      "text/plain": [
       "      _word_len  _abbrev  gt_start  gt_end  \\\n",
       "0             1    False       129     139   \n",
       "1             2    False       354     370   \n",
       "2             1    False       439     450   \n",
       "3             1    False      1587    1599   \n",
       "4             1    False      1699    1706   \n",
       "...         ...      ...       ...     ...   \n",
       "3630          1    False       288     297   \n",
       "3631          6    False       434     468   \n",
       "3632          1    False       495     502   \n",
       "3633          2    False       847     864   \n",
       "3634          4    False      1829    1855   \n",
       "\n",
       "                                   gt_text             gold_type  \\\n",
       "0                             [tumoración]  MORFOLOGIA_NEOPLASIA   \n",
       "1                       [carcinoma ductal]  MORFOLOGIA_NEOPLASIA   \n",
       "2                            [metastásica]  MORFOLOGIA_NEOPLASIA   \n",
       "3                           [metastásicos]  MORFOLOGIA_NEOPLASIA   \n",
       "4                                [tumoral]  MORFOLOGIA_NEOPLASIA   \n",
       "...                                    ...                   ...   \n",
       "3630                           [neoplasia]  MORFOLOGIA_NEOPLASIA   \n",
       "3631  [adenocarcinoma de recto de grado 1]  MORFOLOGIA_NEOPLASIA   \n",
       "3632                             [cT3N0M0]  MORFOLOGIA_NEOPLASIA   \n",
       "3633                   [adenocarcinoma G3]  MORFOLOGIA_NEOPLASIA   \n",
       "3634          [Adenocarcinoma de recto G3]  MORFOLOGIA_NEOPLASIA   \n",
       "\n",
       "                                       gold_concept  pred_index  \\\n",
       "0      {'db_name': 'eCIE-O-3.1', 'db_id': '8000/1'}           0   \n",
       "1      {'db_name': 'eCIE-O-3.1', 'db_id': '8500/3'}           0   \n",
       "2      {'db_name': 'eCIE-O-3.1', 'db_id': '8000/6'}           0   \n",
       "3      {'db_name': 'eCIE-O-3.1', 'db_id': '8000/6'}           0   \n",
       "4      {'db_name': 'eCIE-O-3.1', 'db_id': '8000/1'}           0   \n",
       "...                                             ...         ...   \n",
       "3630   {'db_name': 'eCIE-O-3.1', 'db_id': '8000/1'}           0   \n",
       "3631  {'db_name': 'eCIE-O-3.1', 'db_id': '8140/31'}          -1   \n",
       "3632   {'db_name': 'eCIE-O-3.1', 'db_id': '8000/6'}           0   \n",
       "3633  {'db_name': 'eCIE-O-3.1', 'db_id': '8140/33'}           0   \n",
       "3634  {'db_name': 'eCIE-O-3.1', 'db_id': '8140/33'}           1   \n",
       "\n",
       "      pred_index_score pred_top  pred_top_score  document_id  \n",
       "0             0.056426   8000/1        0.056426  cc_onco1197  \n",
       "1             0.055484   8500/3        0.055484  cc_onco1197  \n",
       "2             0.055176   8000/6        0.055176  cc_onco1197  \n",
       "3             0.066785   8000/6        0.066785  cc_onco1197  \n",
       "4             0.043706   8000/1        0.043706  cc_onco1197  \n",
       "...                ...      ...             ...          ...  \n",
       "3630          0.046987   8000/1        0.046987  cc_onco1263  \n",
       "3631               NaN   8000/6        0.020674  cc_onco1263  \n",
       "3632          0.076871   8000/6        0.076871  cc_onco1263  \n",
       "3633          0.018867  8140/33        0.018867  cc_onco1263  \n",
       "3634          0.017497   8000/6        0.020827  cc_onco1263  \n",
       "\n",
       "[3635 rows x 12 columns]"
      ]
     },
     "execution_count": 51,
     "metadata": {},
     "output_type": "execute_result"
    }
   ],
   "source": [
    "ea_df_reranked"
   ]
  },
  {
   "cell_type": "code",
   "execution_count": null,
   "id": "c167ca42-5131-4cc4-8616-ff5ca7ed88a5",
   "metadata": {},
   "outputs": [],
   "source": []
  }
 ],
 "metadata": {
  "kernelspec": {
   "display_name": "Python [conda env:xmen_notebooks]",
   "language": "python",
   "name": "conda-env-xmen_notebooks-py"
  },
  "language_info": {
   "codemirror_mode": {
    "name": "ipython",
    "version": 3
   },
   "file_extension": ".py",
   "mimetype": "text/x-python",
   "name": "python",
   "nbconvert_exporter": "python",
   "pygments_lexer": "ipython3",
   "version": "3.10.11"
  }
 },
 "nbformat": 4,
 "nbformat_minor": 5
}
